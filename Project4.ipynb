{
 "cells": [
  {
   "cell_type": "markdown",
   "metadata": {
    "id": "lMfgfu-92h_G"
   },
   "source": [
    "# Machine Learning (COSC 522)\n",
    "## Project 4"
   ]
  },
  {
   "cell_type": "code",
   "execution_count": 1,
   "metadata": {
    "colab": {
     "base_uri": "https://localhost:8080/",
     "height": 104,
     "referenced_widgets": [
      "bef1f5d27c9044cea3c3ce3d0b2d9b22",
      "6869c83db0ef4fb3976778d7ff2ae0d1",
      "3b2d24b5f469485d90a293faa0d58ad7"
     ]
    },
    "executionInfo": {
     "elapsed": 169,
     "status": "ok",
     "timestamp": 1635566024528,
     "user": {
      "displayName": "Kostas Georgiou",
      "photoUrl": "https://lh3.googleusercontent.com/a-/AOh14GhzP5qrxeKXeuneTscU-PqTEiyBLJpOwQ-olOc2x5s=s64",
      "userId": "10199933473437407446"
     },
     "user_tz": 240
    },
    "id": "5VE7NGDHezII",
    "outputId": "645c797a-62f9-41cf-cec6-d8ba1f9a3054"
   },
   "outputs": [
    {
     "name": "stdout",
     "output_type": "stream",
     "text": [
      "Are you on Google Collab?\n"
     ]
    },
    {
     "data": {
      "application/vnd.jupyter.widget-view+json": {
       "model_id": "a4aafb5aff4a4fe98e31c1693ec01966",
       "version_major": 2,
       "version_minor": 0
      },
      "text/plain": [
       "Button(description='Yes', style=ButtonStyle())"
      ]
     },
     "metadata": {},
     "output_type": "display_data"
    }
   ],
   "source": [
    "# Import Jupyter Widgets\n",
    "import os\n",
    "import ipywidgets as widgets\n",
    "from ipywidgets import interact, interact_manual\n",
    "from IPython.display import display\n",
    "# Clone the repository if you're in Google Collab\n",
    "# from google.colab import drive\n",
    "# drive.mount('/content/drive', force_remount=False)\n",
    "def mount_and_change_dir(is_collab: bool = False):\n",
    "    # Set working directory\n",
    "    project_path = '/content/drive/MyDrive/Projects/UTK/COSC522'\n",
    "    os.chdir(project_path)\n",
    "    print(os.listdir(project_path))\n",
    "       \n",
    "print(\"Are you on Google Collab?\")\n",
    "btn = widgets.Button(description=\"Yes\")\n",
    "btn.on_click(mount_and_change_dir)\n",
    "display(btn)"
   ]
  },
  {
   "cell_type": "markdown",
   "metadata": {
    "id": "da95WuxPAb1H"
   },
   "source": [
    "## Initializations"
   ]
  },
  {
   "cell_type": "code",
   "execution_count": 2,
   "metadata": {
    "colab": {
     "base_uri": "https://localhost:8080/"
    },
    "executionInfo": {
     "elapsed": 4471,
     "status": "ok",
     "timestamp": 1635566033952,
     "user": {
      "displayName": "Kostas Georgiou",
      "photoUrl": "https://lh3.googleusercontent.com/a-/AOh14GhzP5qrxeKXeuneTscU-PqTEiyBLJpOwQ-olOc2x5s=s64",
      "userId": "10199933473437407446"
     },
     "user_tz": 240
    },
    "id": "jJQ2iY7AosLj",
    "outputId": "b5b0301a-82b0-4b67-8a1a-029cfffe6d84"
   },
   "outputs": [],
   "source": [
    "# Imports\n",
    "%load_ext autoreload\n",
    "%autoreload 2\n",
    "%matplotlib inline\n",
    "%config InlineBackend.figure_formats = ['png']\n",
    "\n",
    "import numpy as np\n",
    "import matplotlib.pyplot as plt\n",
    "from time import time\n",
    "from pprint import pprint\n",
    "import seaborn as sns\n",
    "from scipy.stats import uniform, gaussian_kde, norm\n",
    "from typing import *\n",
    "from tqdm.notebook import tqdm\n",
    "\n",
    "from custom_libs import ColorizedLogger\n",
    "\n",
    "sns.set_style('darkgrid')\n",
    "\n",
    "logger = ColorizedLogger('Project4', 'yellow')"
   ]
  },
  {
   "cell_type": "markdown",
   "metadata": {
    "id": "5cE8tKTcUdaE"
   },
   "source": [
    "### Load Models"
   ]
  },
  {
   "cell_type": "code",
   "execution_count": 3,
   "metadata": {
    "executionInfo": {
     "elapsed": 2161,
     "status": "ok",
     "timestamp": 1635566036105,
     "user": {
      "displayName": "Kostas Georgiou",
      "photoUrl": "https://lh3.googleusercontent.com/a-/AOh14GhzP5qrxeKXeuneTscU-PqTEiyBLJpOwQ-olOc2x5s=s64",
      "userId": "10199933473437407446"
     },
     "user_tz": 240
    },
    "id": "BQLpalPiUdaE"
   },
   "outputs": [],
   "source": [
    "# Located in <project root>/custom_libs/Project4\n",
    "import custom_libs.Project4.models as p4_models\n",
    "import custom_libs.Project4.nielsens_model as n_model"
   ]
  },
  {
   "cell_type": "markdown",
   "metadata": {
    "id": "7SI1Ep9tUdaE"
   },
   "source": [
    "### Load Plotting Functions"
   ]
  },
  {
   "cell_type": "code",
   "execution_count": 146,
   "metadata": {
    "executionInfo": {
     "elapsed": 5,
     "status": "ok",
     "timestamp": 1635566036105,
     "user": {
      "displayName": "Kostas Georgiou",
      "photoUrl": "https://lh3.googleusercontent.com/a-/AOh14GhzP5qrxeKXeuneTscU-PqTEiyBLJpOwQ-olOc2x5s=s64",
      "userId": "10199933473437407446"
     },
     "user_tz": 240
    },
    "id": "jElQVv2D7b0T"
   },
   "outputs": [],
   "source": [
    "def plot_results(losses, accuracies, times, subsample=100):\n",
    "    losses_ = losses[::subsample]\n",
    "    losses_ = list(zip(*losses_))    \n",
    "    loss_names = []    \n",
    "    loss_values= []\n",
    "\n",
    "    for loss in losses_:\n",
    "        loss_name, values = list(zip(*loss))\n",
    "        loss_names.append(loss_name[0])\n",
    "        loss_values.append(values)   \n",
    "    \n",
    "    accuracies_ = accuracies[::subsample]\n",
    "    times_ = times[::subsample]\n",
    "    x = np.arange(1, len(accuracies_)+1)\n",
    "    \n",
    "    \n",
    "    fig, ax = plt.subplots(2, 2, figsize=(11, 4))\n",
    "    # Accuracies\n",
    "    ax[0][0].plot(x, accuracies_)\n",
    "    ax[0][0].set_title('accuracies')\n",
    "    xticks = ax[0][0].get_xticks().tolist()\n",
    "    ax[0][0].set_yticks([0, 0.25, 0.5, 0.75, 1])\n",
    "    ax[0][0].set_xticklabels([int(xtick*subsample) for xtick in xticks])\n",
    "    # Times\n",
    "    ax[0][1].plot(x, times_)\n",
    "    ax[0][1].set_title('times')\n",
    "    xticks = ax[0][1].get_xticks().tolist()\n",
    "    # ax[0][1].set_yticks([0, 0.25, 0.5, 0.75, 1])\n",
    "    ax[0][1].set_xticklabels([int(xtick*subsample) for xtick in xticks])\n",
    "    for ind, (name, loss) in enumerate(zip(loss_names, loss_values)):\n",
    "        try:\n",
    "            ax[1][ind].plot(x, loss)\n",
    "            ax[1][ind].set_title(name)\n",
    "            xticks = ax[1][ind].get_xticks().tolist()\n",
    "            ax[1][ind].set_xticklabels([int(xtick*subsample) for xtick in xticks])\n",
    "        except Exception:\n",
    "            print(\"skipping \", name)\n",
    "    fig.tight_layout()\n",
    "        "
   ]
  },
  {
   "cell_type": "markdown",
   "metadata": {
    "id": "qw-gMeLen3ri"
   },
   "source": [
    "### Load the two datasets and Preprocess them"
   ]
  },
  {
   "cell_type": "code",
   "execution_count": 5,
   "metadata": {
    "executionInfo": {
     "elapsed": 178,
     "status": "ok",
     "timestamp": 1635566065379,
     "user": {
      "displayName": "Kostas Georgiou",
      "photoUrl": "https://lh3.googleusercontent.com/a-/AOh14GhzP5qrxeKXeuneTscU-PqTEiyBLJpOwQ-olOc2x5s=s64",
      "userId": "10199933473437407446"
     },
     "user_tz": 240
    },
    "id": "83d_grkog376"
   },
   "outputs": [],
   "source": [
    "# Located in <project root>/custom_libs/Project4\n",
    "import custom_libs.Project4.data_loader as dl"
   ]
  },
  {
   "cell_type": "code",
   "execution_count": 6,
   "metadata": {
    "executionInfo": {
     "elapsed": 213,
     "status": "ok",
     "timestamp": 1635566065756,
     "user": {
      "displayName": "Kostas Georgiou",
      "photoUrl": "https://lh3.googleusercontent.com/a-/AOh14GhzP5qrxeKXeuneTscU-PqTEiyBLJpOwQ-olOc2x5s=s64",
      "userId": "10199933473437407446"
     },
     "user_tz": 240
    },
    "id": "OR5xan8AtBZf"
   },
   "outputs": [],
   "source": [
    "# Create a Data Loader\n",
    "datasets = ['xor', 'mnist']\n",
    "data_loader = dl.DataLoader(datasets=datasets, data_folder='data')"
   ]
  },
  {
   "cell_type": "code",
   "execution_count": 7,
   "metadata": {
    "colab": {
     "base_uri": "https://localhost:8080/"
    },
    "executionInfo": {
     "elapsed": 5,
     "status": "ok",
     "timestamp": 1635566065756,
     "user": {
      "displayName": "Kostas Georgiou",
      "photoUrl": "https://lh3.googleusercontent.com/a-/AOh14GhzP5qrxeKXeuneTscU-PqTEiyBLJpOwQ-olOc2x5s=s64",
      "userId": "10199933473437407446"
     },
     "user_tz": 240
    },
    "id": "gFRYco0bllf3",
    "outputId": "e77fc57d-f938-4640-8f04-88d01f6885aa"
   },
   "outputs": [
    {
     "name": "stdout",
     "output_type": "stream",
     "text": [
      "xor_data\n",
      " [[0 0 0]\n",
      " [0 1 1]\n",
      " [1 0 1]\n",
      " [1 1 0]]\n"
     ]
    }
   ],
   "source": [
    "# Get the two datasets\n",
    "datasets = data_loader.get_datasets()\n",
    "xor_data = datasets['xor']\n",
    "mnist_tr, mnist_te, mnist_val = datasets['mnist']\n",
    "print(\"xor_data\\n\", xor_data)"
   ]
  },
  {
   "cell_type": "code",
   "execution_count": 8,
   "metadata": {
    "colab": {
     "base_uri": "https://localhost:8080/"
    },
    "executionInfo": {
     "elapsed": 1679,
     "status": "ok",
     "timestamp": 1635566158165,
     "user": {
      "displayName": "Kostas Georgiou",
      "photoUrl": "https://lh3.googleusercontent.com/a-/AOh14GhzP5qrxeKXeuneTscU-PqTEiyBLJpOwQ-olOc2x5s=s64",
      "userId": "10199933473437407446"
     },
     "user_tz": 240
    },
    "id": "E_LTaN66UdaH",
    "outputId": "253fd306-d5b2-4af5-a36e-9982285d8275"
   },
   "outputs": [
    {
     "name": "stdout",
     "output_type": "stream",
     "text": [
      "xor_data_norm\n",
      " [[-0.5 -0.5  0. ]\n",
      " [-0.5  0.5  1. ]\n",
      " [ 0.5 -0.5  1. ]\n",
      " [ 0.5  0.5  0. ]]\n",
      "xor_data_stand\n",
      " [[-1. -1.  0.]\n",
      " [-1.  1.  1.]\n",
      " [ 1. -1.  1.]\n",
      " [ 1.  1.  0.]]\n"
     ]
    }
   ],
   "source": [
    "# Normalize and standarize them\n",
    "# xor\n",
    "xor_data_norm = data_loader.normalize_(xor_data)[0]\n",
    "xor_data_stand = data_loader.standarize_(xor_data)[0]\n",
    "print(\"xor_data_norm\\n\", xor_data_norm)\n",
    "print(\"xor_data_stand\\n\", xor_data_stand)\n",
    "# mnist\n",
    "mnist_tr_norm, mnist_te_norm, mnist_val_norm = data_loader.normalize_(mnist_tr, \n",
    "                                                                      mnist_te,\n",
    "                                                                      mnist_val)\n",
    "mnist_tr_stand, mnist_te_stand, mnist_val_stand = data_loader.standarize_(mnist_tr, \n",
    "                                                                          mnist_te,\n",
    "                                                                          mnist_val)"
   ]
  },
  {
   "cell_type": "code",
   "execution_count": 94,
   "metadata": {
    "colab": {
     "base_uri": "https://localhost:8080/"
    },
    "executionInfo": {
     "elapsed": 5,
     "status": "ok",
     "timestamp": 1635566066554,
     "user": {
      "displayName": "Kostas Georgiou",
      "photoUrl": "https://lh3.googleusercontent.com/a-/AOh14GhzP5qrxeKXeuneTscU-PqTEiyBLJpOwQ-olOc2x5s=s64",
      "userId": "10199933473437407446"
     },
     "user_tz": 240
    },
    "id": "eLsOJhy4UdaH",
    "outputId": "86d0985a-0b8a-423f-bf2d-0d8ee4af17e9"
   },
   "outputs": [
    {
     "name": "stdout",
     "output_type": "stream",
     "text": [
      "XOR Y one hot encoded\n",
      " [[1. 0.]\n",
      " [0. 1.]\n",
      " [0. 1.]\n",
      " [1. 0.]]\n"
     ]
    }
   ],
   "source": [
    "# One Hot Encode the target values\n",
    "# xor\n",
    "xor_y_one_hot = data_loader.one_hot_encode_last(xor_data)\n",
    "print(\"XOR Y one hot encoded\\n\", xor_y_one_hot)\n",
    "# Mnist\n",
    "mnist_tr_y_one_hot = data_loader.one_hot_encode_last(mnist_tr)\n",
    "mnist_te_y_one_hot = data_loader.one_hot_encode_last(mnist_te)\n",
    "mnist_val_y_one_hot = data_loader.one_hot_encode_last(mnist_val)"
   ]
  },
  {
   "cell_type": "markdown",
   "metadata": {},
   "source": [
    "## Function that trains the Model and plots results"
   ]
  },
  {
   "cell_type": "code",
   "execution_count": 144,
   "metadata": {},
   "outputs": [],
   "source": [
    "def train_and_plot(dataset, targets, hidden_layers, activations, loss_functions, lr, momentum,\n",
    "                   batch_size, early_stopping, max_epochs, regularization_param, shuffle, \n",
    "                   seed, debug, subsample=10):\n",
    "    n_units = [int(dataset.shape[1]-1), *hidden_layers, int(dataset[:, -1].max()+1)]\n",
    "    # Create Model\n",
    "    mlp = p4_models.MultiLayerPerceptron(units=n_units, activations=activations, \n",
    "                                         loss_functions=loss_functions, seed=seed)\n",
    "    # Train\n",
    "    accuracies, losses, times = mlp.train(data=dataset, one_hot_y=targets,\n",
    "                                          batch_size=batch_size, lr=lr, momentum=momentum,\n",
    "                                          shuffle=shuffle, max_epochs=max_epochs, \n",
    "                                          early_stopping=early_stopping,\n",
    "                                          regularization_param=regularization_param,\n",
    "                                          debug=debug)\n",
    "    # Plot\n",
    "    plot_results(accuracies=accuracies, losses=losses, times=times, subsample=subsample)\n",
    "    return accuracies, losses, times"
   ]
  },
  {
   "cell_type": "markdown",
   "metadata": {
    "id": "hzp0igMFIlDO"
   },
   "source": [
    "## XOR Dataset"
   ]
  },
  {
   "cell_type": "markdown",
   "metadata": {
    "id": "8CXoeItNUdaH"
   },
   "source": [
    "### My Code"
   ]
  },
  {
   "cell_type": "code",
   "execution_count": 149,
   "metadata": {
    "colab": {
     "base_uri": "https://localhost:8080/",
     "height": 0
    },
    "executionInfo": {
     "elapsed": 8579,
     "status": "ok",
     "timestamp": 1635566076734,
     "user": {
      "displayName": "Kostas Georgiou",
      "photoUrl": "https://lh3.googleusercontent.com/a-/AOh14GhzP5qrxeKXeuneTscU-PqTEiyBLJpOwQ-olOc2x5s=s64",
      "userId": "10199933473437407446"
     },
     "user_tz": 240
    },
    "id": "cqWR5mi_eyGs",
    "outputId": "2423024d-def5-4b7b-973c-9b6cda936b7c",
    "scrolled": false
   },
   "outputs": [
    {
     "name": "stderr",
     "output_type": "stream",
     "text": [
      "2021-10-30 05:26:20 Project4 Models INFO     \u001b[1m\u001b[32mUnits per Layer: [2, 4, 2]\u001b[0m\n",
      "2021-10-30 05:26:20 Project4 Models INFO     \u001b[1m\u001b[32mShapes of biases: [(4, 1), (2, 1)]\u001b[0m\n",
      "2021-10-30 05:26:20 Project4 Models INFO     \u001b[1m\u001b[32mShapes of weights: [(4, 2), (2, 4)]\u001b[0m\n",
      "2021-10-30 05:26:20 Project4 Models INFO     \u001b[1m\u001b[31mEpoch: 12\u001b[0m\n",
      "2021-10-30 05:26:20 Project4 Models INFO     \u001b[1m\u001b[32m  mse Loss: 0.26639\u001b[0m\n",
      "2021-10-30 05:26:20 Project4 Models INFO     \u001b[1m\u001b[32m  cross_entropy Loss: 0.71321\u001b[0m\n",
      "2021-10-30 05:26:20 Project4 Models INFO     \u001b[1m\u001b[32m  Accuracy: 3/4\u001b[0m\n",
      "2021-10-30 05:26:20 Project4 Models INFO     \u001b[1m\u001b[31mEpoch: 24\u001b[0m\n",
      "2021-10-30 05:26:20 Project4 Models INFO     \u001b[1m\u001b[32m  mse Loss: 0.28025\u001b[0m\n",
      "2021-10-30 05:26:20 Project4 Models INFO     \u001b[1m\u001b[32m  cross_entropy Loss: 0.74801\u001b[0m\n",
      "2021-10-30 05:26:20 Project4 Models INFO     \u001b[1m\u001b[32m  Accuracy: 3/4\u001b[0m\n",
      "2021-10-30 05:26:20 Project4 Models INFO     \u001b[1m\u001b[31mEpoch: 36\u001b[0m\n",
      "2021-10-30 05:26:20 Project4 Models INFO     \u001b[1m\u001b[32m  mse Loss: 0.29104\u001b[0m\n",
      "2021-10-30 05:26:20 Project4 Models INFO     \u001b[1m\u001b[32m  cross_entropy Loss: 0.77087\u001b[0m\n",
      "2021-10-30 05:26:20 Project4 Models INFO     \u001b[1m\u001b[32m  Accuracy: 3/4\u001b[0m\n",
      "2021-10-30 05:26:20 Project4 Models INFO     \u001b[1m\u001b[31mEpoch: 48\u001b[0m\n",
      "2021-10-30 05:26:20 Project4 Models INFO     \u001b[1m\u001b[32m  mse Loss: 0.29897\u001b[0m\n",
      "2021-10-30 05:26:20 Project4 Models INFO     \u001b[1m\u001b[32m  cross_entropy Loss: 0.78610\u001b[0m\n",
      "2021-10-30 05:26:20 Project4 Models INFO     \u001b[1m\u001b[32m  Accuracy: 4/4\u001b[0m\n",
      "2021-10-30 05:26:20 Project4 Models INFO     \u001b[1m\u001b[31mEpoch: 60\u001b[0m\n",
      "2021-10-30 05:26:20 Project4 Models INFO     \u001b[1m\u001b[32m  mse Loss: 0.32050\u001b[0m\n",
      "2021-10-30 05:26:20 Project4 Models INFO     \u001b[1m\u001b[32m  cross_entropy Loss: 0.82726\u001b[0m\n",
      "2021-10-30 05:26:20 Project4 Models INFO     \u001b[1m\u001b[32m  Accuracy: 4/4\u001b[0m\n",
      "2021-10-30 05:26:20 Project4 Models INFO     \u001b[1m\u001b[31mFinished after 60 epochs\u001b[0m\n",
      "2021-10-30 05:26:20 Project4 Models INFO     \u001b[1m\u001b[33mAvg epoch time: 0.0005 sec(s)\u001b[0m\n",
      "2021-10-30 05:26:20 Project4 Models INFO     \u001b[1m\u001b[33mAccumulated epoch time: 0.0292 sec(s)\u001b[0m\n",
      "2021-10-30 05:26:20 Project4 Models INFO     \u001b[1m\u001b[32mmse Loss: 0.32050\u001b[0m\n",
      "2021-10-30 05:26:20 Project4 Models INFO     \u001b[1m\u001b[32mcross_entropy Loss: 0.82726\u001b[0m\n",
      "2021-10-30 05:26:20 Project4 Models INFO     \u001b[1m\u001b[32mAccuracy: 4/4\u001b[0m\n"
     ]
    },
    {
     "data": {
      "image/png": "[encoded data removed]",
      "text/plain": [
       "<Figure size 792x288 with 4 Axes>"
      ]
     },
     "metadata": {},
     "output_type": "display_data"
    }
   ],
   "source": [
    "hidden_layers = [4]\n",
    "activations = [\"relu\", \"softmax\"]\n",
    "loss_functions = ['mse', 'cross_entropy']\n",
    "lr = 1.0#0.1\n",
    "momentum = 0.01\n",
    "regularization_param = 0.037\n",
    "batch_size = 1\n",
    "max_epochs = 60\n",
    "shuffle = False\n",
    "early_stopping = None#{\"accuracy\": -1, \"loss\": -10, 'wait': 10}\n",
    "seed = 3\n",
    "debug = {'epochs': max_epochs/5, \n",
    "         'batches': 10**10, \n",
    "         'ff': False, 'bp': False, 'w': False, 'metrics': False}\n",
    "\n",
    "# train_and_plot(xor_data.copy(), xor_y_one_hot.copy(), hidden_layers, activations, \n",
    "#                loss_functions, lr, batch_size, \n",
    "#                max_epochs, shuffle, seed, debug)\n",
    "# train_and_plot(xor_data_norm.copy(), xor_y_one_hot.copy(), hidden_layers, activations, \n",
    "#                loss_functions, lr, batch_size, \n",
    "#                max_epochs, shuffle, seed, debug)\n",
    "accuracies, losses, times = \\\n",
    "train_and_plot(xor_data_stand.copy(), xor_y_one_hot.copy(), hidden_layers, activations, \n",
    "               loss_functions, lr, momentum, batch_size, early_stopping,\n",
    "               max_epochs, regularization_param, shuffle, seed, debug, subsample=10)"
   ]
  },
  {
   "cell_type": "code",
   "execution_count": null,
   "metadata": {
    "executionInfo": {
     "elapsed": 3,
     "status": "ok",
     "timestamp": 1635566076734,
     "user": {
      "displayName": "Kostas Georgiou",
      "photoUrl": "https://lh3.googleusercontent.com/a-/AOh14GhzP5qrxeKXeuneTscU-PqTEiyBLJpOwQ-olOc2x5s=s64",
      "userId": "10199933473437407446"
     },
     "user_tz": 240
    },
    "id": "yty3xDqfeyGt"
   },
   "outputs": [],
   "source": []
  },
  {
   "cell_type": "markdown",
   "metadata": {
    "id": "nd1J8c43eyGt"
   },
   "source": [
    "## Task 2"
   ]
  },
  {
   "cell_type": "code",
   "execution_count": 136,
   "metadata": {
    "colab": {
     "base_uri": "https://localhost:8080/"
    },
    "id": "zL6eHq5heyGt",
    "outputId": "28cdda54-f200-4736-e229-f3c205efaf3e"
   },
   "outputs": [
    {
     "name": "stderr",
     "output_type": "stream",
     "text": [
      "2021-10-30 05:15:17 Project4 Models INFO     \u001b[1m\u001b[32mUnits per Layer: [784, 32, 32, 10]\u001b[0m\n",
      "2021-10-30 05:15:17 Project4 Models INFO     \u001b[1m\u001b[32mShapes of biases: [(32, 1), (32, 1), (10, 1)]\u001b[0m\n",
      "2021-10-30 05:15:17 Project4 Models INFO     \u001b[1m\u001b[32mShapes of weights: [(32, 784), (32, 32), (10, 32)]\u001b[0m\n",
      "2021-10-30 05:15:17 Project4 Models INFO     \u001b[1m\u001b[31mEpoch: 1\u001b[0m\n",
      "2021-10-30 05:15:29 Project4 Models INFO     \u001b[1m\u001b[32m  mse Loss: 0.16903\u001b[0m\n",
      "2021-10-30 05:15:29 Project4 Models INFO     \u001b[1m\u001b[32m  cross_entropy Loss: 0.17480\u001b[0m\n",
      "2021-10-30 05:15:29 Project4 Models INFO     \u001b[1m\u001b[32m  Accuracy: 608/5000\u001b[0m\n",
      "2021-10-30 05:15:29 Project4 Models INFO     \u001b[1m\u001b[31mEpoch: 2\u001b[0m\n",
      "2021-10-30 05:15:37 Project4 Models INFO     \u001b[1m\u001b[32m  mse Loss: 0.10860\u001b[0m\n",
      "2021-10-30 05:15:37 Project4 Models INFO     \u001b[1m\u001b[32m  cross_entropy Loss: 0.11382\u001b[0m\n",
      "2021-10-30 05:15:37 Project4 Models INFO     \u001b[1m\u001b[32m  Accuracy: 742/5000\u001b[0m\n",
      "2021-10-30 05:15:37 Project4 Models INFO     \u001b[1m\u001b[31mEpoch: 3\u001b[0m\n",
      "2021-10-30 05:15:48 Project4 Models INFO     \u001b[1m\u001b[32m  mse Loss: 0.07001\u001b[0m\n",
      "2021-10-30 05:15:48 Project4 Models INFO     \u001b[1m\u001b[32m  cross_entropy Loss: 0.07499\u001b[0m\n",
      "2021-10-30 05:15:48 Project4 Models INFO     \u001b[1m\u001b[32m  Accuracy: 938/5000\u001b[0m\n",
      "2021-10-30 05:15:48 Project4 Models INFO     \u001b[1m\u001b[31mFinished after 3 epochs\u001b[0m\n",
      "2021-10-30 05:15:48 Project4 Models INFO     \u001b[1m\u001b[33mAvg epoch time: 4.2644 sec(s)\u001b[0m\n",
      "2021-10-30 05:15:48 Project4 Models INFO     \u001b[1m\u001b[33mAccumulated epoch time: 12.7931 sec(s)\u001b[0m\n",
      "2021-10-30 05:15:48 Project4 Models INFO     \u001b[1m\u001b[32mmse Loss: 0.07001\u001b[0m\n",
      "2021-10-30 05:15:48 Project4 Models INFO     \u001b[1m\u001b[32mcross_entropy Loss: 0.07499\u001b[0m\n",
      "2021-10-30 05:15:48 Project4 Models INFO     \u001b[1m\u001b[32mAccuracy: 938/5000\u001b[0m\n"
     ]
    },
    {
     "data": {
      "image/png": "[encoded data removed]",
      "text/plain": [
       "<Figure size 792x288 with 3 Axes>"
      ]
     },
     "metadata": {},
     "output_type": "display_data"
    }
   ],
   "source": [
    "# mnist_tr_norm, mnist_te_norm, mnist_val_stand\n",
    "hidden_layers = [32, 32]\n",
    "# activations = [\"relu\", \"relu\", \"relu\", \"softmax\"]\n",
    "activations = [\"sigmoid\", \"sigmoid\", \"softmax\"]\n",
    "loss_functions = ['mse', 'cross_entropy']\n",
    "lr = 0.1\n",
    "momentum = 0.00\n",
    "batch_size = 15\n",
    "max_epochs = 3\n",
    "regularization_param = 0.1\n",
    "early_stopping = {\"loss\": -0.1, 'wait': 3}\n",
    "shuffle = True\n",
    "seed = 50\n",
    "debug = {'epochs': 1, 'batches': 10**10, \n",
    "         'ff': False, 'bp': False, 'w': False, 'metrics': False}\n",
    "\n",
    "train_and_plot(mnist_val_stand.copy(), mnist_val_y_one_hot.copy(), hidden_layers, activations, \n",
    "               loss_functions, lr, momentum, batch_size, early_stopping,\n",
    "               max_epochs, regularization_param, shuffle, seed, debug, subsample=1)"
   ]
  },
  {
   "cell_type": "code",
   "execution_count": null,
   "metadata": {
    "id": "OzYAQPUpeyGu"
   },
   "outputs": [],
   "source": [
    "train_and_plot(mnist_val_norm.copy(), mnist_val_y_one_hot.copy(), hidden_layers, activations, \n",
    "               loss_functions, lr, momentum, batch_size, early_stopping,\n",
    "               max_epochs, regularization_param, shuffle, seed, debug, subsample=10)"
   ]
  },
  {
   "cell_type": "markdown",
   "metadata": {
    "id": "UC0tIuU7eyGu"
   },
   "source": [
    "## Task 3"
   ]
  },
  {
   "cell_type": "code",
   "execution_count": null,
   "metadata": {
    "id": "bQkEtImNeyGu"
   },
   "outputs": [],
   "source": []
  },
  {
   "cell_type": "code",
   "execution_count": null,
   "metadata": {
    "id": "9BOlB_mpeyGu"
   },
   "outputs": [],
   "source": []
  },
  {
   "cell_type": "code",
   "execution_count": null,
   "metadata": {
    "id": "o9sRKxMFeyGu"
   },
   "outputs": [],
   "source": []
  },
  {
   "cell_type": "code",
   "execution_count": null,
   "metadata": {
    "id": "iiioNaeWeyGu"
   },
   "outputs": [],
   "source": []
  }
 ],
 "metadata": {
  "accelerator": "GPU",
  "colab": {
   "collapsed_sections": [
    "qw-gMeLen3ri"
   ],
   "name": "Project4.ipynb",
   "provenance": []
  },
  "kernelspec": {
   "display_name": "Python 3 (ipykernel)",
   "language": "python",
   "name": "python3"
  },
  "language_info": {
   "codemirror_mode": {
    "name": "ipython",
    "version": 3
   },
   "file_extension": ".py",
   "mimetype": "text/x-python",
   "name": "python",
   "nbconvert_exporter": "python",
   "pygments_lexer": "ipython3",
   "version": "3.7.11"
  },
  "widgets": {
   "application/vnd.jupyter.widget-state+json": {
    "3b2d24b5f469485d90a293faa0d58ad7": {
     "model_module": "@jupyter-widgets/base",
     "model_module_version": "1.2.0",
     "model_name": "LayoutModel",
     "state": {
      "_model_module": "@jupyter-widgets/base",
      "_model_module_version": "1.2.0",
      "_model_name": "LayoutModel",
      "_view_count": null,
      "_view_module": "@jupyter-widgets/base",
      "_view_module_version": "1.2.0",
      "_view_name": "LayoutView",
      "align_content": null,
      "align_items": null,
      "align_self": null,
      "border": null,
      "bottom": null,
      "display": null,
      "flex": null,
      "flex_flow": null,
      "grid_area": null,
      "grid_auto_columns": null,
      "grid_auto_flow": null,
      "grid_auto_rows": null,
      "grid_column": null,
      "grid_gap": null,
      "grid_row": null,
      "grid_template_areas": null,
      "grid_template_columns": null,
      "grid_template_rows": null,
      "height": null,
      "justify_content": null,
      "justify_items": null,
      "left": null,
      "margin": null,
      "max_height": null,
      "max_width": null,
      "min_height": null,
      "min_width": null,
      "object_fit": null,
      "object_position": null,
      "order": null,
      "overflow": null,
      "overflow_x": null,
      "overflow_y": null,
      "padding": null,
      "right": null,
      "top": null,
      "visibility": null,
      "width": null
     }
    },
    "6869c83db0ef4fb3976778d7ff2ae0d1": {
     "model_module": "@jupyter-widgets/controls",
     "model_module_version": "1.5.0",
     "model_name": "ButtonStyleModel",
     "state": {
      "_model_module": "@jupyter-widgets/controls",
      "_model_module_version": "1.5.0",
      "_model_name": "ButtonStyleModel",
      "_view_count": null,
      "_view_module": "@jupyter-widgets/base",
      "_view_module_version": "1.2.0",
      "_view_name": "StyleView",
      "button_color": null,
      "font_weight": ""
     }
    },
    "bef1f5d27c9044cea3c3ce3d0b2d9b22": {
     "model_module": "@jupyter-widgets/controls",
     "model_module_version": "1.5.0",
     "model_name": "ButtonModel",
     "state": {
      "_dom_classes": [],
      "_model_module": "@jupyter-widgets/controls",
      "_model_module_version": "1.5.0",
      "_model_name": "ButtonModel",
      "_view_count": null,
      "_view_module": "@jupyter-widgets/controls",
      "_view_module_version": "1.5.0",
      "_view_name": "ButtonView",
      "button_style": "",
      "description": "Yes",
      "disabled": false,
      "icon": "",
      "layout": "IPY_MODEL_3b2d24b5f469485d90a293faa0d58ad7",
      "style": "IPY_MODEL_6869c83db0ef4fb3976778d7ff2ae0d1",
      "tooltip": ""
     }
    }
   }
  }
 },
 "nbformat": 4,
 "nbformat_minor": 1
}
