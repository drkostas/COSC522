{
 "cells": [
  {
   "cell_type": "markdown",
   "metadata": {
    "id": "lMfgfu-92h_G"
   },
   "source": [
    "# Machine Learning (COSC 522)\n",
    "## Project 2"
   ]
  },
  {
   "cell_type": "markdown",
   "metadata": {
    "id": "2w1drxq0oC_J"
   },
   "source": [
    "## Mount Google Drive Folder (For Google Collab)"
   ]
  },
  {
   "cell_type": "code",
   "execution_count": 1,
   "metadata": {
    "executionInfo": {
     "elapsed": 32,
     "status": "ok",
     "timestamp": 1632449756168,
     "user": {
      "displayName": "Kostas Georgiou",
      "photoUrl": "https://lh3.googleusercontent.com/a-/AOh14GhzP5qrxeKXeuneTscU-PqTEiyBLJpOwQ-olOc2x5s=s64",
      "userId": "10199933473437407446"
     },
     "user_tz": 240
    },
    "id": "-rqLpqrOeY75"
   },
   "outputs": [],
   "source": [
    "# Import Jupyter Widgets\n",
    "import os\n",
    "import ipywidgets as widgets\n",
    "from ipywidgets import interact, interact_manual\n",
    "from IPython.display import display"
   ]
  },
  {
   "cell_type": "code",
   "execution_count": 2,
   "metadata": {
    "colab": {
     "base_uri": "https://localhost:8080/",
     "height": 124,
     "referenced_widgets": [
      "d831b3f8c4a14cddbf88a8fd0b6229b1",
      "244c5a7a69d64c3a8607e6b969c0dc83",
      "f6b93f950ff14f0c94f0151bb67dcd9a"
     ]
    },
    "executionInfo": {
     "elapsed": 161,
     "status": "ok",
     "timestamp": 1632449827269,
     "user": {
      "displayName": "Kostas Georgiou",
      "photoUrl": "https://lh3.googleusercontent.com/a-/AOh14GhzP5qrxeKXeuneTscU-PqTEiyBLJpOwQ-olOc2x5s=s64",
      "userId": "10199933473437407446"
     },
     "user_tz": 240
    },
    "id": "0SkqWJdtllfv",
    "outputId": "51370f69-110d-498a-b72e-e1d9d7482066"
   },
   "outputs": [
    {
     "name": "stdout",
     "output_type": "stream",
     "text": [
      "Are you on Google Collab?\n"
     ]
    },
    {
     "data": {
      "application/vnd.jupyter.widget-view+json": {
       "model_id": "2a2e033710fa4bdf94473db438458357",
       "version_major": 2,
       "version_minor": 0
      },
      "text/plain": [
       "Button(description='Yes', style=ButtonStyle())"
      ]
     },
     "metadata": {},
     "output_type": "display_data"
    }
   ],
   "source": [
    "# Clone the repository if you're in Google Collab\n",
    "# from google.colab import drive\n",
    "# drive.mount('/content/drive', force_remount=False)\n",
    "def mount_and_change_dir(is_collab: bool = False):\n",
    "    from google.colab import drive\n",
    "    # Mount Google Drive\n",
    "    drive.mount('/content/drive', force_remount=False)\n",
    "    # Set working directory\n",
    "    project_path = '/content/drive/MyDrive/Projects/UTK/COSC522'\n",
    "    os.chdir(project_path)\n",
    "    print(os.listdir(project_path))\n",
    "       \n",
    "print(\"Are you on Google Collab?\")\n",
    "btn = widgets.Button(description=\"Yes\")\n",
    "btn.on_click(mount_and_change_dir)\n",
    "display(btn)"
   ]
  },
  {
   "cell_type": "markdown",
   "metadata": {
    "id": "da95WuxPAb1H"
   },
   "source": [
    "## Initializations"
   ]
  },
  {
   "cell_type": "code",
   "execution_count": 3,
   "metadata": {
    "executionInfo": {
     "elapsed": 9074,
     "status": "ok",
     "timestamp": 1632449847314,
     "user": {
      "displayName": "Kostas Georgiou",
      "photoUrl": "https://lh3.googleusercontent.com/a-/AOh14GhzP5qrxeKXeuneTscU-PqTEiyBLJpOwQ-olOc2x5s=s64",
      "userId": "10199933473437407446"
     },
     "user_tz": 240
    },
    "id": "jJQ2iY7AosLj"
   },
   "outputs": [],
   "source": [
    "# Imports\n",
    "%load_ext autoreload\n",
    "%autoreload 2\n",
    "%matplotlib inline\n",
    "%config InlineBackend.figure_formats = ['png']\n",
    "\n",
    "import numpy as np\n",
    "import matplotlib.pyplot as plt\n",
    "from time import time\n",
    "from pprint import pprint\n",
    "import seaborn as sns\n",
    "from scipy.stats import uniform, gaussian_kde, norm\n",
    "from typing import *\n",
    "from tqdm.notebook import tqdm\n",
    "\n",
    "from custom_libs import ColorizedLogger\n",
    "\n",
    "sns.set_style('darkgrid')\n",
    "\n",
    "logger = ColorizedLogger('Project2', 'yellow')"
   ]
  },
  {
   "cell_type": "markdown",
   "metadata": {
    "id": "qw-gMeLen3ri"
   },
   "source": [
    "### Load the two datasets and Preprocessing"
   ]
  },
  {
   "cell_type": "code",
   "execution_count": 4,
   "metadata": {
    "executionInfo": {
     "elapsed": 10,
     "status": "ok",
     "timestamp": 1632449847320,
     "user": {
      "displayName": "Kostas Georgiou",
      "photoUrl": "https://lh3.googleusercontent.com/a-/AOh14GhzP5qrxeKXeuneTscU-PqTEiyBLJpOwQ-olOc2x5s=s64",
      "userId": "10199933473437407446"
     },
     "user_tz": 240
    },
    "id": "83d_grkog376"
   },
   "outputs": [],
   "source": [
    "# Located in <project root>/custom_libs/Project1\n",
    "import custom_libs.Project1.data_loader as dl"
   ]
  },
  {
   "cell_type": "code",
   "execution_count": 5,
   "metadata": {
    "executionInfo": {
     "elapsed": 1763,
     "status": "ok",
     "timestamp": 1632449849075,
     "user": {
      "displayName": "Kostas Georgiou",
      "photoUrl": "https://lh3.googleusercontent.com/a-/AOh14GhzP5qrxeKXeuneTscU-PqTEiyBLJpOwQ-olOc2x5s=s64",
      "userId": "10199933473437407446"
     },
     "user_tz": 240
    },
    "id": "OR5xan8AtBZf"
   },
   "outputs": [],
   "source": [
    "# Create a Data Loader\n",
    "data_loader = dl.DataLoader(synth_path='data/synth.te', pima_path='data/pima.tr')"
   ]
  },
  {
   "cell_type": "code",
   "execution_count": 6,
   "metadata": {
    "colab": {
     "base_uri": "https://localhost:8080/"
    },
    "executionInfo": {
     "elapsed": 250,
     "status": "ok",
     "timestamp": 1632449849286,
     "user": {
      "displayName": "Kostas Georgiou",
      "photoUrl": "https://lh3.googleusercontent.com/a-/AOh14GhzP5qrxeKXeuneTscU-PqTEiyBLJpOwQ-olOc2x5s=s64",
      "userId": "10199933473437407446"
     },
     "user_tz": 240
    },
    "id": "gmhgX8h4pqBd",
    "outputId": "5b3bfdd0-22c7-42b2-e314-c977241ce45d"
   },
   "outputs": [
    {
     "name": "stderr",
     "output_type": "stream",
     "text": [
      "2021-10-15 23:24:39 Data Loader  INFO     \u001b[1m\u001b[36m-- synth_tr --\u001b[0m\n",
      "2021-10-15 23:24:39 Data Loader  INFO     \u001b[1m\u001b[36m\tShape: (250, 3)\u001b[0m\n",
      "2021-10-15 23:24:39 Data Loader  INFO     \u001b[1m\u001b[36m\tType: float64\u001b[0m\n",
      "2021-10-15 23:24:39 Data Loader  INFO     \u001b[1m\u001b[36m\tMean:\u001b[0m\n",
      "2021-10-15 23:24:39 Data Loader  INFO     \u001b[1m\u001b[36m\t\t[-0.07275796  0.50436193  0.5       ] (..)\u001b[0m\n",
      "2021-10-15 23:24:39 Data Loader  INFO     \u001b[1m\u001b[36m\tMax:\u001b[0m\n",
      "2021-10-15 23:24:39 Data Loader  INFO     \u001b[1m\u001b[36m\t\t[0.8612962  1.09317811 1.        ] (..)\u001b[0m\n",
      "2021-10-15 23:24:39 Data Loader  INFO     \u001b[1m\u001b[36m\tMin:\u001b[0m\n",
      "2021-10-15 23:24:39 Data Loader  INFO     \u001b[1m\u001b[36m\t\t[-1.24652451 -0.19131316  0.        ] (..)\u001b[0m\n",
      "2021-10-15 23:24:39 Data Loader  INFO     \u001b[1m\u001b[36m\tHead:\u001b[0m\n",
      "2021-10-15 23:24:39 Data Loader  INFO     \u001b[1m\u001b[36m\t\t[0.05100797 0.16086164 0.        ] (..)\u001b[0m\n",
      "2021-10-15 23:24:39 Data Loader  INFO     \u001b[1m\u001b[36m-- synth_tr --\u001b[0m\n",
      "2021-10-15 23:24:39 Data Loader  INFO     \u001b[1m\u001b[36m\tShape: (250, 3)\u001b[0m\n",
      "2021-10-15 23:24:39 Data Loader  INFO     \u001b[1m\u001b[36m\tType: float64\u001b[0m\n",
      "2021-10-15 23:24:39 Data Loader  INFO     \u001b[1m\u001b[36m\tMean:\u001b[0m\n",
      "2021-10-15 23:24:39 Data Loader  INFO     \u001b[1m\u001b[36m\t\t[-0.07275796  0.50436193  0.5       ] (..)\u001b[0m\n",
      "2021-10-15 23:24:39 Data Loader  INFO     \u001b[1m\u001b[36m\tMax:\u001b[0m\n",
      "2021-10-15 23:24:39 Data Loader  INFO     \u001b[1m\u001b[36m\t\t[0.8612962  1.09317811 1.        ] (..)\u001b[0m\n",
      "2021-10-15 23:24:39 Data Loader  INFO     \u001b[1m\u001b[36m\tMin:\u001b[0m\n",
      "2021-10-15 23:24:39 Data Loader  INFO     \u001b[1m\u001b[36m\t\t[-1.24652451 -0.19131316  0.        ] (..)\u001b[0m\n",
      "2021-10-15 23:24:39 Data Loader  INFO     \u001b[1m\u001b[36m\tHead:\u001b[0m\n",
      "2021-10-15 23:24:39 Data Loader  INFO     \u001b[1m\u001b[36m\t\t[0.05100797 0.16086164 0.        ] (..)\u001b[0m\n",
      "2021-10-15 23:24:39 Data Loader  INFO     \u001b[1m\u001b[36m-- pima_tr --\u001b[0m\n",
      "2021-10-15 23:24:39 Data Loader  INFO     \u001b[1m\u001b[36m\tShape: (200, 8)\u001b[0m\n",
      "2021-10-15 23:24:39 Data Loader  INFO     \u001b[1m\u001b[36m\tType: float64\u001b[0m\n",
      "2021-10-15 23:24:39 Data Loader  INFO     \u001b[1m\u001b[36m\tMean:\u001b[0m\n",
      "2021-10-15 23:24:39 Data Loader  INFO     \u001b[1m\u001b[36m\t\t[  3.57  123.97   71.26   29.215] (..)\u001b[0m\n",
      "2021-10-15 23:24:39 Data Loader  INFO     \u001b[1m\u001b[36m\tMax:\u001b[0m\n",
      "2021-10-15 23:24:39 Data Loader  INFO     \u001b[1m\u001b[36m\t\t[ 14. 199. 110.  99.] (..)\u001b[0m\n",
      "2021-10-15 23:24:39 Data Loader  INFO     \u001b[1m\u001b[36m\tMin:\u001b[0m\n",
      "2021-10-15 23:24:39 Data Loader  INFO     \u001b[1m\u001b[36m\t\t[ 0. 56. 38.  7.] (..)\u001b[0m\n",
      "2021-10-15 23:24:39 Data Loader  INFO     \u001b[1m\u001b[36m\tHead:\u001b[0m\n",
      "2021-10-15 23:24:39 Data Loader  INFO     \u001b[1m\u001b[36m\t\t[ 5. 86. 68. 28.] (..)\u001b[0m\n",
      "2021-10-15 23:24:39 Data Loader  INFO     \u001b[1m\u001b[36m-- pima_te --\u001b[0m\n",
      "2021-10-15 23:24:39 Data Loader  INFO     \u001b[1m\u001b[36m\tShape: (332, 8)\u001b[0m\n",
      "2021-10-15 23:24:39 Data Loader  INFO     \u001b[1m\u001b[36m\tType: float64\u001b[0m\n",
      "2021-10-15 23:24:39 Data Loader  INFO     \u001b[1m\u001b[36m\tMean:\u001b[0m\n",
      "2021-10-15 23:24:39 Data Loader  INFO     \u001b[1m\u001b[36m\t\t[  3.48493976 119.25903614  71.65361446  29.1626506 ] (..)\u001b[0m\n",
      "2021-10-15 23:24:39 Data Loader  INFO     \u001b[1m\u001b[36m\tMax:\u001b[0m\n",
      "2021-10-15 23:24:39 Data Loader  INFO     \u001b[1m\u001b[36m\t\t[ 17. 197. 110.  63.] (..)\u001b[0m\n",
      "2021-10-15 23:24:39 Data Loader  INFO     \u001b[1m\u001b[36m\tMin:\u001b[0m\n",
      "2021-10-15 23:24:39 Data Loader  INFO     \u001b[1m\u001b[36m\t\t[ 0. 65. 24.  7.] (..)\u001b[0m\n",
      "2021-10-15 23:24:39 Data Loader  INFO     \u001b[1m\u001b[36m\tHead:\u001b[0m\n",
      "2021-10-15 23:24:39 Data Loader  INFO     \u001b[1m\u001b[36m\t\t[  6. 148.  72.  35.] (..)\u001b[0m\n"
     ]
    }
   ],
   "source": [
    "# Print Statistics\n",
    "data_loader.print_statistics()"
   ]
  },
  {
   "cell_type": "code",
   "execution_count": 7,
   "metadata": {
    "colab": {
     "base_uri": "https://localhost:8080/"
    },
    "executionInfo": {
     "elapsed": 24,
     "status": "ok",
     "timestamp": 1632449849287,
     "user": {
      "displayName": "Kostas Georgiou",
      "photoUrl": "https://lh3.googleusercontent.com/a-/AOh14GhzP5qrxeKXeuneTscU-PqTEiyBLJpOwQ-olOc2x5s=s64",
      "userId": "10199933473437407446"
     },
     "user_tz": 240
    },
    "id": "JuNf0CP4llf2",
    "outputId": "36542928-3b4e-4490-ede6-4dbf010d603e"
   },
   "outputs": [
    {
     "name": "stderr",
     "output_type": "stream",
     "text": [
      "2021-10-15 23:24:39 Data Loader  INFO     \u001b[1m\u001b[36m-- pima_tr --\u001b[0m\n",
      "2021-10-15 23:24:39 Data Loader  INFO     \u001b[1m\u001b[36m\tShape: (200, 8)\u001b[0m\n",
      "2021-10-15 23:24:39 Data Loader  INFO     \u001b[1m\u001b[36m\tType: float64\u001b[0m\n",
      "2021-10-15 23:24:39 Data Loader  INFO     \u001b[1m\u001b[36m\tMean:\u001b[0m\n",
      "2021-10-15 23:24:39 Data Loader  INFO     \u001b[1m\u001b[36m\t\t[ 4.10782519e-17  5.66213743e-17 -4.06896739e-16  1.36002321e-17] (..)\u001b[0m\n",
      "2021-10-15 23:24:39 Data Loader  INFO     \u001b[1m\u001b[36m\tMax:\u001b[0m\n",
      "2021-10-15 23:24:39 Data Loader  INFO     \u001b[1m\u001b[36m\t\t[3.10616203 2.37527224 3.38314936 5.96695452] (..)\u001b[0m\n",
      "2021-10-15 23:24:39 Data Loader  INFO     \u001b[1m\u001b[36m\tMin:\u001b[0m\n",
      "2021-10-15 23:24:39 Data Loader  INFO     \u001b[1m\u001b[36m\t\t[-1.06318298 -2.15176934 -2.90458306 -1.89948979] (..)\u001b[0m\n",
      "2021-10-15 23:24:39 Data Loader  INFO     \u001b[1m\u001b[36m\tHead:\u001b[0m\n",
      "2021-10-15 23:24:39 Data Loader  INFO     \u001b[1m\u001b[36m\t\t[ 0.42586881 -1.20204034 -0.28469455 -0.10388837] (..)\u001b[0m\n",
      "2021-10-15 23:24:39 Data Loader  INFO     \u001b[1m\u001b[36m-- pima_te --\u001b[0m\n",
      "2021-10-15 23:24:39 Data Loader  INFO     \u001b[1m\u001b[36m\tShape: (332, 8)\u001b[0m\n",
      "2021-10-15 23:24:39 Data Loader  INFO     \u001b[1m\u001b[36m\tType: float64\u001b[0m\n",
      "2021-10-15 23:24:39 Data Loader  INFO     \u001b[1m\u001b[36m\tMean:\u001b[0m\n",
      "2021-10-15 23:24:39 Data Loader  INFO     \u001b[1m\u001b[36m\t\t[-0.02533182 -0.14913797  0.0343742  -0.00447613] (..)\u001b[0m\n",
      "2021-10-15 23:24:39 Data Loader  INFO     \u001b[1m\u001b[36m\tMax:\u001b[0m\n",
      "2021-10-15 23:24:39 Data Loader  INFO     \u001b[1m\u001b[36m\t\t[3.99959311 2.31195697 3.38314936 2.88878066] (..)\u001b[0m\n",
      "2021-10-15 23:24:39 Data Loader  INFO     \u001b[1m\u001b[36m\tMin:\u001b[0m\n",
      "2021-10-15 23:24:39 Data Loader  INFO     \u001b[1m\u001b[36m\t\t[-1.06318298 -1.86685064 -4.1271977  -1.89948979] (..)\u001b[0m\n",
      "2021-10-15 23:24:39 Data Loader  INFO     \u001b[1m\u001b[36m\tHead:\u001b[0m\n",
      "2021-10-15 23:24:39 Data Loader  INFO     \u001b[1m\u001b[36m\t\t[0.72367917 0.76073293 0.06462392 0.49464544] (..)\u001b[0m\n"
     ]
    }
   ],
   "source": [
    "# Normalize Pimada\n",
    "data_loader.normalize_pima(print_statistics=True)"
   ]
  },
  {
   "cell_type": "code",
   "execution_count": 8,
   "metadata": {
    "executionInfo": {
     "elapsed": 6,
     "status": "ok",
     "timestamp": 1632449849287,
     "user": {
      "displayName": "Kostas Georgiou",
      "photoUrl": "https://lh3.googleusercontent.com/a-/AOh14GhzP5qrxeKXeuneTscU-PqTEiyBLJpOwQ-olOc2x5s=s64",
      "userId": "10199933473437407446"
     },
     "user_tz": 240
    },
    "id": "gFRYco0bllf3"
   },
   "outputs": [],
   "source": [
    "# Get the two datasets\n",
    "synth_te, synth_tr, pima_tr, pima_te = data_loader.get_datasets()"
   ]
  },
  {
   "cell_type": "markdown",
   "metadata": {
    "id": "FFeIatMXAVAa"
   },
   "source": [
    "### Plot data"
   ]
  },
  {
   "cell_type": "code",
   "execution_count": 9,
   "metadata": {
    "executionInfo": {
     "elapsed": 148,
     "status": "ok",
     "timestamp": 1632449849430,
     "user": {
      "displayName": "Kostas Georgiou",
      "photoUrl": "https://lh3.googleusercontent.com/a-/AOh14GhzP5qrxeKXeuneTscU-PqTEiyBLJpOwQ-olOc2x5s=s64",
      "userId": "10199933473437407446"
     },
     "user_tz": 240
    },
    "id": "JTb9HCZFAb_3"
   },
   "outputs": [],
   "source": [
    "# Located in <project root>/custom_libs/Project2\n",
    "import custom_libs.Project2.plotter as pl"
   ]
  },
  {
   "cell_type": "code",
   "execution_count": 10,
   "metadata": {
    "colab": {
     "base_uri": "https://localhost:8080/",
     "height": 297
    },
    "executionInfo": {
     "elapsed": 1893,
     "status": "ok",
     "timestamp": 1632449851320,
     "user": {
      "displayName": "Kostas Georgiou",
      "photoUrl": "https://lh3.googleusercontent.com/a-/AOh14GhzP5qrxeKXeuneTscU-PqTEiyBLJpOwQ-olOc2x5s=s64",
      "userId": "10199933473437407446"
     },
     "user_tz": 240
    },
    "id": "7aUqgO-4llf4",
    "outputId": "93a67e10-348d-4cae-fcfd-599413d5ddef"
   },
   "outputs": [
    {
     "name": "stderr",
     "output_type": "stream",
     "text": [
      "/home/drkostas/GDrive/Projects/UTK/COSC522/custom_libs/Project2/plotter.py:52: UserWarning: Matplotlib is currently using module://matplotlib_inline.backend_inline, which is a non-GUI backend, so cannot show the figure.\n",
      "  fig.show()\n"
     ]
    },
    {
     "data": {
      "image/png": "[encoded data removed]",
      "text/plain": [
       "<Figure size 792x288 with 3 Axes>"
      ]
     },
     "metadata": {},
     "output_type": "display_data"
    }
   ],
   "source": [
    "plotter = pl.Plotter(synth_tr, synth_te, pima_tr, pima_te)\n",
    "plotter.plot_dataset()"
   ]
  },
  {
   "cell_type": "markdown",
   "metadata": {
    "id": "hzp0igMFIlDO"
   },
   "source": [
    "## Task 1"
   ]
  },
  {
   "cell_type": "markdown",
   "metadata": {
    "id": "r1Ssku8D_qDU"
   },
   "source": [
    "### KNN Algorithm"
   ]
  },
  {
   "cell_type": "code",
   "execution_count": 19,
   "metadata": {
    "executionInfo": {
     "elapsed": 153,
     "status": "ok",
     "timestamp": 1632449862664,
     "user": {
      "displayName": "Kostas Georgiou",
      "photoUrl": "https://lh3.googleusercontent.com/a-/AOh14GhzP5qrxeKXeuneTscU-PqTEiyBLJpOwQ-olOc2x5s=s64",
      "userId": "10199933473437407446"
     },
     "user_tz": 240
    },
    "id": "UHzHKvTh_v7i"
   },
   "outputs": [],
   "source": [
    "# Located in <project root>/custom_libs/Project2\n",
    "import custom_libs.Project2.models as models"
   ]
  },
  {
   "cell_type": "code",
   "execution_count": 22,
   "metadata": {
    "colab": {
     "base_uri": "https://localhost:8080/"
    },
    "executionInfo": {
     "elapsed": 188,
     "status": "ok",
     "timestamp": 1632449862843,
     "user": {
      "displayName": "Kostas Georgiou",
      "photoUrl": "https://lh3.googleusercontent.com/a-/AOh14GhzP5qrxeKXeuneTscU-PqTEiyBLJpOwQ-olOc2x5s=s64",
      "userId": "10199933473437407446"
     },
     "user_tz": 240
    },
    "id": "L3WVeLzBAFjS",
    "outputId": "62501753-f933-460a-d695-f065c6c96d88"
   },
   "outputs": [
    {
     "name": "stderr",
     "output_type": "stream",
     "text": [
      "2021-10-15 23:28:07 Project2 Models INFO     \u001b[1m\u001b[32mkNN (k=2) for the Synthetic dataset\u001b[0m\n",
      "2021-10-15 23:28:07 Project2 Models INFO     \u001b[1m\u001b[32mThe overall accuracy is: 0.8470\u001b[0m\n",
      "2021-10-15 23:28:07 Project2 Models INFO     \u001b[1m\u001b[32mThe classwise accuracies are: [0.942, 0.752]\u001b[0m\n",
      "2021-10-15 23:28:07 Project2 Models INFO     \u001b[1m\u001b[32mTotal time: 0.0316 sec(s)\u001b[0m\n"
     ]
    }
   ],
   "source": [
    "# kNN for the Synthetic Dataset for k = 2\n",
    "k = 2\n",
    "knn_synth = models.KNN(k=k, train=synth_tr)\n",
    "knn_synth.predict(synth_te)\n",
    "synth_accuracy, synth_classwise_accuracy, synth_prediction_time = knn_synth.get_statistics()\n",
    "knn_synth.print_statistics(name='Synthetic')"
   ]
  },
  {
   "cell_type": "code",
   "execution_count": 23,
   "metadata": {
    "colab": {
     "base_uri": "https://localhost:8080/"
    },
    "executionInfo": {
     "elapsed": 10,
     "status": "ok",
     "timestamp": 1632449862845,
     "user": {
      "displayName": "Kostas Georgiou",
      "photoUrl": "https://lh3.googleusercontent.com/a-/AOh14GhzP5qrxeKXeuneTscU-PqTEiyBLJpOwQ-olOc2x5s=s64",
      "userId": "10199933473437407446"
     },
     "user_tz": 240
    },
    "id": "3-gNhhCdGfu-",
    "outputId": "09513433-8223-488d-b551-6d8f7a82a5be"
   },
   "outputs": [
    {
     "name": "stderr",
     "output_type": "stream",
     "text": [
      "2021-10-15 23:28:07 Project2 Models INFO     \u001b[1m\u001b[32mkNN (k=2) for the Pima dataset\u001b[0m\n",
      "2021-10-15 23:28:07 Project2 Models INFO     \u001b[1m\u001b[32mThe overall accuracy is: 0.6898\u001b[0m\n",
      "2021-10-15 23:28:07 Project2 Models INFO     \u001b[1m\u001b[32mThe classwise accuracies are: [0.7522935779816514, 0.6591928251121076]\u001b[0m\n",
      "2021-10-15 23:28:07 Project2 Models INFO     \u001b[1m\u001b[32mTotal time: 0.0103 sec(s)\u001b[0m\n"
     ]
    }
   ],
   "source": [
    "# kNN for the Pima Dataset for k = 2\n",
    "k = 2\n",
    "knn_pima = models.KNN(k=k, train=pima_tr)\n",
    "knn_pima.predict(pima_te)\n",
    "pima_accuracy, pima_classwise_accuracy, pima_prediction_time = knn_pima.get_statistics()\n",
    "knn_pima.print_statistics(name='Pima')"
   ]
  },
  {
   "cell_type": "markdown",
   "metadata": {
    "id": "GywqVuqlIW2O"
   },
   "source": [
    "### 1a - Plot 1x2 figure (overall accuracy vs k) "
   ]
  },
  {
   "cell_type": "code",
   "execution_count": 24,
   "metadata": {
    "executionInfo": {
     "elapsed": 149,
     "status": "ok",
     "timestamp": 1632449863798,
     "user": {
      "displayName": "Kostas Georgiou",
      "photoUrl": "https://lh3.googleusercontent.com/a-/AOh14GhzP5qrxeKXeuneTscU-PqTEiyBLJpOwQ-olOc2x5s=s64",
      "userId": "10199933473437407446"
     },
     "user_tz": 240
    },
    "id": "9XxD9ZMVJEGo"
   },
   "outputs": [],
   "source": [
    "def gather_statistics(train: np.ndarray, test: np.ndarray) -> Tuple[List, List, List, List]:\n",
    "  \"\"\" Function that gathers statistics running kNN for input dataset. \"\"\"\n",
    "\n",
    "  max_k = int(np.ceil(np.sqrt(train.shape[0]+1)))\n",
    "  k_range = list(range(1, max_k+1))\n",
    "  # Run for each k\n",
    "  accuracies = []\n",
    "  classwise_accuracies = []\n",
    "  prediction_times = []\n",
    "  for k in tqdm(k_range):\n",
    "    knn_model = models.KNN(k=k, train=train)\n",
    "    knn_model.predict(test)\n",
    "    accuracy, classwise_accuracy, prediction_time = knn_model.get_statistics()\n",
    "    accuracies.append(accuracy)\n",
    "    classwise_accuracies.append(classwise_accuracy)\n",
    "    prediction_times.append(prediction_time)\n",
    "\n",
    "  return k_range, accuracies, classwise_accuracies, prediction_times"
   ]
  },
  {
   "cell_type": "code",
   "execution_count": 25,
   "metadata": {
    "colab": {
     "base_uri": "https://localhost:8080/",
     "height": 0,
     "referenced_widgets": [
      "b42d5c3f41a346e192d791f35c21d019",
      "659ec2e347b24948a37090fede618189",
      "948215b3ee07438f807c5434fdc80602",
      "7359b98511f643dcaa3921033ffe3479",
      "720e57aa28bc4b6eb403949139654ed7",
      "a2ee44be03fc4192bff48149494c2941",
      "7b0ec03dcdc44a9db1ff68ccad024ecd",
      "3b984ace2d424c4d9ff2939f82f6f946",
      "e094086b9ba4410b8a4ec7c0524ee91f",
      "c01514b790624ba080e19c28107bd045",
      "d07982632af64eec9a26cb6adf20a49c"
     ]
    },
    "executionInfo": {
     "elapsed": 819,
     "status": "ok",
     "timestamp": 1632449864607,
     "user": {
      "displayName": "Kostas Georgiou",
      "photoUrl": "https://lh3.googleusercontent.com/a-/AOh14GhzP5qrxeKXeuneTscU-PqTEiyBLJpOwQ-olOc2x5s=s64",
      "userId": "10199933473437407446"
     },
     "user_tz": 240
    },
    "id": "wffXnmMbJuaQ",
    "outputId": "b162304f-7a38-43fc-bd6b-e25b174fea68"
   },
   "outputs": [
    {
     "data": {
      "application/json": {
       "ascii": false,
       "bar_format": null,
       "colour": null,
       "elapsed": 0.016367673873901367,
       "initial": 0,
       "n": 0,
       "ncols": null,
       "nrows": null,
       "postfix": null,
       "prefix": "",
       "rate": null,
       "total": 16,
       "unit": "it",
       "unit_divisor": 1000,
       "unit_scale": false
      },
      "application/vnd.jupyter.widget-view+json": {
       "model_id": "1579df3ff97944e6acf2d7cb4b96ce7e",
       "version_major": 2,
       "version_minor": 0
      },
      "text/plain": [
       "  0%|          | 0/16 [00:00<?, ?it/s]"
      ]
     },
     "metadata": {},
     "output_type": "display_data"
    }
   ],
   "source": [
    "# Get statistics for Synthetic Dataset\n",
    "synth_k_range, synth_accuracies, synth_classwise_accuracies, synth_prediction_times = gather_statistics(synth_tr, synth_te)"
   ]
  },
  {
   "cell_type": "code",
   "execution_count": 26,
   "metadata": {
    "colab": {
     "base_uri": "https://localhost:8080/",
     "height": 0,
     "referenced_widgets": [
      "e07d7560706b49adbcaa0afed47a934d",
      "f851eeb293284deb8032c5409d574433",
      "3f5435cd91ed418b932261f04fb7218c",
      "63cbd83d18b44d018264dcb9bc1fa609",
      "5889a64b83ff4662af28d1f5d9f29cbc",
      "6aa7465b4088494b9983cd9ada66d18c",
      "d17e8a2dd58842e3a57247333069cd6a",
      "53e2066e8509457f99382630a507f430",
      "fa1ac182f3b94a1490a8b198d57e22a2",
      "d04732244275429f840ca298ea875ab4",
      "186c076a054e410ea1e1bf090e2eae3c"
     ]
    },
    "executionInfo": {
     "elapsed": 319,
     "status": "ok",
     "timestamp": 1632449864918,
     "user": {
      "displayName": "Kostas Georgiou",
      "photoUrl": "https://lh3.googleusercontent.com/a-/AOh14GhzP5qrxeKXeuneTscU-PqTEiyBLJpOwQ-olOc2x5s=s64",
      "userId": "10199933473437407446"
     },
     "user_tz": 240
    },
    "id": "pSvWEx-zLWcg",
    "outputId": "e899e753-9eb8-4eeb-d6a4-4b3fc9932cd8"
   },
   "outputs": [
    {
     "data": {
      "application/json": {
       "ascii": false,
       "bar_format": null,
       "colour": null,
       "elapsed": 0.018596649169921875,
       "initial": 0,
       "n": 0,
       "ncols": null,
       "nrows": null,
       "postfix": null,
       "prefix": "",
       "rate": null,
       "total": 15,
       "unit": "it",
       "unit_divisor": 1000,
       "unit_scale": false
      },
      "application/vnd.jupyter.widget-view+json": {
       "model_id": "57062db4176741bcb615a9dc79f6fd02",
       "version_major": 2,
       "version_minor": 0
      },
      "text/plain": [
       "  0%|          | 0/15 [00:00<?, ?it/s]"
      ]
     },
     "metadata": {},
     "output_type": "display_data"
    }
   ],
   "source": [
    "# Get statistics for Pima Dataset\n",
    "pima_k_range, pima_accuracies, pima_classwise_accuracies, pima_prediction_times = gather_statistics(pima_tr, pima_te)"
   ]
  },
  {
   "cell_type": "code",
   "execution_count": 27,
   "metadata": {
    "colab": {
     "base_uri": "https://localhost:8080/",
     "height": 0
    },
    "executionInfo": {
     "elapsed": 1055,
     "status": "ok",
     "timestamp": 1632449865970,
     "user": {
      "displayName": "Kostas Georgiou",
      "photoUrl": "https://lh3.googleusercontent.com/a-/AOh14GhzP5qrxeKXeuneTscU-PqTEiyBLJpOwQ-olOc2x5s=s64",
      "userId": "10199933473437407446"
     },
     "user_tz": 240
    },
    "id": "l5NbSHxeI13c",
    "outputId": "c79c5ce8-6e7f-43e5-9088-b6b2c33ca311"
   },
   "outputs": [
    {
     "name": "stderr",
     "output_type": "stream",
     "text": [
      "/home/drkostas/GDrive/Projects/UTK/COSC522/custom_libs/Project2/plotter.py:74: UserWarning: Matplotlib is currently using module://matplotlib_inline.backend_inline, which is a non-GUI backend, so cannot show the figure.\n",
      "  fig.show()\n"
     ]
    },
    {
     "data": {
      "image/png": "[encoded data removed]",
      "text/plain": [
       "<Figure size 648x648 with 2 Axes>"
      ]
     },
     "metadata": {},
     "output_type": "display_data"
    }
   ],
   "source": [
    "# Plot overall Accuracies\n",
    "pl.Plotter.plot_knn_overall_accuracies(synth_k_range, synth_accuracies, pima_k_range, pima_accuracies)"
   ]
  },
  {
   "cell_type": "markdown",
   "metadata": {
    "id": "CCAFri-mN0Kk"
   },
   "source": [
    "### 1b - Generate table similar to project 1 using the optimal parameters for each algorithm"
   ]
  },
  {
   "cell_type": "markdown",
   "metadata": {
    "id": "nxCDXe7allf8"
   },
   "source": [
    "#### Get optimal k for KNN for each dataset"
   ]
  },
  {
   "cell_type": "code",
   "execution_count": 29,
   "metadata": {
    "colab": {
     "base_uri": "https://localhost:8080/"
    },
    "executionInfo": {
     "elapsed": 136,
     "status": "ok",
     "timestamp": 1632449875123,
     "user": {
      "displayName": "Kostas Georgiou",
      "photoUrl": "https://lh3.googleusercontent.com/a-/AOh14GhzP5qrxeKXeuneTscU-PqTEiyBLJpOwQ-olOc2x5s=s64",
      "userId": "10199933473437407446"
     },
     "user_tz": 240
    },
    "id": "qyb7A9Dhllf8",
    "outputId": "29786664-1ba1-4b7d-c39e-6acc6f706f1e"
   },
   "outputs": [
    {
     "name": "stderr",
     "output_type": "stream",
     "text": [
      "2021-10-15 23:28:26 Project2     INFO     \u001b[1m\u001b[33mOptimal k for the Synthetic Dataset: 16\u001b[0m\n",
      "2021-10-15 23:28:26 Project2     INFO     \u001b[1m\u001b[33mOptimal k for the Pima Dataset: 12\u001b[0m\n"
     ]
    }
   ],
   "source": [
    "# Get optimal k for each dataset\n",
    "# Synthetic\n",
    "synth_k_ind = np.argmax(synth_accuracies)\n",
    "synth_optimal_k = synth_k_range[synth_k_ind]\n",
    "# Pima\n",
    "pima_k_ind = np.argmax(pima_accuracies)\n",
    "pima_optimal_k = pima_k_range[pima_k_ind]\n",
    "logger.info(f\"Optimal k for the Synthetic Dataset: {synth_optimal_k}\", color='yellow')\n",
    "logger.info(f\"Optimal k for the Pima Dataset: {pima_optimal_k}\", color='yellow')"
   ]
  },
  {
   "cell_type": "code",
   "execution_count": 31,
   "metadata": {
    "colab": {
     "base_uri": "https://localhost:8080/"
    },
    "executionInfo": {
     "elapsed": 16,
     "status": "ok",
     "timestamp": 1632449875339,
     "user": {
      "displayName": "Kostas Georgiou",
      "photoUrl": "https://lh3.googleusercontent.com/a-/AOh14GhzP5qrxeKXeuneTscU-PqTEiyBLJpOwQ-olOc2x5s=s64",
      "userId": "10199933473437407446"
     },
     "user_tz": 240
    },
    "id": "EUjmMFq8llf8",
    "outputId": "be1637e1-b659-4c86-f877-2e5b7e046824"
   },
   "outputs": [
    {
     "name": "stderr",
     "output_type": "stream",
     "text": [
      "2021-10-15 23:28:34 Project2     INFO     \u001b[1m\u001b[33mPima Dataset Statistics for k=16\u001b[0m\n",
      "2021-10-15 23:28:34 Project2     INFO     \u001b[1m\u001b[33mAccuracy: 0.908\u001b[0m\n",
      "2021-10-15 23:28:34 Project2     INFO     \u001b[1m\u001b[33mClasswise Accuracy: [0.928, 0.888]\u001b[0m\n",
      "2021-10-15 23:28:34 Project2     INFO     \u001b[1m\u001b[33mPrediction Time: 0.030942678451538086\u001b[0m\n",
      "\n",
      "2021-10-15 23:28:34 Project2     INFO     \u001b[1m\u001b[33mPima Dataset Statistics for k=12\u001b[0m\n",
      "2021-10-15 23:28:34 Project2     INFO     \u001b[1m\u001b[33mAccuracy: 0.7801204819277109\u001b[0m\n",
      "2021-10-15 23:28:34 Project2     INFO     \u001b[1m\u001b[33mClasswise Accuracy: [0.5779816513761468, 0.8789237668161435]\u001b[0m\n",
      "2021-10-15 23:28:34 Project2     INFO     \u001b[1m\u001b[33mPrediction Time: 0.009427547454833984\u001b[0m\n"
     ]
    }
   ],
   "source": [
    "# Retrieve the statistics\n",
    "logger.info(f\"Pima Dataset Statistics for k={synth_optimal_k}\")\n",
    "logger.info(f\"Accuracy: {synth_accuracies[synth_k_ind]}\")\n",
    "logger.info(f\"Classwise Accuracy: {synth_classwise_accuracies[synth_k_ind]}\")\n",
    "logger.info(f\"Prediction Time: {synth_prediction_times[synth_k_ind]}\")\n",
    "logger.nl()\n",
    "logger.info(f\"Pima Dataset Statistics for k={pima_optimal_k}\")\n",
    "logger.info(f\"Accuracy: {pima_accuracies[pima_k_ind]}\")\n",
    "logger.info(f\"Classwise Accuracy: {pima_classwise_accuracies[pima_k_ind]}\")\n",
    "logger.info(f\"Prediction Time: {pima_prediction_times[pima_k_ind]}\")"
   ]
  },
  {
   "cell_type": "markdown",
   "metadata": {
    "id": "Br4YWEsOllf9"
   },
   "source": [
    "#### Get optimal priors and covariance type for the three parametric models for each dataset"
   ]
  },
  {
   "cell_type": "code",
   "execution_count": 32,
   "metadata": {
    "executionInfo": {
     "elapsed": 145,
     "status": "ok",
     "timestamp": 1632449875481,
     "user": {
      "displayName": "Kostas Georgiou",
      "photoUrl": "https://lh3.googleusercontent.com/a-/AOh14GhzP5qrxeKXeuneTscU-PqTEiyBLJpOwQ-olOc2x5s=s64",
      "userId": "10199933473437407446"
     },
     "user_tz": 240
    },
    "id": "ua0ZJlU3llf9"
   },
   "outputs": [],
   "source": [
    "# Located in <project root>/custom_libs/Project1\n",
    "import custom_libs.Project1.parametric_model as pm"
   ]
  },
  {
   "cell_type": "code",
   "execution_count": 33,
   "metadata": {
    "executionInfo": {
     "elapsed": 11,
     "status": "ok",
     "timestamp": 1632449875482,
     "user": {
      "displayName": "Kostas Georgiou",
      "photoUrl": "https://lh3.googleusercontent.com/a-/AOh14GhzP5qrxeKXeuneTscU-PqTEiyBLJpOwQ-olOc2x5s=s64",
      "userId": "10199933473437407446"
     },
     "user_tz": 240
    },
    "id": "-WO9GREjllf9"
   },
   "outputs": [],
   "source": [
    "# Initialize the parametric classifiers\n",
    "synth_classifier = pm.ParametricModel(train=synth_tr, test=synth_te)\n",
    "pima_classifier = pm.ParametricModel(train=pima_tr, test=pima_te)\n",
    "# Fit the models (retrieve means, stds, covs etc)\n",
    "synth_classifier.fit()\n",
    "pima_classifier.fit()"
   ]
  },
  {
   "cell_type": "code",
   "execution_count": 34,
   "metadata": {
    "executionInfo": {
     "elapsed": 11,
     "status": "ok",
     "timestamp": 1632449875483,
     "user": {
      "displayName": "Kostas Georgiou",
      "photoUrl": "https://lh3.googleusercontent.com/a-/AOh14GhzP5qrxeKXeuneTscU-PqTEiyBLJpOwQ-olOc2x5s=s64",
      "userId": "10199933473437407446"
     },
     "user_tz": 240
    },
    "id": "3r8IgDC3llf-"
   },
   "outputs": [],
   "source": [
    "# Setup the different configurations\n",
    "cases = (\"euclidean\", \"mahalanobis\", \"quadratic\")\n",
    "priors_c1 = np.linspace(0.01, 1.0, 200, endpoint=False)\n",
    "first_and_second_case_cov_types = (\"avg\", \"first\", \"second\")"
   ]
  },
  {
   "cell_type": "code",
   "execution_count": 35,
   "metadata": {
    "colab": {
     "base_uri": "https://localhost:8080/",
     "height": 0,
     "referenced_widgets": [
      "2e72a4541202468da73f14f728aa9094",
      "e400f61fbc794d1993a0add16c3b1696",
      "59a4cf248ae945cd82caaa3c7ab0c94f",
      "2bca00ae545b49388deefa0cdf3e97ad",
      "4273f177b5824c4b93c285e20742e3ba",
      "6d3d0d1137094c79acea627567e000e7",
      "46e98b184b3a40a8a79e71c7785d570d",
      "a7485ee7bf0146aa8de5b85a88a7b75a",
      "01c7ee96383943989ab72b148adc577b",
      "0bf7122fa48f495386ac279a05130eb8",
      "1e13d708b1284455913b8961b610794c"
     ]
    },
    "executionInfo": {
     "elapsed": 111641,
     "status": "ok",
     "timestamp": 1632449987114,
     "user": {
      "displayName": "Kostas Georgiou",
      "photoUrl": "https://lh3.googleusercontent.com/a-/AOh14GhzP5qrxeKXeuneTscU-PqTEiyBLJpOwQ-olOc2x5s=s64",
      "userId": "10199933473437407446"
     },
     "user_tz": 240
    },
    "id": "tl-1DJt2llf-",
    "outputId": "ae0e421d-8ede-4c80-c054-bd90a0d13d88"
   },
   "outputs": [
    {
     "data": {
      "application/json": {
       "ascii": false,
       "bar_format": null,
       "colour": null,
       "elapsed": 0.016182422637939453,
       "initial": 0,
       "n": 0,
       "ncols": null,
       "nrows": null,
       "postfix": null,
       "prefix": "cases",
       "rate": null,
       "total": 3,
       "unit": "it",
       "unit_divisor": 1000,
       "unit_scale": false
      },
      "application/vnd.jupyter.widget-view+json": {
       "model_id": "82b415ad20a94c93b6768519810d4465",
       "version_major": 2,
       "version_minor": 0
      },
      "text/plain": [
       "cases:   0%|          | 0/3 [00:00<?, ?it/s]"
      ]
     },
     "metadata": {},
     "output_type": "display_data"
    },
    {
     "ename": "KeyboardInterrupt",
     "evalue": "",
     "output_type": "error",
     "traceback": [
      "\u001b[0;31m---------------------------------------------------------------------------\u001b[0m",
      "\u001b[0;31mKeyboardInterrupt\u001b[0m                         Traceback (most recent call last)",
      "\u001b[0;32m/tmp/ipykernel_4842/1092627177.py\u001b[0m in \u001b[0;36m<module>\u001b[0;34m\u001b[0m\n\u001b[1;32m     10\u001b[0m             \u001b[0;31m# Synth Dataset\u001b[0m\u001b[0;34m\u001b[0m\u001b[0;34m\u001b[0m\u001b[0;34m\u001b[0m\u001b[0m\n\u001b[1;32m     11\u001b[0m             synth_classifier.predict(mtype=case, priors=[prior_c1, abs(1-prior_c1)], \n\u001b[0;32m---> 12\u001b[0;31m                                      first_and_second_case_cov_type=cov_type)\n\u001b[0m\u001b[1;32m     13\u001b[0m             \u001b[0mstatistics\u001b[0m\u001b[0;34m[\u001b[0m\u001b[0;34m\"synth\"\u001b[0m\u001b[0;34m]\u001b[0m\u001b[0;34m[\u001b[0m\u001b[0mcase\u001b[0m\u001b[0;34m]\u001b[0m\u001b[0;34m[\u001b[0m\u001b[0mcov_type\u001b[0m\u001b[0;34m]\u001b[0m\u001b[0;34m[\u001b[0m\u001b[0mprior_c1\u001b[0m\u001b[0;34m]\u001b[0m \u001b[0;34m=\u001b[0m \u001b[0msynth_classifier\u001b[0m\u001b[0;34m.\u001b[0m\u001b[0mget_statistics\u001b[0m\u001b[0;34m(\u001b[0m\u001b[0mcase\u001b[0m\u001b[0;34m)\u001b[0m\u001b[0;34m\u001b[0m\u001b[0;34m\u001b[0m\u001b[0m\n\u001b[1;32m     14\u001b[0m             \u001b[0;31m# Pima Dataset\u001b[0m\u001b[0;34m\u001b[0m\u001b[0;34m\u001b[0m\u001b[0;34m\u001b[0m\u001b[0m\n",
      "\u001b[0;32m~/GDrive/Projects/UTK/COSC522/custom_libs/Project1/parametric_model.py\u001b[0m in \u001b[0;36mpredict\u001b[0;34m(self, mtype, priors, first_and_second_case_cov_type)\u001b[0m\n\u001b[1;32m    139\u001b[0m             \u001b[0;32mfor\u001b[0m \u001b[0mn_class\u001b[0m \u001b[0;32min\u001b[0m \u001b[0mself\u001b[0m\u001b[0;34m.\u001b[0m\u001b[0munique_classes\u001b[0m\u001b[0;34m:\u001b[0m\u001b[0;34m\u001b[0m\u001b[0;34m\u001b[0m\u001b[0m\n\u001b[1;32m    140\u001b[0m                 \u001b[0;31m# Calculate g for each class and append to a list\u001b[0m\u001b[0;34m\u001b[0m\u001b[0;34m\u001b[0m\u001b[0;34m\u001b[0m\u001b[0m\n\u001b[0;32m--> 141\u001b[0;31m                 \u001b[0mg\u001b[0m\u001b[0;34m[\u001b[0m\u001b[0mn_class\u001b[0m\u001b[0;34m]\u001b[0m \u001b[0;34m=\u001b[0m \u001b[0mbuild_g\u001b[0m\u001b[0;34m(\u001b[0m\u001b[0msample\u001b[0m\u001b[0;34m=\u001b[0m\u001b[0msample\u001b[0m\u001b[0;34m,\u001b[0m \u001b[0mn_class\u001b[0m\u001b[0;34m=\u001b[0m\u001b[0mn_class\u001b[0m\u001b[0;34m,\u001b[0m \u001b[0mpriors\u001b[0m\u001b[0;34m=\u001b[0m\u001b[0mpriors\u001b[0m\u001b[0;34m)\u001b[0m\u001b[0;34m\u001b[0m\u001b[0;34m\u001b[0m\u001b[0m\n\u001b[0m\u001b[1;32m    142\u001b[0m             \u001b[0m_predicted_y\u001b[0m\u001b[0;34m.\u001b[0m\u001b[0mappend\u001b[0m\u001b[0;34m(\u001b[0m\u001b[0mg\u001b[0m\u001b[0;34m.\u001b[0m\u001b[0margmax\u001b[0m\u001b[0;34m(\u001b[0m\u001b[0;34m)\u001b[0m\u001b[0;34m)\u001b[0m\u001b[0;34m\u001b[0m\u001b[0;34m\u001b[0m\u001b[0m\n\u001b[1;32m    143\u001b[0m         \u001b[0mself\u001b[0m\u001b[0;34m.\u001b[0m\u001b[0mpredicted_y\u001b[0m\u001b[0;34m[\u001b[0m\u001b[0mmtype\u001b[0m\u001b[0;34m]\u001b[0m \u001b[0;34m=\u001b[0m \u001b[0mnp\u001b[0m\u001b[0;34m.\u001b[0m\u001b[0marray\u001b[0m\u001b[0;34m(\u001b[0m\u001b[0m_predicted_y\u001b[0m\u001b[0;34m)\u001b[0m\u001b[0;34m\u001b[0m\u001b[0;34m\u001b[0m\u001b[0m\n",
      "\u001b[0;32m~/GDrive/Projects/UTK/COSC522/custom_libs/Project1/parametric_model.py\u001b[0m in \u001b[0;36m_build_g_mahalanobis\u001b[0;34m(self, sample, n_class, priors)\u001b[0m\n\u001b[1;32m     81\u001b[0m     \u001b[0;32mdef\u001b[0m \u001b[0m_build_g_mahalanobis\u001b[0m\u001b[0;34m(\u001b[0m\u001b[0mself\u001b[0m\u001b[0;34m,\u001b[0m \u001b[0msample\u001b[0m\u001b[0;34m,\u001b[0m \u001b[0mn_class\u001b[0m\u001b[0;34m,\u001b[0m \u001b[0mpriors\u001b[0m\u001b[0;34m:\u001b[0m \u001b[0mList\u001b[0m\u001b[0;34m[\u001b[0m\u001b[0mfloat\u001b[0m\u001b[0;34m]\u001b[0m\u001b[0;34m)\u001b[0m\u001b[0;34m:\u001b[0m\u001b[0;34m\u001b[0m\u001b[0;34m\u001b[0m\u001b[0m\n\u001b[1;32m     82\u001b[0m         first_term_dot_1 = np.matmul((self.x_test[sample] - self.means[n_class]).T,\n\u001b[0;32m---> 83\u001b[0;31m                                      np.linalg.inv(self.first_and_second_case_cov))\n\u001b[0m\u001b[1;32m     84\u001b[0m         first_term = -(1 / 2) * np.matmul(first_term_dot_1,\n\u001b[1;32m     85\u001b[0m                                           (self.x_test[sample] - self.means[n_class]))\n",
      "\u001b[0;32m<__array_function__ internals>\u001b[0m in \u001b[0;36minv\u001b[0;34m(*args, **kwargs)\u001b[0m\n",
      "\u001b[0;32m~/anaconda3/envs/cosc522/lib/python3.7/site-packages/numpy-1.21.2-py3.7-linux-x86_64.egg/numpy/linalg/linalg.py\u001b[0m in \u001b[0;36minv\u001b[0;34m(a)\u001b[0m\n\u001b[1;32m    543\u001b[0m     \u001b[0msignature\u001b[0m \u001b[0;34m=\u001b[0m \u001b[0;34m'D->D'\u001b[0m \u001b[0;32mif\u001b[0m \u001b[0misComplexType\u001b[0m\u001b[0;34m(\u001b[0m\u001b[0mt\u001b[0m\u001b[0;34m)\u001b[0m \u001b[0;32melse\u001b[0m \u001b[0;34m'd->d'\u001b[0m\u001b[0;34m\u001b[0m\u001b[0;34m\u001b[0m\u001b[0m\n\u001b[1;32m    544\u001b[0m     \u001b[0mextobj\u001b[0m \u001b[0;34m=\u001b[0m \u001b[0mget_linalg_error_extobj\u001b[0m\u001b[0;34m(\u001b[0m\u001b[0m_raise_linalgerror_singular\u001b[0m\u001b[0;34m)\u001b[0m\u001b[0;34m\u001b[0m\u001b[0;34m\u001b[0m\u001b[0m\n\u001b[0;32m--> 545\u001b[0;31m     \u001b[0mainv\u001b[0m \u001b[0;34m=\u001b[0m \u001b[0m_umath_linalg\u001b[0m\u001b[0;34m.\u001b[0m\u001b[0minv\u001b[0m\u001b[0;34m(\u001b[0m\u001b[0ma\u001b[0m\u001b[0;34m,\u001b[0m \u001b[0msignature\u001b[0m\u001b[0;34m=\u001b[0m\u001b[0msignature\u001b[0m\u001b[0;34m,\u001b[0m \u001b[0mextobj\u001b[0m\u001b[0;34m=\u001b[0m\u001b[0mextobj\u001b[0m\u001b[0;34m)\u001b[0m\u001b[0;34m\u001b[0m\u001b[0;34m\u001b[0m\u001b[0m\n\u001b[0m\u001b[1;32m    546\u001b[0m     \u001b[0;32mreturn\u001b[0m \u001b[0mwrap\u001b[0m\u001b[0;34m(\u001b[0m\u001b[0mainv\u001b[0m\u001b[0;34m.\u001b[0m\u001b[0mastype\u001b[0m\u001b[0;34m(\u001b[0m\u001b[0mresult_t\u001b[0m\u001b[0;34m,\u001b[0m \u001b[0mcopy\u001b[0m\u001b[0;34m=\u001b[0m\u001b[0;32mFalse\u001b[0m\u001b[0;34m)\u001b[0m\u001b[0;34m)\u001b[0m\u001b[0;34m\u001b[0m\u001b[0;34m\u001b[0m\u001b[0m\n\u001b[1;32m    547\u001b[0m \u001b[0;34m\u001b[0m\u001b[0m\n",
      "\u001b[0;31mKeyboardInterrupt\u001b[0m: "
     ]
    }
   ],
   "source": [
    "# Calculate statistics for all the cases\n",
    "statistics = {\"synth\": {}, \"pima\": {}}\n",
    "for case in tqdm(cases, desc='cases'):\n",
    "    statistics[\"synth\"][case] = {}\n",
    "    statistics[\"pima\"][case] = {}    \n",
    "    for cov_type in first_and_second_case_cov_types:\n",
    "        statistics[\"synth\"][case][cov_type] = {}\n",
    "        statistics[\"pima\"][case][cov_type] = {}\n",
    "        for prior_c1 in priors_c1:\n",
    "            # Synth Dataset\n",
    "            synth_classifier.predict(mtype=case, priors=[prior_c1, abs(1-prior_c1)], \n",
    "                                     first_and_second_case_cov_type=cov_type)\n",
    "            statistics[\"synth\"][case][cov_type][prior_c1] = synth_classifier.get_statistics(case)\n",
    "            # Pima Dataset\n",
    "            pima_classifier.predict(mtype=case, priors=[prior_c1, abs(1-prior_c1)], \n",
    "                                     first_and_second_case_cov_type=cov_type)\n",
    "            statistics[\"pima\"][case][cov_type][prior_c1] = pima_classifier.get_statistics(case)\n",
    "        if case == \"quadratic\":\n",
    "            break"
   ]
  },
  {
   "cell_type": "code",
   "execution_count": null,
   "metadata": {
    "executionInfo": {
     "elapsed": 181,
     "status": "ok",
     "timestamp": 1632449989362,
     "user": {
      "displayName": "Kostas Georgiou",
      "photoUrl": "https://lh3.googleusercontent.com/a-/AOh14GhzP5qrxeKXeuneTscU-PqTEiyBLJpOwQ-olOc2x5s=s64",
      "userId": "10199933473437407446"
     },
     "user_tz": 240
    },
    "id": "B6n3RC69llf_"
   },
   "outputs": [],
   "source": [
    "# Find the best configurations based on overall accuracy\n",
    "statistics_synth = statistics['synth']\n",
    "# Get max configuration for synth\n",
    "synth_max = {}\n",
    "for case in cases:\n",
    "    synth_max[case] = {\"accuracy\": 0.0}\n",
    "    for cov_type in statistics_synth[case]:\n",
    "        for prior_c1 in statistics_synth[case][cov_type]:\n",
    "            curent_statistics = statistics_synth[case][cov_type][prior_c1]\n",
    "            current_accuracy = curent_statistics[0]\n",
    "            if current_accuracy > synth_max[case][\"accuracy\"]:\n",
    "                synth_max[case][\"cov_type\"] = cov_type\n",
    "                synth_max[case][\"prior_c1\"] = prior_c1\n",
    "                synth_max[case][\"accuracy\"] = current_accuracy\n",
    "                synth_max[case][\"classwise_accuracy\"] = curent_statistics[1]\n",
    "                synth_max[case][\"prediction_time\"] = curent_statistics[2]\n",
    "# Get max configuration for pima\n",
    "statistics_pima = statistics['pima']\n",
    "pima_max = {}\n",
    "for case in cases:\n",
    "    pima_max[case] = {\"accuracy\": 0.0}\n",
    "    for cov_type in statistics_pima[case]:\n",
    "        for prior_c1 in statistics_pima[case][cov_type]:\n",
    "            curent_statistics = statistics_pima[case][cov_type][prior_c1]\n",
    "            current_accuracy = curent_statistics[0]\n",
    "            if current_accuracy > pima_max[case][\"accuracy\"]:\n",
    "                pima_max[case][\"cov_type\"] = cov_type\n",
    "                pima_max[case][\"prior_c1\"] = prior_c1\n",
    "                pima_max[case][\"accuracy\"] = current_accuracy\n",
    "                pima_max[case][\"classwise_accuracy\"] = curent_statistics[1]\n",
    "                pima_max[case][\"prediction_time\"] = curent_statistics[2]"
   ]
  },
  {
   "cell_type": "code",
   "execution_count": null,
   "metadata": {
    "colab": {
     "base_uri": "https://localhost:8080/"
    },
    "executionInfo": {
     "elapsed": 1045,
     "status": "ok",
     "timestamp": 1632449990405,
     "user": {
      "displayName": "Kostas Georgiou",
      "photoUrl": "https://lh3.googleusercontent.com/a-/AOh14GhzP5qrxeKXeuneTscU-PqTEiyBLJpOwQ-olOc2x5s=s64",
      "userId": "10199933473437407446"
     },
     "user_tz": 240
    },
    "id": "GWCjm0-Qllf_",
    "outputId": "ad3c0717-5476-489a-dec3-9ceaa60fe78a"
   },
   "outputs": [],
   "source": [
    "logger.info('Synthetic and Pima Datasets Best Configurations')\n",
    "pprint(synth_max)\n",
    "pprint(pima_max)"
   ]
  },
  {
   "cell_type": "markdown",
   "metadata": {
    "id": "R50OsWfPllgA"
   },
   "source": [
    "### 1d - Decision Boundaries"
   ]
  },
  {
   "cell_type": "code",
   "execution_count": 36,
   "metadata": {
    "colab": {
     "base_uri": "https://localhost:8080/",
     "height": 933
    },
    "executionInfo": {
     "elapsed": 789,
     "status": "ok",
     "timestamp": 1632450080699,
     "user": {
      "displayName": "Kostas Georgiou",
      "photoUrl": "https://lh3.googleusercontent.com/a-/AOh14GhzP5qrxeKXeuneTscU-PqTEiyBLJpOwQ-olOc2x5s=s64",
      "userId": "10199933473437407446"
     },
     "user_tz": 240
    },
    "id": "GCifZbPRllgA",
    "outputId": "bcf85221-0a8f-4ecf-bb7f-f81654cd32be"
   },
   "outputs": [
    {
     "name": "stderr",
     "output_type": "stream",
     "text": [
      "/home/drkostas/GDrive/Projects/UTK/COSC522/custom_libs/Project2/plotter.py:155: UserWarning: Matplotlib is currently using module://matplotlib_inline.backend_inline, which is a non-GUI backend, so cannot show the figure.\n",
      "  fig.show()\n"
     ]
    },
    {
     "data": {
      "image/png": "[encoded data removed]",
      "text/plain": [
       "<Figure size 792x648 with 1 Axes>"
      ]
     },
     "metadata": {},
     "output_type": "display_data"
    }
   ],
   "source": [
    "plot_knn_synth = models.KNN(k=synth_optimal_k, train=synth_tr)\n",
    "plot_knn_synth.predict(synth_te)\n",
    "pl.Plotter.plot_decision_boundaries(plot_knn_synth, 0.02)\n",
    "# pl.Plotter.test(knn=plot_knn_synth, h=0.8)"
   ]
  },
  {
   "cell_type": "markdown",
   "metadata": {},
   "source": [
    "## Task 2"
   ]
  },
  {
   "cell_type": "markdown",
   "metadata": {},
   "source": [
    "## Kmeans"
   ]
  },
  {
   "cell_type": "code",
   "execution_count": 46,
   "metadata": {},
   "outputs": [
    {
     "name": "stderr",
     "output_type": "stream",
     "text": [
      "2021-10-16 01:22:34 Project2 Models INFO     \u001b[1m\u001b[32mEpoch 3: Changes=58\u001b[0m\n",
      "2021-10-16 01:22:34 Project2 Models INFO     \u001b[1m\u001b[32mEpoch 6: Changes=34\u001b[0m\n",
      "2021-10-16 01:22:34 Project2 Models INFO     \u001b[1m\u001b[32mEpoch 9: Changes=7\u001b[0m\n",
      "2021-10-16 01:22:34 Project2 Models INFO     \u001b[1m\u001b[32mKmeans for the Pima dataset\u001b[0m\n",
      "2021-10-16 01:22:34 Project2 Models INFO     \u001b[1m\u001b[32mThe overall accuracy is: 0.2560\u001b[0m\n",
      "2021-10-16 01:22:34 Project2 Models INFO     \u001b[1m\u001b[32mThe classwise accuracies are: [0.29357798165137616, 0.23766816143497757]\u001b[0m\n",
      "2021-10-16 01:22:34 Project2 Models INFO     \u001b[1m\u001b[32mTotal Iterations: 12\u001b[0m\n",
      "2021-10-16 01:22:34 Project2 Models INFO     \u001b[1m\u001b[32mTotal time: 0.0064 sec(s)\u001b[0m\n"
     ]
    }
   ],
   "source": [
    "# Kmeans for Pima dataset\n",
    "kmeans_pima = models.Kmeans(train_data=pima_tr, seed=0, k=5)\n",
    "kmeans_pima.fit()\n",
    "kmeans_pima.predict(test_data=pima_te, dist='custom')  # custom, cdist, or cdist_sq\n",
    "# Get statistics and print\n",
    "kmeans_pima_accuracy, kmeans_pima_classwise_accuracy, \\\n",
    "    kmeans_pima_prediction_time, kmeans_pima_iterations, kmeans_pima_membership_changes \\\n",
    "    = kmeans_pima.get_statistics()\n",
    "kmeans_pima.print_statistics(name='Pima')"
   ]
  },
  {
   "cell_type": "markdown",
   "metadata": {},
   "source": [
    "## WTA"
   ]
  },
  {
   "cell_type": "code",
   "execution_count": 32,
   "metadata": {},
   "outputs": [
    {
     "name": "stderr",
     "output_type": "stream",
     "text": [
      "2021-09-24 21:25:53 Project2 Models INFO     \u001b[1m\u001b[32mWTA for the Pima dataset\u001b[0m\n",
      "2021-09-24 21:25:53 Project2 Models INFO     \u001b[1m\u001b[32mThe overall accuracy is: 0.7108\u001b[0m\n",
      "2021-09-24 21:25:53 Project2 Models INFO     \u001b[1m\u001b[32mThe classwise accuracies are: [0.44954128440366975, 0.8385650224215246]\u001b[0m\n",
      "2021-09-24 21:25:53 Project2 Models INFO     \u001b[1m\u001b[32mTotal Iterations: 6\u001b[0m\n",
      "2021-09-24 21:25:53 Project2 Models INFO     \u001b[1m\u001b[32mTotal time: 0.0216 sec(s)\u001b[0m\n"
     ]
    }
   ],
   "source": [
    "# WTA for Pima dataset\n",
    "epsilon = 0.1\n",
    "wta_pima = models.WTA(train_data=pima_tr, seed=1)\n",
    "wta_pima.fit()\n",
    "wta_pima.predict(test_data=pima_te, epsilon=epsilon)\n",
    "# Get statistics and print\n",
    "wta_pima_accuracy, wta_pima_classwise_accuracy, \\\n",
    "    wta_pima_prediction_time, wta_pima_iterations, wta_pima_membership_changes \\\n",
    "    = wta_pima.get_statistics()\n",
    "wta_pima.print_statistics(name='Pima')"
   ]
  },
  {
   "cell_type": "markdown",
   "metadata": {},
   "source": [
    "### 2a - Plot \"percentage of samples changing membership\" vs. \"epoch\""
   ]
  },
  {
   "cell_type": "code",
   "execution_count": 33,
   "metadata": {},
   "outputs": [
    {
     "name": "stderr",
     "output_type": "stream",
     "text": [
      "/home/drkostas/GDrive/Projects/UTK/COSC522/custom_libs/Project2/plotter.py:181: UserWarning: Matplotlib is currently using module://matplotlib_inline.backend_inline, which is a non-GUI backend, so cannot show the figure.\n",
      "  fig.show()\n"
     ]
    },
    {
     "data": {
      "image/png": "[encoded data removed]",
      "text/plain": [
       "<Figure size 648x648 with 2 Axes>"
      ]
     },
     "metadata": {},
     "output_type": "display_data"
    }
   ],
   "source": [
    "pl.Plotter.plot_membership_changes(kmeans_pima_membership_changes, wta_pima_membership_changes, epsilon)"
   ]
  },
  {
   "cell_type": "code",
   "execution_count": null,
   "metadata": {},
   "outputs": [],
   "source": []
  }
 ],
 "metadata": {
  "colab": {
   "name": "Project2.ipynb",
   "provenance": []
  },
  "kernelspec": {
   "display_name": "Python 3 (ipykernel)",
   "language": "python",
   "name": "python3"
  },
  "language_info": {
   "codemirror_mode": {
    "name": "ipython",
    "version": 3
   },
   "file_extension": ".py",
   "mimetype": "text/x-python",
   "name": "python",
   "nbconvert_exporter": "python",
   "pygments_lexer": "ipython3",
   "version": "3.7.11"
  },
  "widgets": {
   "application/vnd.jupyter.widget-state+json": {
    "01c7ee96383943989ab72b148adc577b": {
     "model_module": "@jupyter-widgets/base",
     "model_module_version": "1.2.0",
     "model_name": "LayoutModel",
     "state": {
      "_model_module": "@jupyter-widgets/base",
      "_model_module_version": "1.2.0",
      "_model_name": "LayoutModel",
      "_view_count": null,
      "_view_module": "@jupyter-widgets/base",
      "_view_module_version": "1.2.0",
      "_view_name": "LayoutView",
      "align_content": null,
      "align_items": null,
      "align_self": null,
      "border": null,
      "bottom": null,
      "display": null,
      "flex": null,
      "flex_flow": null,
      "grid_area": null,
      "grid_auto_columns": null,
      "grid_auto_flow": null,
      "grid_auto_rows": null,
      "grid_column": null,
      "grid_gap": null,
      "grid_row": null,
      "grid_template_areas": null,
      "grid_template_columns": null,
      "grid_template_rows": null,
      "height": null,
      "justify_content": null,
      "justify_items": null,
      "left": null,
      "margin": null,
      "max_height": null,
      "max_width": null,
      "min_height": null,
      "min_width": null,
      "object_fit": null,
      "object_position": null,
      "order": null,
      "overflow": null,
      "overflow_x": null,
      "overflow_y": null,
      "padding": null,
      "right": null,
      "top": null,
      "visibility": null,
      "width": null
     }
    },
    "0bf7122fa48f495386ac279a05130eb8": {
     "model_module": "@jupyter-widgets/controls",
     "model_module_version": "1.5.0",
     "model_name": "DescriptionStyleModel",
     "state": {
      "_model_module": "@jupyter-widgets/controls",
      "_model_module_version": "1.5.0",
      "_model_name": "DescriptionStyleModel",
      "_view_count": null,
      "_view_module": "@jupyter-widgets/base",
      "_view_module_version": "1.2.0",
      "_view_name": "StyleView",
      "description_width": ""
     }
    },
    "186c076a054e410ea1e1bf090e2eae3c": {
     "model_module": "@jupyter-widgets/base",
     "model_module_version": "1.2.0",
     "model_name": "LayoutModel",
     "state": {
      "_model_module": "@jupyter-widgets/base",
      "_model_module_version": "1.2.0",
      "_model_name": "LayoutModel",
      "_view_count": null,
      "_view_module": "@jupyter-widgets/base",
      "_view_module_version": "1.2.0",
      "_view_name": "LayoutView",
      "align_content": null,
      "align_items": null,
      "align_self": null,
      "border": null,
      "bottom": null,
      "display": null,
      "flex": null,
      "flex_flow": null,
      "grid_area": null,
      "grid_auto_columns": null,
      "grid_auto_flow": null,
      "grid_auto_rows": null,
      "grid_column": null,
      "grid_gap": null,
      "grid_row": null,
      "grid_template_areas": null,
      "grid_template_columns": null,
      "grid_template_rows": null,
      "height": null,
      "justify_content": null,
      "justify_items": null,
      "left": null,
      "margin": null,
      "max_height": null,
      "max_width": null,
      "min_height": null,
      "min_width": null,
      "object_fit": null,
      "object_position": null,
      "order": null,
      "overflow": null,
      "overflow_x": null,
      "overflow_y": null,
      "padding": null,
      "right": null,
      "top": null,
      "visibility": null,
      "width": null
     }
    },
    "1e13d708b1284455913b8961b610794c": {
     "model_module": "@jupyter-widgets/base",
     "model_module_version": "1.2.0",
     "model_name": "LayoutModel",
     "state": {
      "_model_module": "@jupyter-widgets/base",
      "_model_module_version": "1.2.0",
      "_model_name": "LayoutModel",
      "_view_count": null,
      "_view_module": "@jupyter-widgets/base",
      "_view_module_version": "1.2.0",
      "_view_name": "LayoutView",
      "align_content": null,
      "align_items": null,
      "align_self": null,
      "border": null,
      "bottom": null,
      "display": null,
      "flex": null,
      "flex_flow": null,
      "grid_area": null,
      "grid_auto_columns": null,
      "grid_auto_flow": null,
      "grid_auto_rows": null,
      "grid_column": null,
      "grid_gap": null,
      "grid_row": null,
      "grid_template_areas": null,
      "grid_template_columns": null,
      "grid_template_rows": null,
      "height": null,
      "justify_content": null,
      "justify_items": null,
      "left": null,
      "margin": null,
      "max_height": null,
      "max_width": null,
      "min_height": null,
      "min_width": null,
      "object_fit": null,
      "object_position": null,
      "order": null,
      "overflow": null,
      "overflow_x": null,
      "overflow_y": null,
      "padding": null,
      "right": null,
      "top": null,
      "visibility": null,
      "width": null
     }
    },
    "244c5a7a69d64c3a8607e6b969c0dc83": {
     "model_module": "@jupyter-widgets/controls",
     "model_module_version": "1.5.0",
     "model_name": "ButtonStyleModel",
     "state": {
      "_model_module": "@jupyter-widgets/controls",
      "_model_module_version": "1.5.0",
      "_model_name": "ButtonStyleModel",
      "_view_count": null,
      "_view_module": "@jupyter-widgets/base",
      "_view_module_version": "1.2.0",
      "_view_name": "StyleView",
      "button_color": null,
      "font_weight": ""
     }
    },
    "2bca00ae545b49388deefa0cdf3e97ad": {
     "model_module": "@jupyter-widgets/controls",
     "model_module_version": "1.5.0",
     "model_name": "FloatProgressModel",
     "state": {
      "_dom_classes": [],
      "_model_module": "@jupyter-widgets/controls",
      "_model_module_version": "1.5.0",
      "_model_name": "FloatProgressModel",
      "_view_count": null,
      "_view_module": "@jupyter-widgets/controls",
      "_view_module_version": "1.5.0",
      "_view_name": "ProgressView",
      "bar_style": "success",
      "description": "",
      "description_tooltip": null,
      "layout": "IPY_MODEL_01c7ee96383943989ab72b148adc577b",
      "max": 3,
      "min": 0,
      "orientation": "horizontal",
      "style": "IPY_MODEL_a7485ee7bf0146aa8de5b85a88a7b75a",
      "value": 3
     }
    },
    "2e72a4541202468da73f14f728aa9094": {
     "model_module": "@jupyter-widgets/controls",
     "model_module_version": "1.5.0",
     "model_name": "HBoxModel",
     "state": {
      "_dom_classes": [],
      "_model_module": "@jupyter-widgets/controls",
      "_model_module_version": "1.5.0",
      "_model_name": "HBoxModel",
      "_view_count": null,
      "_view_module": "@jupyter-widgets/controls",
      "_view_module_version": "1.5.0",
      "_view_name": "HBoxView",
      "box_style": "",
      "children": [
       "IPY_MODEL_59a4cf248ae945cd82caaa3c7ab0c94f",
       "IPY_MODEL_2bca00ae545b49388deefa0cdf3e97ad",
       "IPY_MODEL_4273f177b5824c4b93c285e20742e3ba"
      ],
      "layout": "IPY_MODEL_e400f61fbc794d1993a0add16c3b1696"
     }
    },
    "3b984ace2d424c4d9ff2939f82f6f946": {
     "model_module": "@jupyter-widgets/controls",
     "model_module_version": "1.5.0",
     "model_name": "ProgressStyleModel",
     "state": {
      "_model_module": "@jupyter-widgets/controls",
      "_model_module_version": "1.5.0",
      "_model_name": "ProgressStyleModel",
      "_view_count": null,
      "_view_module": "@jupyter-widgets/base",
      "_view_module_version": "1.2.0",
      "_view_name": "StyleView",
      "bar_color": null,
      "description_width": ""
     }
    },
    "3f5435cd91ed418b932261f04fb7218c": {
     "model_module": "@jupyter-widgets/controls",
     "model_module_version": "1.5.0",
     "model_name": "HTMLModel",
     "state": {
      "_dom_classes": [],
      "_model_module": "@jupyter-widgets/controls",
      "_model_module_version": "1.5.0",
      "_model_name": "HTMLModel",
      "_view_count": null,
      "_view_module": "@jupyter-widgets/controls",
      "_view_module_version": "1.5.0",
      "_view_name": "HTMLView",
      "description": "",
      "description_tooltip": null,
      "layout": "IPY_MODEL_d17e8a2dd58842e3a57247333069cd6a",
      "placeholder": "​",
      "style": "IPY_MODEL_6aa7465b4088494b9983cd9ada66d18c",
      "value": "100%"
     }
    },
    "4273f177b5824c4b93c285e20742e3ba": {
     "model_module": "@jupyter-widgets/controls",
     "model_module_version": "1.5.0",
     "model_name": "HTMLModel",
     "state": {
      "_dom_classes": [],
      "_model_module": "@jupyter-widgets/controls",
      "_model_module_version": "1.5.0",
      "_model_name": "HTMLModel",
      "_view_count": null,
      "_view_module": "@jupyter-widgets/controls",
      "_view_module_version": "1.5.0",
      "_view_name": "HTMLView",
      "description": "",
      "description_tooltip": null,
      "layout": "IPY_MODEL_1e13d708b1284455913b8961b610794c",
      "placeholder": "​",
      "style": "IPY_MODEL_0bf7122fa48f495386ac279a05130eb8",
      "value": " 3/3 [01:51&lt;00:00, 38.12s/it]"
     }
    },
    "46e98b184b3a40a8a79e71c7785d570d": {
     "model_module": "@jupyter-widgets/base",
     "model_module_version": "1.2.0",
     "model_name": "LayoutModel",
     "state": {
      "_model_module": "@jupyter-widgets/base",
      "_model_module_version": "1.2.0",
      "_model_name": "LayoutModel",
      "_view_count": null,
      "_view_module": "@jupyter-widgets/base",
      "_view_module_version": "1.2.0",
      "_view_name": "LayoutView",
      "align_content": null,
      "align_items": null,
      "align_self": null,
      "border": null,
      "bottom": null,
      "display": null,
      "flex": null,
      "flex_flow": null,
      "grid_area": null,
      "grid_auto_columns": null,
      "grid_auto_flow": null,
      "grid_auto_rows": null,
      "grid_column": null,
      "grid_gap": null,
      "grid_row": null,
      "grid_template_areas": null,
      "grid_template_columns": null,
      "grid_template_rows": null,
      "height": null,
      "justify_content": null,
      "justify_items": null,
      "left": null,
      "margin": null,
      "max_height": null,
      "max_width": null,
      "min_height": null,
      "min_width": null,
      "object_fit": null,
      "object_position": null,
      "order": null,
      "overflow": null,
      "overflow_x": null,
      "overflow_y": null,
      "padding": null,
      "right": null,
      "top": null,
      "visibility": null,
      "width": null
     }
    },
    "53e2066e8509457f99382630a507f430": {
     "model_module": "@jupyter-widgets/controls",
     "model_module_version": "1.5.0",
     "model_name": "ProgressStyleModel",
     "state": {
      "_model_module": "@jupyter-widgets/controls",
      "_model_module_version": "1.5.0",
      "_model_name": "ProgressStyleModel",
      "_view_count": null,
      "_view_module": "@jupyter-widgets/base",
      "_view_module_version": "1.2.0",
      "_view_name": "StyleView",
      "bar_color": null,
      "description_width": ""
     }
    },
    "5889a64b83ff4662af28d1f5d9f29cbc": {
     "model_module": "@jupyter-widgets/controls",
     "model_module_version": "1.5.0",
     "model_name": "HTMLModel",
     "state": {
      "_dom_classes": [],
      "_model_module": "@jupyter-widgets/controls",
      "_model_module_version": "1.5.0",
      "_model_name": "HTMLModel",
      "_view_count": null,
      "_view_module": "@jupyter-widgets/controls",
      "_view_module_version": "1.5.0",
      "_view_name": "HTMLView",
      "description": "",
      "description_tooltip": null,
      "layout": "IPY_MODEL_186c076a054e410ea1e1bf090e2eae3c",
      "placeholder": "​",
      "style": "IPY_MODEL_d04732244275429f840ca298ea875ab4",
      "value": " 15/15 [00:00&lt;00:00, 61.39it/s]"
     }
    },
    "59a4cf248ae945cd82caaa3c7ab0c94f": {
     "model_module": "@jupyter-widgets/controls",
     "model_module_version": "1.5.0",
     "model_name": "HTMLModel",
     "state": {
      "_dom_classes": [],
      "_model_module": "@jupyter-widgets/controls",
      "_model_module_version": "1.5.0",
      "_model_name": "HTMLModel",
      "_view_count": null,
      "_view_module": "@jupyter-widgets/controls",
      "_view_module_version": "1.5.0",
      "_view_name": "HTMLView",
      "description": "",
      "description_tooltip": null,
      "layout": "IPY_MODEL_46e98b184b3a40a8a79e71c7785d570d",
      "placeholder": "​",
      "style": "IPY_MODEL_6d3d0d1137094c79acea627567e000e7",
      "value": "cases: 100%"
     }
    },
    "63cbd83d18b44d018264dcb9bc1fa609": {
     "model_module": "@jupyter-widgets/controls",
     "model_module_version": "1.5.0",
     "model_name": "FloatProgressModel",
     "state": {
      "_dom_classes": [],
      "_model_module": "@jupyter-widgets/controls",
      "_model_module_version": "1.5.0",
      "_model_name": "FloatProgressModel",
      "_view_count": null,
      "_view_module": "@jupyter-widgets/controls",
      "_view_module_version": "1.5.0",
      "_view_name": "ProgressView",
      "bar_style": "success",
      "description": "",
      "description_tooltip": null,
      "layout": "IPY_MODEL_fa1ac182f3b94a1490a8b198d57e22a2",
      "max": 15,
      "min": 0,
      "orientation": "horizontal",
      "style": "IPY_MODEL_53e2066e8509457f99382630a507f430",
      "value": 15
     }
    },
    "659ec2e347b24948a37090fede618189": {
     "model_module": "@jupyter-widgets/base",
     "model_module_version": "1.2.0",
     "model_name": "LayoutModel",
     "state": {
      "_model_module": "@jupyter-widgets/base",
      "_model_module_version": "1.2.0",
      "_model_name": "LayoutModel",
      "_view_count": null,
      "_view_module": "@jupyter-widgets/base",
      "_view_module_version": "1.2.0",
      "_view_name": "LayoutView",
      "align_content": null,
      "align_items": null,
      "align_self": null,
      "border": null,
      "bottom": null,
      "display": null,
      "flex": null,
      "flex_flow": null,
      "grid_area": null,
      "grid_auto_columns": null,
      "grid_auto_flow": null,
      "grid_auto_rows": null,
      "grid_column": null,
      "grid_gap": null,
      "grid_row": null,
      "grid_template_areas": null,
      "grid_template_columns": null,
      "grid_template_rows": null,
      "height": null,
      "justify_content": null,
      "justify_items": null,
      "left": null,
      "margin": null,
      "max_height": null,
      "max_width": null,
      "min_height": null,
      "min_width": null,
      "object_fit": null,
      "object_position": null,
      "order": null,
      "overflow": null,
      "overflow_x": null,
      "overflow_y": null,
      "padding": null,
      "right": null,
      "top": null,
      "visibility": null,
      "width": null
     }
    },
    "6aa7465b4088494b9983cd9ada66d18c": {
     "model_module": "@jupyter-widgets/controls",
     "model_module_version": "1.5.0",
     "model_name": "DescriptionStyleModel",
     "state": {
      "_model_module": "@jupyter-widgets/controls",
      "_model_module_version": "1.5.0",
      "_model_name": "DescriptionStyleModel",
      "_view_count": null,
      "_view_module": "@jupyter-widgets/base",
      "_view_module_version": "1.2.0",
      "_view_name": "StyleView",
      "description_width": ""
     }
    },
    "6d3d0d1137094c79acea627567e000e7": {
     "model_module": "@jupyter-widgets/controls",
     "model_module_version": "1.5.0",
     "model_name": "DescriptionStyleModel",
     "state": {
      "_model_module": "@jupyter-widgets/controls",
      "_model_module_version": "1.5.0",
      "_model_name": "DescriptionStyleModel",
      "_view_count": null,
      "_view_module": "@jupyter-widgets/base",
      "_view_module_version": "1.2.0",
      "_view_name": "StyleView",
      "description_width": ""
     }
    },
    "720e57aa28bc4b6eb403949139654ed7": {
     "model_module": "@jupyter-widgets/controls",
     "model_module_version": "1.5.0",
     "model_name": "HTMLModel",
     "state": {
      "_dom_classes": [],
      "_model_module": "@jupyter-widgets/controls",
      "_model_module_version": "1.5.0",
      "_model_name": "HTMLModel",
      "_view_count": null,
      "_view_module": "@jupyter-widgets/controls",
      "_view_module_version": "1.5.0",
      "_view_name": "HTMLView",
      "description": "",
      "description_tooltip": null,
      "layout": "IPY_MODEL_d07982632af64eec9a26cb6adf20a49c",
      "placeholder": "​",
      "style": "IPY_MODEL_c01514b790624ba080e19c28107bd045",
      "value": " 16/16 [00:00&lt;00:00, 22.47it/s]"
     }
    },
    "7359b98511f643dcaa3921033ffe3479": {
     "model_module": "@jupyter-widgets/controls",
     "model_module_version": "1.5.0",
     "model_name": "FloatProgressModel",
     "state": {
      "_dom_classes": [],
      "_model_module": "@jupyter-widgets/controls",
      "_model_module_version": "1.5.0",
      "_model_name": "FloatProgressModel",
      "_view_count": null,
      "_view_module": "@jupyter-widgets/controls",
      "_view_module_version": "1.5.0",
      "_view_name": "ProgressView",
      "bar_style": "success",
      "description": "",
      "description_tooltip": null,
      "layout": "IPY_MODEL_e094086b9ba4410b8a4ec7c0524ee91f",
      "max": 16,
      "min": 0,
      "orientation": "horizontal",
      "style": "IPY_MODEL_3b984ace2d424c4d9ff2939f82f6f946",
      "value": 16
     }
    },
    "7b0ec03dcdc44a9db1ff68ccad024ecd": {
     "model_module": "@jupyter-widgets/base",
     "model_module_version": "1.2.0",
     "model_name": "LayoutModel",
     "state": {
      "_model_module": "@jupyter-widgets/base",
      "_model_module_version": "1.2.0",
      "_model_name": "LayoutModel",
      "_view_count": null,
      "_view_module": "@jupyter-widgets/base",
      "_view_module_version": "1.2.0",
      "_view_name": "LayoutView",
      "align_content": null,
      "align_items": null,
      "align_self": null,
      "border": null,
      "bottom": null,
      "display": null,
      "flex": null,
      "flex_flow": null,
      "grid_area": null,
      "grid_auto_columns": null,
      "grid_auto_flow": null,
      "grid_auto_rows": null,
      "grid_column": null,
      "grid_gap": null,
      "grid_row": null,
      "grid_template_areas": null,
      "grid_template_columns": null,
      "grid_template_rows": null,
      "height": null,
      "justify_content": null,
      "justify_items": null,
      "left": null,
      "margin": null,
      "max_height": null,
      "max_width": null,
      "min_height": null,
      "min_width": null,
      "object_fit": null,
      "object_position": null,
      "order": null,
      "overflow": null,
      "overflow_x": null,
      "overflow_y": null,
      "padding": null,
      "right": null,
      "top": null,
      "visibility": null,
      "width": null
     }
    },
    "948215b3ee07438f807c5434fdc80602": {
     "model_module": "@jupyter-widgets/controls",
     "model_module_version": "1.5.0",
     "model_name": "HTMLModel",
     "state": {
      "_dom_classes": [],
      "_model_module": "@jupyter-widgets/controls",
      "_model_module_version": "1.5.0",
      "_model_name": "HTMLModel",
      "_view_count": null,
      "_view_module": "@jupyter-widgets/controls",
      "_view_module_version": "1.5.0",
      "_view_name": "HTMLView",
      "description": "",
      "description_tooltip": null,
      "layout": "IPY_MODEL_7b0ec03dcdc44a9db1ff68ccad024ecd",
      "placeholder": "​",
      "style": "IPY_MODEL_a2ee44be03fc4192bff48149494c2941",
      "value": "100%"
     }
    },
    "a2ee44be03fc4192bff48149494c2941": {
     "model_module": "@jupyter-widgets/controls",
     "model_module_version": "1.5.0",
     "model_name": "DescriptionStyleModel",
     "state": {
      "_model_module": "@jupyter-widgets/controls",
      "_model_module_version": "1.5.0",
      "_model_name": "DescriptionStyleModel",
      "_view_count": null,
      "_view_module": "@jupyter-widgets/base",
      "_view_module_version": "1.2.0",
      "_view_name": "StyleView",
      "description_width": ""
     }
    },
    "a7485ee7bf0146aa8de5b85a88a7b75a": {
     "model_module": "@jupyter-widgets/controls",
     "model_module_version": "1.5.0",
     "model_name": "ProgressStyleModel",
     "state": {
      "_model_module": "@jupyter-widgets/controls",
      "_model_module_version": "1.5.0",
      "_model_name": "ProgressStyleModel",
      "_view_count": null,
      "_view_module": "@jupyter-widgets/base",
      "_view_module_version": "1.2.0",
      "_view_name": "StyleView",
      "bar_color": null,
      "description_width": ""
     }
    },
    "b42d5c3f41a346e192d791f35c21d019": {
     "model_module": "@jupyter-widgets/controls",
     "model_module_version": "1.5.0",
     "model_name": "HBoxModel",
     "state": {
      "_dom_classes": [],
      "_model_module": "@jupyter-widgets/controls",
      "_model_module_version": "1.5.0",
      "_model_name": "HBoxModel",
      "_view_count": null,
      "_view_module": "@jupyter-widgets/controls",
      "_view_module_version": "1.5.0",
      "_view_name": "HBoxView",
      "box_style": "",
      "children": [
       "IPY_MODEL_948215b3ee07438f807c5434fdc80602",
       "IPY_MODEL_7359b98511f643dcaa3921033ffe3479",
       "IPY_MODEL_720e57aa28bc4b6eb403949139654ed7"
      ],
      "layout": "IPY_MODEL_659ec2e347b24948a37090fede618189"
     }
    },
    "c01514b790624ba080e19c28107bd045": {
     "model_module": "@jupyter-widgets/controls",
     "model_module_version": "1.5.0",
     "model_name": "DescriptionStyleModel",
     "state": {
      "_model_module": "@jupyter-widgets/controls",
      "_model_module_version": "1.5.0",
      "_model_name": "DescriptionStyleModel",
      "_view_count": null,
      "_view_module": "@jupyter-widgets/base",
      "_view_module_version": "1.2.0",
      "_view_name": "StyleView",
      "description_width": ""
     }
    },
    "d04732244275429f840ca298ea875ab4": {
     "model_module": "@jupyter-widgets/controls",
     "model_module_version": "1.5.0",
     "model_name": "DescriptionStyleModel",
     "state": {
      "_model_module": "@jupyter-widgets/controls",
      "_model_module_version": "1.5.0",
      "_model_name": "DescriptionStyleModel",
      "_view_count": null,
      "_view_module": "@jupyter-widgets/base",
      "_view_module_version": "1.2.0",
      "_view_name": "StyleView",
      "description_width": ""
     }
    },
    "d07982632af64eec9a26cb6adf20a49c": {
     "model_module": "@jupyter-widgets/base",
     "model_module_version": "1.2.0",
     "model_name": "LayoutModel",
     "state": {
      "_model_module": "@jupyter-widgets/base",
      "_model_module_version": "1.2.0",
      "_model_name": "LayoutModel",
      "_view_count": null,
      "_view_module": "@jupyter-widgets/base",
      "_view_module_version": "1.2.0",
      "_view_name": "LayoutView",
      "align_content": null,
      "align_items": null,
      "align_self": null,
      "border": null,
      "bottom": null,
      "display": null,
      "flex": null,
      "flex_flow": null,
      "grid_area": null,
      "grid_auto_columns": null,
      "grid_auto_flow": null,
      "grid_auto_rows": null,
      "grid_column": null,
      "grid_gap": null,
      "grid_row": null,
      "grid_template_areas": null,
      "grid_template_columns": null,
      "grid_template_rows": null,
      "height": null,
      "justify_content": null,
      "justify_items": null,
      "left": null,
      "margin": null,
      "max_height": null,
      "max_width": null,
      "min_height": null,
      "min_width": null,
      "object_fit": null,
      "object_position": null,
      "order": null,
      "overflow": null,
      "overflow_x": null,
      "overflow_y": null,
      "padding": null,
      "right": null,
      "top": null,
      "visibility": null,
      "width": null
     }
    },
    "d17e8a2dd58842e3a57247333069cd6a": {
     "model_module": "@jupyter-widgets/base",
     "model_module_version": "1.2.0",
     "model_name": "LayoutModel",
     "state": {
      "_model_module": "@jupyter-widgets/base",
      "_model_module_version": "1.2.0",
      "_model_name": "LayoutModel",
      "_view_count": null,
      "_view_module": "@jupyter-widgets/base",
      "_view_module_version": "1.2.0",
      "_view_name": "LayoutView",
      "align_content": null,
      "align_items": null,
      "align_self": null,
      "border": null,
      "bottom": null,
      "display": null,
      "flex": null,
      "flex_flow": null,
      "grid_area": null,
      "grid_auto_columns": null,
      "grid_auto_flow": null,
      "grid_auto_rows": null,
      "grid_column": null,
      "grid_gap": null,
      "grid_row": null,
      "grid_template_areas": null,
      "grid_template_columns": null,
      "grid_template_rows": null,
      "height": null,
      "justify_content": null,
      "justify_items": null,
      "left": null,
      "margin": null,
      "max_height": null,
      "max_width": null,
      "min_height": null,
      "min_width": null,
      "object_fit": null,
      "object_position": null,
      "order": null,
      "overflow": null,
      "overflow_x": null,
      "overflow_y": null,
      "padding": null,
      "right": null,
      "top": null,
      "visibility": null,
      "width": null
     }
    },
    "d831b3f8c4a14cddbf88a8fd0b6229b1": {
     "model_module": "@jupyter-widgets/controls",
     "model_module_version": "1.5.0",
     "model_name": "ButtonModel",
     "state": {
      "_dom_classes": [],
      "_model_module": "@jupyter-widgets/controls",
      "_model_module_version": "1.5.0",
      "_model_name": "ButtonModel",
      "_view_count": null,
      "_view_module": "@jupyter-widgets/controls",
      "_view_module_version": "1.5.0",
      "_view_name": "ButtonView",
      "button_style": "",
      "description": "Yes",
      "disabled": false,
      "icon": "",
      "layout": "IPY_MODEL_f6b93f950ff14f0c94f0151bb67dcd9a",
      "style": "IPY_MODEL_244c5a7a69d64c3a8607e6b969c0dc83",
      "tooltip": ""
     }
    },
    "e07d7560706b49adbcaa0afed47a934d": {
     "model_module": "@jupyter-widgets/controls",
     "model_module_version": "1.5.0",
     "model_name": "HBoxModel",
     "state": {
      "_dom_classes": [],
      "_model_module": "@jupyter-widgets/controls",
      "_model_module_version": "1.5.0",
      "_model_name": "HBoxModel",
      "_view_count": null,
      "_view_module": "@jupyter-widgets/controls",
      "_view_module_version": "1.5.0",
      "_view_name": "HBoxView",
      "box_style": "",
      "children": [
       "IPY_MODEL_3f5435cd91ed418b932261f04fb7218c",
       "IPY_MODEL_63cbd83d18b44d018264dcb9bc1fa609",
       "IPY_MODEL_5889a64b83ff4662af28d1f5d9f29cbc"
      ],
      "layout": "IPY_MODEL_f851eeb293284deb8032c5409d574433"
     }
    },
    "e094086b9ba4410b8a4ec7c0524ee91f": {
     "model_module": "@jupyter-widgets/base",
     "model_module_version": "1.2.0",
     "model_name": "LayoutModel",
     "state": {
      "_model_module": "@jupyter-widgets/base",
      "_model_module_version": "1.2.0",
      "_model_name": "LayoutModel",
      "_view_count": null,
      "_view_module": "@jupyter-widgets/base",
      "_view_module_version": "1.2.0",
      "_view_name": "LayoutView",
      "align_content": null,
      "align_items": null,
      "align_self": null,
      "border": null,
      "bottom": null,
      "display": null,
      "flex": null,
      "flex_flow": null,
      "grid_area": null,
      "grid_auto_columns": null,
      "grid_auto_flow": null,
      "grid_auto_rows": null,
      "grid_column": null,
      "grid_gap": null,
      "grid_row": null,
      "grid_template_areas": null,
      "grid_template_columns": null,
      "grid_template_rows": null,
      "height": null,
      "justify_content": null,
      "justify_items": null,
      "left": null,
      "margin": null,
      "max_height": null,
      "max_width": null,
      "min_height": null,
      "min_width": null,
      "object_fit": null,
      "object_position": null,
      "order": null,
      "overflow": null,
      "overflow_x": null,
      "overflow_y": null,
      "padding": null,
      "right": null,
      "top": null,
      "visibility": null,
      "width": null
     }
    },
    "e400f61fbc794d1993a0add16c3b1696": {
     "model_module": "@jupyter-widgets/base",
     "model_module_version": "1.2.0",
     "model_name": "LayoutModel",
     "state": {
      "_model_module": "@jupyter-widgets/base",
      "_model_module_version": "1.2.0",
      "_model_name": "LayoutModel",
      "_view_count": null,
      "_view_module": "@jupyter-widgets/base",
      "_view_module_version": "1.2.0",
      "_view_name": "LayoutView",
      "align_content": null,
      "align_items": null,
      "align_self": null,
      "border": null,
      "bottom": null,
      "display": null,
      "flex": null,
      "flex_flow": null,
      "grid_area": null,
      "grid_auto_columns": null,
      "grid_auto_flow": null,
      "grid_auto_rows": null,
      "grid_column": null,
      "grid_gap": null,
      "grid_row": null,
      "grid_template_areas": null,
      "grid_template_columns": null,
      "grid_template_rows": null,
      "height": null,
      "justify_content": null,
      "justify_items": null,
      "left": null,
      "margin": null,
      "max_height": null,
      "max_width": null,
      "min_height": null,
      "min_width": null,
      "object_fit": null,
      "object_position": null,
      "order": null,
      "overflow": null,
      "overflow_x": null,
      "overflow_y": null,
      "padding": null,
      "right": null,
      "top": null,
      "visibility": null,
      "width": null
     }
    },
    "f6b93f950ff14f0c94f0151bb67dcd9a": {
     "model_module": "@jupyter-widgets/base",
     "model_module_version": "1.2.0",
     "model_name": "LayoutModel",
     "state": {
      "_model_module": "@jupyter-widgets/base",
      "_model_module_version": "1.2.0",
      "_model_name": "LayoutModel",
      "_view_count": null,
      "_view_module": "@jupyter-widgets/base",
      "_view_module_version": "1.2.0",
      "_view_name": "LayoutView",
      "align_content": null,
      "align_items": null,
      "align_self": null,
      "border": null,
      "bottom": null,
      "display": null,
      "flex": null,
      "flex_flow": null,
      "grid_area": null,
      "grid_auto_columns": null,
      "grid_auto_flow": null,
      "grid_auto_rows": null,
      "grid_column": null,
      "grid_gap": null,
      "grid_row": null,
      "grid_template_areas": null,
      "grid_template_columns": null,
      "grid_template_rows": null,
      "height": null,
      "justify_content": null,
      "justify_items": null,
      "left": null,
      "margin": null,
      "max_height": null,
      "max_width": null,
      "min_height": null,
      "min_width": null,
      "object_fit": null,
      "object_position": null,
      "order": null,
      "overflow": null,
      "overflow_x": null,
      "overflow_y": null,
      "padding": null,
      "right": null,
      "top": null,
      "visibility": null,
      "width": null
     }
    },
    "f851eeb293284deb8032c5409d574433": {
     "model_module": "@jupyter-widgets/base",
     "model_module_version": "1.2.0",
     "model_name": "LayoutModel",
     "state": {
      "_model_module": "@jupyter-widgets/base",
      "_model_module_version": "1.2.0",
      "_model_name": "LayoutModel",
      "_view_count": null,
      "_view_module": "@jupyter-widgets/base",
      "_view_module_version": "1.2.0",
      "_view_name": "LayoutView",
      "align_content": null,
      "align_items": null,
      "align_self": null,
      "border": null,
      "bottom": null,
      "display": null,
      "flex": null,
      "flex_flow": null,
      "grid_area": null,
      "grid_auto_columns": null,
      "grid_auto_flow": null,
      "grid_auto_rows": null,
      "grid_column": null,
      "grid_gap": null,
      "grid_row": null,
      "grid_template_areas": null,
      "grid_template_columns": null,
      "grid_template_rows": null,
      "height": null,
      "justify_content": null,
      "justify_items": null,
      "left": null,
      "margin": null,
      "max_height": null,
      "max_width": null,
      "min_height": null,
      "min_width": null,
      "object_fit": null,
      "object_position": null,
      "order": null,
      "overflow": null,
      "overflow_x": null,
      "overflow_y": null,
      "padding": null,
      "right": null,
      "top": null,
      "visibility": null,
      "width": null
     }
    },
    "fa1ac182f3b94a1490a8b198d57e22a2": {
     "model_module": "@jupyter-widgets/base",
     "model_module_version": "1.2.0",
     "model_name": "LayoutModel",
     "state": {
      "_model_module": "@jupyter-widgets/base",
      "_model_module_version": "1.2.0",
      "_model_name": "LayoutModel",
      "_view_count": null,
      "_view_module": "@jupyter-widgets/base",
      "_view_module_version": "1.2.0",
      "_view_name": "LayoutView",
      "align_content": null,
      "align_items": null,
      "align_self": null,
      "border": null,
      "bottom": null,
      "display": null,
      "flex": null,
      "flex_flow": null,
      "grid_area": null,
      "grid_auto_columns": null,
      "grid_auto_flow": null,
      "grid_auto_rows": null,
      "grid_column": null,
      "grid_gap": null,
      "grid_row": null,
      "grid_template_areas": null,
      "grid_template_columns": null,
      "grid_template_rows": null,
      "height": null,
      "justify_content": null,
      "justify_items": null,
      "left": null,
      "margin": null,
      "max_height": null,
      "max_width": null,
      "min_height": null,
      "min_width": null,
      "object_fit": null,
      "object_position": null,
      "order": null,
      "overflow": null,
      "overflow_x": null,
      "overflow_y": null,
      "padding": null,
      "right": null,
      "top": null,
      "visibility": null,
      "width": null
     }
    }
   }
  }
 },
 "nbformat": 4,
 "nbformat_minor": 1
}
