{
 "cells": [
  {
   "cell_type": "markdown",
   "metadata": {
    "id": "lMfgfu-92h_G"
   },
   "source": [
    "# Machine Learning (COSC 522)\n",
    "## Project 1"
   ]
  },
  {
   "cell_type": "markdown",
   "metadata": {
    "id": "2w1drxq0oC_J"
   },
   "source": [
    "## Mount Google Drive Folder (For Google Collab)"
   ]
  },
  {
   "cell_type": "code",
   "execution_count": 1,
   "metadata": {
    "executionInfo": {
     "elapsed": 32,
     "status": "ok",
     "timestamp": 1632449756168,
     "user": {
      "displayName": "Kostas Georgiou",
      "photoUrl": "https://lh3.googleusercontent.com/a-/AOh14GhzP5qrxeKXeuneTscU-PqTEiyBLJpOwQ-olOc2x5s=s64",
      "userId": "10199933473437407446"
     },
     "user_tz": 240
    },
    "id": "-rqLpqrOeY75"
   },
   "outputs": [],
   "source": [
    "# Import Jupyter Widgets\n",
    "import os\n",
    "import ipywidgets as widgets\n",
    "from ipywidgets import interact, interact_manual\n",
    "from IPython.display import display"
   ]
  },
  {
   "cell_type": "code",
   "execution_count": 2,
   "metadata": {
    "colab": {
     "base_uri": "https://localhost:8080/",
     "height": 124,
     "referenced_widgets": [
      "d831b3f8c4a14cddbf88a8fd0b6229b1",
      "244c5a7a69d64c3a8607e6b969c0dc83",
      "f6b93f950ff14f0c94f0151bb67dcd9a"
     ]
    },
    "executionInfo": {
     "elapsed": 161,
     "status": "ok",
     "timestamp": 1632449827269,
     "user": {
      "displayName": "Kostas Georgiou",
      "photoUrl": "https://lh3.googleusercontent.com/a-/AOh14GhzP5qrxeKXeuneTscU-PqTEiyBLJpOwQ-olOc2x5s=s64",
      "userId": "10199933473437407446"
     },
     "user_tz": 240
    },
    "id": "0SkqWJdtllfv",
    "outputId": "51370f69-110d-498a-b72e-e1d9d7482066"
   },
   "outputs": [
    {
     "name": "stdout",
     "output_type": "stream",
     "text": [
      "Are you on Google Collab?\n"
     ]
    },
    {
     "data": {
      "application/vnd.jupyter.widget-view+json": {
       "model_id": "bf07aaf3d92546588606e4e0d46ce733",
       "version_major": 2,
       "version_minor": 0
      },
      "text/plain": [
       "Button(description='Yes', style=ButtonStyle())"
      ]
     },
     "metadata": {},
     "output_type": "display_data"
    }
   ],
   "source": [
    "# Clone the repository if you're in Google Collab\n",
    "# from google.colab import drive\n",
    "# drive.mount('/content/drive', force_remount=False)\n",
    "def mount_and_change_dir(is_collab: bool = False):\n",
    "    from google.colab import drive\n",
    "    # Mount Google Drive\n",
    "    drive.mount('/content/drive', force_remount=False)\n",
    "    # Set working directory\n",
    "    project_path = '/content/drive/MyDrive/Projects/UTK/COSC522'\n",
    "    os.chdir(project_path)\n",
    "    print(os.listdir(project_path))\n",
    "       \n",
    "print(\"Are you on Google Collab?\")\n",
    "btn = widgets.Button(description=\"Yes\")\n",
    "btn.on_click(mount_and_change_dir)\n",
    "display(btn)"
   ]
  },
  {
   "cell_type": "markdown",
   "metadata": {
    "id": "da95WuxPAb1H"
   },
   "source": [
    "## Initializations"
   ]
  },
  {
   "cell_type": "code",
   "execution_count": 3,
   "metadata": {
    "executionInfo": {
     "elapsed": 9074,
     "status": "ok",
     "timestamp": 1632449847314,
     "user": {
      "displayName": "Kostas Georgiou",
      "photoUrl": "https://lh3.googleusercontent.com/a-/AOh14GhzP5qrxeKXeuneTscU-PqTEiyBLJpOwQ-olOc2x5s=s64",
      "userId": "10199933473437407446"
     },
     "user_tz": 240
    },
    "id": "jJQ2iY7AosLj"
   },
   "outputs": [],
   "source": [
    "# Imports\n",
    "%load_ext autoreload\n",
    "%autoreload 2\n",
    "%matplotlib inline\n",
    "%config InlineBackend.figure_formats = ['png']\n",
    "\n",
    "import numpy as np\n",
    "import matplotlib.pyplot as plt\n",
    "from time import time\n",
    "from pprint import pprint\n",
    "import seaborn as sns\n",
    "from scipy.stats import uniform, gaussian_kde, norm\n",
    "from typing import *\n",
    "from tqdm.notebook import tqdm\n",
    "\n",
    "from custom_libs import ColorizedLogger\n",
    "\n",
    "sns.set_style('darkgrid')\n",
    "\n",
    "logger = ColorizedLogger('Project3', 'yellow')"
   ]
  },
  {
   "cell_type": "markdown",
   "metadata": {
    "id": "qw-gMeLen3ri"
   },
   "source": [
    "### Load the two datasets and Preprocessing"
   ]
  },
  {
   "cell_type": "code",
   "execution_count": 4,
   "metadata": {
    "executionInfo": {
     "elapsed": 10,
     "status": "ok",
     "timestamp": 1632449847320,
     "user": {
      "displayName": "Kostas Georgiou",
      "photoUrl": "https://lh3.googleusercontent.com/a-/AOh14GhzP5qrxeKXeuneTscU-PqTEiyBLJpOwQ-olOc2x5s=s64",
      "userId": "10199933473437407446"
     },
     "user_tz": 240
    },
    "id": "83d_grkog376"
   },
   "outputs": [],
   "source": [
    "# Located in <project root>/custom_libs/Project1\n",
    "import custom_libs.Project3.data_loader as dl"
   ]
  },
  {
   "cell_type": "code",
   "execution_count": 5,
   "metadata": {
    "executionInfo": {
     "elapsed": 1763,
     "status": "ok",
     "timestamp": 1632449849075,
     "user": {
      "displayName": "Kostas Georgiou",
      "photoUrl": "https://lh3.googleusercontent.com/a-/AOh14GhzP5qrxeKXeuneTscU-PqTEiyBLJpOwQ-olOc2x5s=s64",
      "userId": "10199933473437407446"
     },
     "user_tz": 240
    },
    "id": "OR5xan8AtBZf"
   },
   "outputs": [],
   "source": [
    "# Create a Data Loader\n",
    "datasets = ['pima', 'flowers']\n",
    "data_loader = dl.DataLoader(datasets=datasets, data_folder='data')"
   ]
  },
  {
   "cell_type": "code",
   "execution_count": 6,
   "metadata": {
    "colab": {
     "base_uri": "https://localhost:8080/"
    },
    "executionInfo": {
     "elapsed": 250,
     "status": "ok",
     "timestamp": 1632449849286,
     "user": {
      "displayName": "Kostas Georgiou",
      "photoUrl": "https://lh3.googleusercontent.com/a-/AOh14GhzP5qrxeKXeuneTscU-PqTEiyBLJpOwQ-olOc2x5s=s64",
      "userId": "10199933473437407446"
     },
     "user_tz": 240
    },
    "id": "gmhgX8h4pqBd",
    "outputId": "5b3bfdd0-22c7-42b2-e314-c977241ce45d"
   },
   "outputs": [
    {
     "name": "stderr",
     "output_type": "stream",
     "text": [
      "2021-10-15 13:51:44 Data Loader  INFO     \u001b[1m\u001b[36m-- pima_tr --\u001b[0m\n",
      "2021-10-15 13:51:44 Data Loader  INFO     \u001b[1m\u001b[36m\tShape: (200, 8)\u001b[0m\n",
      "2021-10-15 13:51:44 Data Loader  INFO     \u001b[1m\u001b[36m\tType: float64\u001b[0m\n",
      "2021-10-15 13:51:44 Data Loader  INFO     \u001b[1m\u001b[36m\tMean:\u001b[0m\n",
      "2021-10-15 13:51:44 Data Loader  INFO     \u001b[1m\u001b[36m\t\t[  3.57  123.97   71.26   29.215] (..)\u001b[0m\n",
      "2021-10-15 13:51:44 Data Loader  INFO     \u001b[1m\u001b[36m\tMax:\u001b[0m\n",
      "2021-10-15 13:51:44 Data Loader  INFO     \u001b[1m\u001b[36m\t\t[ 14. 199. 110.  99.] (..)\u001b[0m\n",
      "2021-10-15 13:51:44 Data Loader  INFO     \u001b[1m\u001b[36m\tMin:\u001b[0m\n",
      "2021-10-15 13:51:44 Data Loader  INFO     \u001b[1m\u001b[36m\t\t[ 0. 56. 38.  7.] (..)\u001b[0m\n",
      "2021-10-15 13:51:44 Data Loader  INFO     \u001b[1m\u001b[36m\tHead:\u001b[0m\n",
      "2021-10-15 13:51:44 Data Loader  INFO     \u001b[1m\u001b[36m\t\t[ 5. 86. 68. 28.] (..)\u001b[0m\n",
      "2021-10-15 13:51:44 Data Loader  INFO     \u001b[1m\u001b[36m-- pima_te --\u001b[0m\n",
      "2021-10-15 13:51:44 Data Loader  INFO     \u001b[1m\u001b[36m\tShape: (332, 8)\u001b[0m\n",
      "2021-10-15 13:51:44 Data Loader  INFO     \u001b[1m\u001b[36m\tType: float64\u001b[0m\n",
      "2021-10-15 13:51:44 Data Loader  INFO     \u001b[1m\u001b[36m\tMean:\u001b[0m\n",
      "2021-10-15 13:51:44 Data Loader  INFO     \u001b[1m\u001b[36m\t\t[  3.48493976 119.25903614  71.65361446  29.1626506 ] (..)\u001b[0m\n",
      "2021-10-15 13:51:44 Data Loader  INFO     \u001b[1m\u001b[36m\tMax:\u001b[0m\n",
      "2021-10-15 13:51:44 Data Loader  INFO     \u001b[1m\u001b[36m\t\t[ 17. 197. 110.  63.] (..)\u001b[0m\n",
      "2021-10-15 13:51:44 Data Loader  INFO     \u001b[1m\u001b[36m\tMin:\u001b[0m\n",
      "2021-10-15 13:51:44 Data Loader  INFO     \u001b[1m\u001b[36m\t\t[ 0. 65. 24.  7.] (..)\u001b[0m\n",
      "2021-10-15 13:51:44 Data Loader  INFO     \u001b[1m\u001b[36m\tHead:\u001b[0m\n",
      "2021-10-15 13:51:44 Data Loader  INFO     \u001b[1m\u001b[36m\t\t[  6. 148.  72.  35.] (..)\u001b[0m\n",
      "2021-10-15 13:51:44 Data Loader  INFO     \u001b[1m\u001b[36m-- flowers --\u001b[0m\n",
      "2021-10-15 13:51:44 Data Loader  INFO     \u001b[1m\u001b[36m\tShape: (120, 120, 3)\u001b[0m\n",
      "2021-10-15 13:51:44 Data Loader  INFO     \u001b[1m\u001b[36m\tType: uint8\u001b[0m\n",
      "2021-10-15 13:51:44 Data Loader  INFO     \u001b[1m\u001b[36m\tMean:\u001b[0m\n",
      "2021-10-15 13:51:44 Data Loader  INFO     \u001b[1m\u001b[36m\t\t[[87.34166667 95.85       88.56666667]\n",
      " [90.01666667 98.48333333 90.63333333]\n",
      " [90.475      98.55       90.34166667]\n",
      " [90.60833333 97.725      90.21666667]] (..)\u001b[0m\n",
      "2021-10-15 13:51:44 Data Loader  INFO     \u001b[1m\u001b[36m\tMax:\u001b[0m\n",
      "2021-10-15 13:51:44 Data Loader  INFO     \u001b[1m\u001b[36m\t\t[[122 132 120]\n",
      " [129 131 122]\n",
      " [124 132 121]\n",
      " [131 133 121]] (..)\u001b[0m\n",
      "2021-10-15 13:51:44 Data Loader  INFO     \u001b[1m\u001b[36m\tMin:\u001b[0m\n",
      "2021-10-15 13:51:44 Data Loader  INFO     \u001b[1m\u001b[36m\t\t[[52 71 66]\n",
      " [53 69 63]\n",
      " [53 69 64]\n",
      " [53 72 73]] (..)\u001b[0m\n",
      "2021-10-15 13:51:44 Data Loader  INFO     \u001b[1m\u001b[36m\tHead:\u001b[0m\n",
      "2021-10-15 13:51:44 Data Loader  INFO     \u001b[1m\u001b[36m\t\t[[106 106 100]\n",
      " [110 110 104]\n",
      " [110 110 104]\n",
      " [101 101  95]] (..)\u001b[0m\n"
     ]
    }
   ],
   "source": [
    "# Print Statistics\n",
    "data_loader.print_statistics()"
   ]
  },
  {
   "cell_type": "code",
   "execution_count": 7,
   "metadata": {
    "colab": {
     "base_uri": "https://localhost:8080/"
    },
    "executionInfo": {
     "elapsed": 24,
     "status": "ok",
     "timestamp": 1632449849287,
     "user": {
      "displayName": "Kostas Georgiou",
      "photoUrl": "https://lh3.googleusercontent.com/a-/AOh14GhzP5qrxeKXeuneTscU-PqTEiyBLJpOwQ-olOc2x5s=s64",
      "userId": "10199933473437407446"
     },
     "user_tz": 240
    },
    "id": "JuNf0CP4llf2",
    "outputId": "36542928-3b4e-4490-ede6-4dbf010d603e"
   },
   "outputs": [
    {
     "name": "stderr",
     "output_type": "stream",
     "text": [
      "2021-10-15 13:51:48 Data Loader  INFO     \u001b[1m\u001b[36m-- pima_tr --\u001b[0m\n",
      "2021-10-15 13:51:48 Data Loader  INFO     \u001b[1m\u001b[36m\tShape: (200, 8)\u001b[0m\n",
      "2021-10-15 13:51:48 Data Loader  INFO     \u001b[1m\u001b[36m\tType: float64\u001b[0m\n",
      "2021-10-15 13:51:48 Data Loader  INFO     \u001b[1m\u001b[36m\tMean:\u001b[0m\n",
      "2021-10-15 13:51:48 Data Loader  INFO     \u001b[1m\u001b[36m\t\t[ 4.10782519e-17  5.66213743e-17 -4.06896739e-16  1.36002321e-17] (..)\u001b[0m\n",
      "2021-10-15 13:51:48 Data Loader  INFO     \u001b[1m\u001b[36m\tMax:\u001b[0m\n",
      "2021-10-15 13:51:48 Data Loader  INFO     \u001b[1m\u001b[36m\t\t[3.10616203 2.37527224 3.38314936 5.96695452] (..)\u001b[0m\n",
      "2021-10-15 13:51:48 Data Loader  INFO     \u001b[1m\u001b[36m\tMin:\u001b[0m\n",
      "2021-10-15 13:51:48 Data Loader  INFO     \u001b[1m\u001b[36m\t\t[-1.06318298 -2.15176934 -2.90458306 -1.89948979] (..)\u001b[0m\n",
      "2021-10-15 13:51:48 Data Loader  INFO     \u001b[1m\u001b[36m\tHead:\u001b[0m\n",
      "2021-10-15 13:51:48 Data Loader  INFO     \u001b[1m\u001b[36m\t\t[ 0.42586881 -1.20204034 -0.28469455 -0.10388837] (..)\u001b[0m\n",
      "2021-10-15 13:51:48 Data Loader  INFO     \u001b[1m\u001b[36m-- pima_te --\u001b[0m\n",
      "2021-10-15 13:51:48 Data Loader  INFO     \u001b[1m\u001b[36m\tShape: (332, 8)\u001b[0m\n",
      "2021-10-15 13:51:48 Data Loader  INFO     \u001b[1m\u001b[36m\tType: float64\u001b[0m\n",
      "2021-10-15 13:51:48 Data Loader  INFO     \u001b[1m\u001b[36m\tMean:\u001b[0m\n",
      "2021-10-15 13:51:48 Data Loader  INFO     \u001b[1m\u001b[36m\t\t[-0.02533182 -0.14913797  0.0343742  -0.00447613] (..)\u001b[0m\n",
      "2021-10-15 13:51:48 Data Loader  INFO     \u001b[1m\u001b[36m\tMax:\u001b[0m\n",
      "2021-10-15 13:51:48 Data Loader  INFO     \u001b[1m\u001b[36m\t\t[3.99959311 2.31195697 3.38314936 2.88878066] (..)\u001b[0m\n",
      "2021-10-15 13:51:48 Data Loader  INFO     \u001b[1m\u001b[36m\tMin:\u001b[0m\n",
      "2021-10-15 13:51:48 Data Loader  INFO     \u001b[1m\u001b[36m\t\t[-1.06318298 -1.86685064 -4.1271977  -1.89948979] (..)\u001b[0m\n",
      "2021-10-15 13:51:48 Data Loader  INFO     \u001b[1m\u001b[36m\tHead:\u001b[0m\n",
      "2021-10-15 13:51:48 Data Loader  INFO     \u001b[1m\u001b[36m\t\t[0.72367917 0.76073293 0.06462392 0.49464544] (..)\u001b[0m\n"
     ]
    }
   ],
   "source": [
    "# Standarize Pima dataset\n",
    "data_loader.standarize_pima(print_statistics=True)"
   ]
  },
  {
   "cell_type": "code",
   "execution_count": 8,
   "metadata": {
    "executionInfo": {
     "elapsed": 6,
     "status": "ok",
     "timestamp": 1632449849287,
     "user": {
      "displayName": "Kostas Georgiou",
      "photoUrl": "https://lh3.googleusercontent.com/a-/AOh14GhzP5qrxeKXeuneTscU-PqTEiyBLJpOwQ-olOc2x5s=s64",
      "userId": "10199933473437407446"
     },
     "user_tz": 240
    },
    "id": "gFRYco0bllf3"
   },
   "outputs": [],
   "source": [
    "# Get the two datasets\n",
    "datasets = data_loader.get_datasets()\n",
    "pima_tr, pima_te = datasets['pima']\n",
    "flowers = datasets['flowers']"
   ]
  },
  {
   "cell_type": "markdown",
   "metadata": {
    "id": "hzp0igMFIlDO"
   },
   "source": [
    "## Task 1"
   ]
  },
  {
   "cell_type": "code",
   "execution_count": 9,
   "metadata": {},
   "outputs": [],
   "source": [
    "# Located in <project root>/custom_libs/Project2\n",
    "import custom_libs.Project3.models as models\n",
    "# The standarized dataset\n",
    "nX_train = pima_tr\n",
    "nX = pima_te"
   ]
  },
  {
   "cell_type": "markdown",
   "metadata": {
    "id": "r1Ssku8D_qDU"
   },
   "source": [
    "### FLD Algorithm"
   ]
  },
  {
   "cell_type": "code",
   "execution_count": 10,
   "metadata": {
    "colab": {
     "base_uri": "https://localhost:8080/"
    },
    "executionInfo": {
     "elapsed": 188,
     "status": "ok",
     "timestamp": 1632449862843,
     "user": {
      "displayName": "Kostas Georgiou",
      "photoUrl": "https://lh3.googleusercontent.com/a-/AOh14GhzP5qrxeKXeuneTscU-PqTEiyBLJpOwQ-olOc2x5s=s64",
      "userId": "10199933473437407446"
     },
     "user_tz": 240
    },
    "id": "L3WVeLzBAFjS",
    "outputId": "62501753-f933-460a-d695-f065c6c96d88"
   },
   "outputs": [
    {
     "name": "stderr",
     "output_type": "stream",
     "text": [
      "2021-10-15 13:51:51 Project3     INFO     \u001b[1m\u001b[33mnX shape including labels: (332, 8)\u001b[0m\n",
      "2021-10-15 13:51:51 Project3     INFO     \u001b[1m\u001b[33mfX shape including labels: (332, 2)\u001b[0m\n"
     ]
    }
   ],
   "source": [
    "# Run FLD on the Pima dataset\n",
    "fld = models.FLD()\n",
    "fld.fit(nX_train)\n",
    "# Get the c-1=1 projection\n",
    "fX = fld.transform(nX)\n",
    "fX_train = fld.transform(nX_train)\n",
    "logger.info(f\"nX shape including labels: {nX.shape}\")\n",
    "logger.info(f\"fX shape including labels: {fX.shape}\")"
   ]
  },
  {
   "cell_type": "markdown",
   "metadata": {},
   "source": [
    "### PCA Algorithm"
   ]
  },
  {
   "cell_type": "code",
   "execution_count": 11,
   "metadata": {},
   "outputs": [
    {
     "name": "stderr",
     "output_type": "stream",
     "text": [
      "2021-10-15 13:51:52 Project3     INFO     \u001b[1m\u001b[33mnX shape including labels: (332, 8)\u001b[0m\n",
      "2021-10-15 13:51:52 Project3     INFO     \u001b[1m\u001b[33mpX1 shape including labels: (332, 2)\u001b[0m\n",
      "2021-10-15 13:51:52 Project3 Models INFO     \u001b[1m\u001b[32mFor # dims=5 error=0.09890249052449862 <= 0.15\u001b[0m\n",
      "2021-10-15 13:51:52 Project3     INFO     \u001b[1m\u001b[33mpX (max 15% error) shape including labels: (332, 6)\u001b[0m\n"
     ]
    }
   ],
   "source": [
    "# Run PCA on the Pima dataset\n",
    "pca = models.PCA()\n",
    "# Run pca and keep 1 dimension\n",
    "pca.fit(nX_train, max_dims=1)\n",
    "pX1 = pca.transform(nX)\n",
    "pX1_train = pca.transform(nX_train)\n",
    "logger.info(f\"nX shape including labels: {nX.shape}\")\n",
    "logger.info(f\"pX1 shape including labels: {pX1.shape}\")\n",
    "# Run PCA and tolerate 15% error\n",
    "pca.fit(nX_train, max_dims=1, max_error=0.15)\n",
    "pX = pca.transform(nX)\n",
    "pX_train = pca.transform(nX_train)\n",
    "logger.info(f\"pX (max 15% error) shape including labels: {pX.shape}\")"
   ]
  },
  {
   "cell_type": "markdown",
   "metadata": {},
   "source": [
    "## Plot the Histograms of fX and pX1"
   ]
  },
  {
   "cell_type": "code",
   "execution_count": 12,
   "metadata": {},
   "outputs": [
    {
     "data": {
      "image/png": "[encoded data removed]",
      "text/plain": [
       "<Figure size 792x288 with 2 Axes>"
      ]
     },
     "metadata": {},
     "output_type": "display_data"
    }
   ],
   "source": [
    "import custom_libs.Project3.plotter as pl\n",
    "plotter = pl.Plotter(nx=nX, fx=fX, px1=pX1, px=pX)\n",
    "plotter.plot_fx_px1_histograms(bins=30)"
   ]
  },
  {
   "cell_type": "markdown",
   "metadata": {},
   "source": [
    "## Decide what distribution fits the two datasets"
   ]
  },
  {
   "cell_type": "code",
   "execution_count": 13,
   "metadata": {},
   "outputs": [],
   "source": [
    "from fitter import Fitter\n",
    "from scipy import stats\n",
    "distributions = ['gamma', 'lognorm', 'norm', 'rayleigh', 'beta', 'invgauss', 'skewnorm']"
   ]
  },
  {
   "cell_type": "markdown",
   "metadata": {},
   "source": [
    "### Test fX"
   ]
  },
  {
   "cell_type": "code",
   "execution_count": 14,
   "metadata": {
    "scrolled": false
   },
   "outputs": [
    {
     "name": "stderr",
     "output_type": "stream",
     "text": [
      "2021-10-15 13:51:55 Project3     INFO     \u001b[1m\u001b[33mRunning D’Agostino and Pearson’s test:\u001b[0m\n",
      "2021-10-15 13:51:55 Project3     INFO     \u001b[1m\u001b[33mp = 9.164306900152856e-06 < 0.001 ?\u001b[0m\n",
      "2021-10-15 13:51:55 Project3     INFO     \u001b[1m\u001b[33mYes. The null hypothesis can be rejected. It can not be Gaussian.\u001b[0m\n",
      "\n",
      "\n"
     ]
    },
    {
     "name": "stdout",
     "output_type": "stream",
     "text": [
      "          sumsquare_error        aic         bic  kl_div\n",
      "beta           289.307733 -85.268296  -22.477277     inf\n",
      "gamma          307.626065 -87.571736   -7.899594     inf\n",
      "invgauss       326.970159 -87.545826   12.347073     inf\n",
      "skewnorm       328.680194 -87.568931   14.078889     inf\n",
      "lognorm        338.471737 -87.432637   23.824872     inf\n",
      "rayleigh       406.409427        inf   78.749343     inf\n",
      "norm           705.625746 -80.931937  261.921677     inf\n"
     ]
    },
    {
     "data": {
      "image/png": "[encoded data removed]",
      "text/plain": [
       "<Figure size 432x288 with 1 Axes>"
      ]
     },
     "metadata": {},
     "output_type": "display_data"
    }
   ],
   "source": [
    "bins = 20\n",
    "fx_fitter = Fitter(fX[:, :-1], distributions=distributions, bins=bins, \n",
    "                       density=False, timeout=60)\n",
    "fx_fitter.fit()\n",
    "print(fx_fitter.summary(10, clf=True))\n",
    "# Run D’Agostino and Pearson’s test \n",
    "alpha = 1e-3\n",
    "k2, p = stats.normaltest(fX[:, :-1])\n",
    "logger.info(\"Running D’Agostino and Pearson’s test:\")\n",
    "logger.info(f\"p = {p[0]} < {alpha} ?\")\n",
    "if p < alpha:  # null hypothesis: x comes from a normal distribution\n",
    "    logger.info(\"Yes. The null hypothesis can be rejected. It can not be Gaussian.\")\n",
    "else:\n",
    "    logger.info(\"No. The null hypothesis cannot be rejected. It can be Gaussian.\")\n",
    "logger.nl(2)"
   ]
  },
  {
   "cell_type": "code",
   "execution_count": 15,
   "metadata": {},
   "outputs": [
    {
     "name": "stderr",
     "output_type": "stream",
     "text": [
      "2021-10-15 13:51:56 Project3     INFO     \u001b[1m\u001b[33mRunning D’Agostino and Pearson’s test:\u001b[0m\n",
      "2021-10-15 13:51:56 Project3     INFO     \u001b[1m\u001b[33mp = 0.0012767349740035417 < 0.001 ?\u001b[0m\n",
      "2021-10-15 13:51:56 Project3     INFO     \u001b[1m\u001b[33mNo. The null hypothesis cannot be rejected. It can be Gaussian.\u001b[0m\n",
      "\n",
      "\n"
     ]
    }
   ],
   "source": [
    "# bins = 20\n",
    "# fx_fitter = Fitter(pX1[:, :-1], distributions=distributions, bins=bins, \n",
    "#                    density=False, timeout=60)\n",
    "# fx_fitter.fit()\n",
    "# fx_fitter.summary(10, clf=True)\n",
    "# print(fx_fitter.summary(10, clf=True))\n",
    "# Run D’Agostino and Pearson’s test \n",
    "alpha = 1e-3\n",
    "k2, p = stats.normaltest(pX1[:, :-1])\n",
    "logger.info(\"Running D’Agostino and Pearson’s test:\")\n",
    "logger.info(f\"p = {p[0]} < {alpha} ?\")\n",
    "if p < alpha:  # null hypothesis: x comes from a normal distribution\n",
    "    logger.info(\"Yes. The null hypothesis can be rejected. It can not be Gaussian.\")\n",
    "else:\n",
    "    logger.info(\"No. The null hypothesis cannot be rejected. It can be Gaussian.\")\n",
    "logger.nl(2)"
   ]
  },
  {
   "cell_type": "markdown",
   "metadata": {},
   "source": [
    "## Apply Case 3 and kNN on nX, fX, px1, and pX"
   ]
  },
  {
   "cell_type": "code",
   "execution_count": 29,
   "metadata": {},
   "outputs": [],
   "source": [
    "import custom_libs.Project2.models as proj2_models\n",
    "statistics = {'knn': {}, 'case3': {}}"
   ]
  },
  {
   "cell_type": "markdown",
   "metadata": {},
   "source": [
    "### Apply kNN"
   ]
  },
  {
   "cell_type": "code",
   "execution_count": 30,
   "metadata": {},
   "outputs": [],
   "source": [
    "k = 12"
   ]
  },
  {
   "cell_type": "code",
   "execution_count": 39,
   "metadata": {},
   "outputs": [
    {
     "name": "stderr",
     "output_type": "stream",
     "text": [
      "2021-10-15 14:04:46 Project2 Models INFO     \u001b[1m\u001b[32mkNN (k=12) for the nX dataset\u001b[0m\n",
      "2021-10-15 14:04:46 Project2 Models INFO     \u001b[1m\u001b[32mThe overall accuracy is: 0.7801\u001b[0m\n",
      "2021-10-15 14:04:46 Project2 Models INFO     \u001b[1m\u001b[32mThe classwise accuracies are: [0.5779816513761468, 0.8789237668161435]\u001b[0m\n",
      "2021-10-15 14:04:46 Project2 Models INFO     \u001b[1m\u001b[32mTotal time: 0.0105 sec(s)\u001b[0m\n",
      "2021-10-15 14:04:46 Project2 Models INFO     \u001b[1m\u001b[31m|               |   Positive    |   Negative    |\u001b[0m\n",
      "2021-10-15 14:04:46 Project2 Models INFO     \u001b[1m\u001b[31m|   Positive    |      63       |      27       |\u001b[0m\n",
      "2021-10-15 14:04:46 Project2 Models INFO     \u001b[1m\u001b[31m|   Negative    |      46       |      27       |\u001b[0m\n"
     ]
    }
   ],
   "source": [
    "# kNN for nX\n",
    "knn = proj2_models.KNN(k=k, train=nX_train)\n",
    "knn.predict(nX)\n",
    "accuracy, classwise_accuracy, prediction_time = knn.get_statistics()\n",
    "tp, fn, fp, tn = knn.get_confusion_matrix(case)\n",
    "statistics['knn']['nX'] = (accuracy, classwise_accuracy, prediction_time, tp, fn, fp, tn)\n",
    "knn.print_statistics(name='nX')"
   ]
  },
  {
   "cell_type": "code",
   "execution_count": 40,
   "metadata": {},
   "outputs": [
    {
     "name": "stderr",
     "output_type": "stream",
     "text": [
      "2021-10-15 14:05:29 Project2 Models INFO     \u001b[1m\u001b[32mkNN (k=12) for the fX dataset\u001b[0m\n",
      "2021-10-15 14:05:29 Project2 Models INFO     \u001b[1m\u001b[32mThe overall accuracy is: 0.7801\u001b[0m\n",
      "2021-10-15 14:05:29 Project2 Models INFO     \u001b[1m\u001b[32mThe classwise accuracies are: [0.6422018348623854, 0.8475336322869955]\u001b[0m\n",
      "2021-10-15 14:05:29 Project2 Models INFO     \u001b[1m\u001b[32mTotal time: 0.0070 sec(s)\u001b[0m\n",
      "2021-10-15 14:05:29 Project2 Models INFO     \u001b[1m\u001b[31m|               |   Positive    |   Negative    |\u001b[0m\n",
      "2021-10-15 14:05:29 Project2 Models INFO     \u001b[1m\u001b[31m|   Positive    |      70       |      34       |\u001b[0m\n",
      "2021-10-15 14:05:29 Project2 Models INFO     \u001b[1m\u001b[31m|   Negative    |      39       |      34       |\u001b[0m\n"
     ]
    }
   ],
   "source": [
    "# kNN for fX\n",
    "knn = proj2_models.KNN(k=k, train=fX_train)\n",
    "knn.predict(fX)\n",
    "accuracy, classwise_accuracy, prediction_time = knn.get_statistics()\n",
    "tp, fn, fp, tn = knn.get_confusion_matrix(case)\n",
    "statistics['knn']['fX'] = (accuracy, classwise_accuracy, prediction_time, tp, fn, fp, tn)\n",
    "knn.print_statistics(name='fX')"
   ]
  },
  {
   "cell_type": "code",
   "execution_count": 41,
   "metadata": {},
   "outputs": [
    {
     "name": "stderr",
     "output_type": "stream",
     "text": [
      "2021-10-15 14:05:32 Project2 Models INFO     \u001b[1m\u001b[32mkNN (k=12) for the pX1 dataset\u001b[0m\n",
      "2021-10-15 14:05:32 Project2 Models INFO     \u001b[1m\u001b[32mThe overall accuracy is: 0.7018\u001b[0m\n",
      "2021-10-15 14:05:32 Project2 Models INFO     \u001b[1m\u001b[32mThe classwise accuracies are: [0.4954128440366973, 0.8026905829596412]\u001b[0m\n",
      "2021-10-15 14:05:32 Project2 Models INFO     \u001b[1m\u001b[32mTotal time: 0.0081 sec(s)\u001b[0m\n",
      "2021-10-15 14:05:32 Project2 Models INFO     \u001b[1m\u001b[31m|               |   Positive    |   Negative    |\u001b[0m\n",
      "2021-10-15 14:05:32 Project2 Models INFO     \u001b[1m\u001b[31m|   Positive    |      54       |      44       |\u001b[0m\n",
      "2021-10-15 14:05:32 Project2 Models INFO     \u001b[1m\u001b[31m|   Negative    |      55       |      44       |\u001b[0m\n"
     ]
    }
   ],
   "source": [
    "# kNN for pX1\n",
    "knn = proj2_models.KNN(k=k, train=pX1_train)\n",
    "knn.predict(pX1)\n",
    "accuracy, classwise_accuracy, prediction_time = knn.get_statistics()\n",
    "tp, fn, fp, tn = knn.get_confusion_matrix(case)\n",
    "statistics['knn']['pX1'] = (accuracy, classwise_accuracy, prediction_time, tp, fn, fp, tn)\n",
    "knn.print_statistics(name='pX1')"
   ]
  },
  {
   "cell_type": "code",
   "execution_count": 42,
   "metadata": {},
   "outputs": [
    {
     "name": "stderr",
     "output_type": "stream",
     "text": [
      "2021-10-15 14:05:34 Project2 Models INFO     \u001b[1m\u001b[32mkNN (k=12) for the pX dataset\u001b[0m\n",
      "2021-10-15 14:05:34 Project2 Models INFO     \u001b[1m\u001b[32mThe overall accuracy is: 0.7651\u001b[0m\n",
      "2021-10-15 14:05:34 Project2 Models INFO     \u001b[1m\u001b[32mThe classwise accuracies are: [0.5688073394495413, 0.8609865470852018]\u001b[0m\n",
      "2021-10-15 14:05:34 Project2 Models INFO     \u001b[1m\u001b[32mTotal time: 0.0092 sec(s)\u001b[0m\n",
      "2021-10-15 14:05:34 Project2 Models INFO     \u001b[1m\u001b[31m|               |   Positive    |   Negative    |\u001b[0m\n",
      "2021-10-15 14:05:34 Project2 Models INFO     \u001b[1m\u001b[31m|   Positive    |      62       |      31       |\u001b[0m\n",
      "2021-10-15 14:05:34 Project2 Models INFO     \u001b[1m\u001b[31m|   Negative    |      47       |      31       |\u001b[0m\n"
     ]
    }
   ],
   "source": [
    "# kNN for pX\n",
    "knn = proj2_models.KNN(k=k, train=pX_train)\n",
    "knn.predict(pX)\n",
    "accuracy, classwise_accuracy, prediction_time = knn.get_statistics()\n",
    "tp, fn, fp, tn = knn.get_confusion_matrix(case)\n",
    "statistics['knn']['pX'] = (accuracy, classwise_accuracy, prediction_time, tp, fn, fp, tn)\n",
    "knn.print_statistics(name='pX')"
   ]
  },
  {
   "cell_type": "markdown",
   "metadata": {},
   "source": [
    "### Apply Case 3 Bayesian"
   ]
  },
  {
   "cell_type": "code",
   "execution_count": 17,
   "metadata": {},
   "outputs": [],
   "source": [
    "# Located in <project root>/custom_libs/Project1\n",
    "import custom_libs.Project1.parametric_model as pm\n",
    "case = \"quadratic\"\n",
    "priors = [0.25, 0.75]"
   ]
  },
  {
   "cell_type": "code",
   "execution_count": 24,
   "metadata": {},
   "outputs": [
    {
     "name": "stderr",
     "output_type": "stream",
     "text": [
      "2021-10-15 13:55:09 Project1 Models INFO     \u001b[1m\u001b[32mParametric Model (case: quadratic) for the nX dataset\u001b[0m\n",
      "2021-10-15 13:55:09 Project1 Models INFO     \u001b[1m\u001b[32mThe overall accuracy is: 0.7681\u001b[0m\n",
      "2021-10-15 13:55:09 Project1 Models INFO     \u001b[1m\u001b[32mThe classwise accuracies are: [0.5412844036697247, 0.8789237668161435]\u001b[0m\n",
      "2021-10-15 13:55:09 Project1 Models INFO     \u001b[1m\u001b[32mTotal time: 0.0502 sec(s)\u001b[0m\n",
      "2021-10-15 13:55:09 Project1 Models INFO     \u001b[1m\u001b[31m|               |   Positive    |   Negative    |\u001b[0m\n",
      "2021-10-15 13:55:09 Project1 Models INFO     \u001b[1m\u001b[31m|   Positive    |      59       |      27       |\u001b[0m\n",
      "2021-10-15 13:55:09 Project1 Models INFO     \u001b[1m\u001b[31m|   Negative    |      50       |      27       |\u001b[0m\n"
     ]
    }
   ],
   "source": [
    "# Case 3 for nX\n",
    "parametric = pm.ParametricModel(train=nX_train, test=nX)\n",
    "parametric.fit()\n",
    "parametric.predict(mtype=case, priors=priors)\n",
    "accuracy, classwise_accuracy, prediction_time = parametric.get_statistics(case)\n",
    "tp, fn, fp, tn = parametric.get_confusion_matrix(case)\n",
    "statistics['case3']['nX'] = (accuracy, classwise_accuracy, prediction_time, tp, fn, fp, tn)\n",
    "parametric.print_statistics(name='nX', mtype=case)"
   ]
  },
  {
   "cell_type": "code",
   "execution_count": 26,
   "metadata": {},
   "outputs": [
    {
     "name": "stderr",
     "output_type": "stream",
     "text": [
      "2021-10-15 13:56:58 Project1 Models WARNING  \u001b[1m\u001b[32mdiag requires an array of at least two dimensions\u001b[0m\n",
      "2021-10-15 13:56:58 Project1 Models INFO     \u001b[1m\u001b[32mParametric Model (case: quadratic) for the fX dataset\u001b[0m\n",
      "2021-10-15 13:56:58 Project1 Models INFO     \u001b[1m\u001b[32mThe overall accuracy is: 0.8042\u001b[0m\n",
      "2021-10-15 13:56:58 Project1 Models INFO     \u001b[1m\u001b[32mThe classwise accuracies are: [0.5412844036697247, 0.9327354260089686]\u001b[0m\n",
      "2021-10-15 13:56:58 Project1 Models INFO     \u001b[1m\u001b[32mTotal time: 0.0270 sec(s)\u001b[0m\n",
      "2021-10-15 13:56:58 Project1 Models INFO     \u001b[1m\u001b[31m|               |   Positive    |   Negative    |\u001b[0m\n",
      "2021-10-15 13:56:58 Project1 Models INFO     \u001b[1m\u001b[31m|   Positive    |      59       |      15       |\u001b[0m\n",
      "2021-10-15 13:56:58 Project1 Models INFO     \u001b[1m\u001b[31m|   Negative    |      50       |      15       |\u001b[0m\n"
     ]
    }
   ],
   "source": [
    "# Case 3 for fX\n",
    "parametric = pm.ParametricModel(train=fX_train, test=fX)\n",
    "parametric.fit()\n",
    "parametric.predict(mtype=case, priors=priors)\n",
    "accuracy, classwise_accuracy, prediction_time = parametric.get_statistics(case)\n",
    "tp, fn, fp, tn = parametric.get_confusion_matrix(case)\n",
    "statistics['case3']['fX'] = (accuracy, classwise_accuracy, prediction_time, tp, fn, fp, tn)\n",
    "parametric.print_statistics(name='fX', mtype=case)"
   ]
  },
  {
   "cell_type": "code",
   "execution_count": 27,
   "metadata": {},
   "outputs": [
    {
     "name": "stderr",
     "output_type": "stream",
     "text": [
      "2021-10-15 13:57:01 Project1 Models WARNING  \u001b[1m\u001b[32mdiag requires an array of at least two dimensions\u001b[0m\n",
      "2021-10-15 13:57:01 Project1 Models INFO     \u001b[1m\u001b[32mParametric Model (case: quadratic) for the pX1 dataset\u001b[0m\n",
      "2021-10-15 13:57:01 Project1 Models INFO     \u001b[1m\u001b[32mThe overall accuracy is: 0.7319\u001b[0m\n",
      "2021-10-15 13:57:01 Project1 Models INFO     \u001b[1m\u001b[32mThe classwise accuracies are: [0.3486238532110092, 0.9192825112107623]\u001b[0m\n",
      "2021-10-15 13:57:01 Project1 Models INFO     \u001b[1m\u001b[32mTotal time: 0.0267 sec(s)\u001b[0m\n",
      "2021-10-15 13:57:01 Project1 Models INFO     \u001b[1m\u001b[31m|               |   Positive    |   Negative    |\u001b[0m\n",
      "2021-10-15 13:57:01 Project1 Models INFO     \u001b[1m\u001b[31m|   Positive    |      38       |      18       |\u001b[0m\n",
      "2021-10-15 13:57:01 Project1 Models INFO     \u001b[1m\u001b[31m|   Negative    |      71       |      18       |\u001b[0m\n"
     ]
    }
   ],
   "source": [
    "# Case 3 for pX1\n",
    "parametric = pm.ParametricModel(train=pX1_train, test=pX1)\n",
    "parametric.fit()\n",
    "parametric.predict(mtype=case, priors=priors)\n",
    "accuracy, classwise_accuracy, prediction_time = parametric.get_statistics(case)\n",
    "tp, fn, fp, tn = parametric.get_confusion_matrix(case)\n",
    "statistics['case3']['pX1'] = (accuracy, classwise_accuracy, prediction_time, tp, fn, fp, tn)\n",
    "parametric.print_statistics(name='pX1', mtype=case)"
   ]
  },
  {
   "cell_type": "code",
   "execution_count": 28,
   "metadata": {},
   "outputs": [
    {
     "name": "stderr",
     "output_type": "stream",
     "text": [
      "2021-10-15 13:57:04 Project1 Models INFO     \u001b[1m\u001b[32mParametric Model (case: quadratic) for the pX dataset\u001b[0m\n",
      "2021-10-15 13:57:04 Project1 Models INFO     \u001b[1m\u001b[32mThe overall accuracy is: 0.7741\u001b[0m\n",
      "2021-10-15 13:57:04 Project1 Models INFO     \u001b[1m\u001b[32mThe classwise accuracies are: [0.5779816513761468, 0.8699551569506726]\u001b[0m\n",
      "2021-10-15 13:57:04 Project1 Models INFO     \u001b[1m\u001b[32mTotal time: 0.0431 sec(s)\u001b[0m\n",
      "2021-10-15 13:57:04 Project1 Models INFO     \u001b[1m\u001b[31m|               |   Positive    |   Negative    |\u001b[0m\n",
      "2021-10-15 13:57:04 Project1 Models INFO     \u001b[1m\u001b[31m|   Positive    |      63       |      29       |\u001b[0m\n",
      "2021-10-15 13:57:04 Project1 Models INFO     \u001b[1m\u001b[31m|   Negative    |      46       |      29       |\u001b[0m\n"
     ]
    }
   ],
   "source": [
    "# Case 3 for pX\n",
    "parametric = pm.ParametricModel(train=pX_train, test=pX)\n",
    "parametric.fit()\n",
    "parametric.predict(mtype=case, priors=priors)\n",
    "accuracy, classwise_accuracy, prediction_time = parametric.get_statistics(case)\n",
    "tp, fn, fp, tn = parametric.get_confusion_matrix(case)\n",
    "statistics['case3']['pX'] = (accuracy, classwise_accuracy, prediction_time, tp, fn, fp, tn)\n",
    "parametric.print_statistics(name='pX', mtype=case)"
   ]
  },
  {
   "cell_type": "code",
   "execution_count": null,
   "metadata": {},
   "outputs": [],
   "source": []
  },
  {
   "cell_type": "code",
   "execution_count": null,
   "metadata": {},
   "outputs": [],
   "source": []
  },
  {
   "cell_type": "markdown",
   "metadata": {
    "id": "GywqVuqlIW2O"
   },
   "source": [
    "### 1a - Plot 1x2 figure (overall accuracy vs k) "
   ]
  },
  {
   "cell_type": "code",
   "execution_count": null,
   "metadata": {
    "executionInfo": {
     "elapsed": 149,
     "status": "ok",
     "timestamp": 1632449863798,
     "user": {
      "displayName": "Kostas Georgiou",
      "photoUrl": "https://lh3.googleusercontent.com/a-/AOh14GhzP5qrxeKXeuneTscU-PqTEiyBLJpOwQ-olOc2x5s=s64",
      "userId": "10199933473437407446"
     },
     "user_tz": 240
    },
    "id": "9XxD9ZMVJEGo"
   },
   "outputs": [],
   "source": [
    "def gather_statistics(train: np.ndarray, test: np.ndarray) -> Tuple[List, List, List, List]:\n",
    "  \"\"\" Function that gathers statistics running kNN for input dataset. \"\"\"\n",
    "\n",
    "  max_k = int(np.ceil(np.sqrt(train.shape[0]+1)))\n",
    "  k_range = list(range(1, max_k+1))\n",
    "  # Run for each k\n",
    "  accuracies = []\n",
    "  classwise_accuracies = []\n",
    "  prediction_times = []\n",
    "  for k in tqdm(k_range):\n",
    "    knn_model = models.KNN(k=k, train=train)\n",
    "    knn_model.predict(test)\n",
    "    accuracy, classwise_accuracy, prediction_time = knn_model.get_statistics()\n",
    "    accuracies.append(accuracy)\n",
    "    classwise_accuracies.append(classwise_accuracy)\n",
    "    prediction_times.append(prediction_time)\n",
    "\n",
    "  return k_range, accuracies, classwise_accuracies, prediction_times"
   ]
  },
  {
   "cell_type": "code",
   "execution_count": null,
   "metadata": {
    "colab": {
     "base_uri": "https://localhost:8080/",
     "height": 0,
     "referenced_widgets": [
      "b42d5c3f41a346e192d791f35c21d019",
      "659ec2e347b24948a37090fede618189",
      "948215b3ee07438f807c5434fdc80602",
      "7359b98511f643dcaa3921033ffe3479",
      "720e57aa28bc4b6eb403949139654ed7",
      "a2ee44be03fc4192bff48149494c2941",
      "7b0ec03dcdc44a9db1ff68ccad024ecd",
      "3b984ace2d424c4d9ff2939f82f6f946",
      "e094086b9ba4410b8a4ec7c0524ee91f",
      "c01514b790624ba080e19c28107bd045",
      "d07982632af64eec9a26cb6adf20a49c"
     ]
    },
    "executionInfo": {
     "elapsed": 819,
     "status": "ok",
     "timestamp": 1632449864607,
     "user": {
      "displayName": "Kostas Georgiou",
      "photoUrl": "https://lh3.googleusercontent.com/a-/AOh14GhzP5qrxeKXeuneTscU-PqTEiyBLJpOwQ-olOc2x5s=s64",
      "userId": "10199933473437407446"
     },
     "user_tz": 240
    },
    "id": "wffXnmMbJuaQ",
    "outputId": "b162304f-7a38-43fc-bd6b-e25b174fea68"
   },
   "outputs": [],
   "source": [
    "# Get statistics for Synthetic Dataset\n",
    "synth_k_range, synth_accuracies, synth_classwise_accuracies, synth_prediction_times = gather_statistics(synth_tr, synth_te)"
   ]
  },
  {
   "cell_type": "code",
   "execution_count": null,
   "metadata": {
    "colab": {
     "base_uri": "https://localhost:8080/",
     "height": 0,
     "referenced_widgets": [
      "e07d7560706b49adbcaa0afed47a934d",
      "f851eeb293284deb8032c5409d574433",
      "3f5435cd91ed418b932261f04fb7218c",
      "63cbd83d18b44d018264dcb9bc1fa609",
      "5889a64b83ff4662af28d1f5d9f29cbc",
      "6aa7465b4088494b9983cd9ada66d18c",
      "d17e8a2dd58842e3a57247333069cd6a",
      "53e2066e8509457f99382630a507f430",
      "fa1ac182f3b94a1490a8b198d57e22a2",
      "d04732244275429f840ca298ea875ab4",
      "186c076a054e410ea1e1bf090e2eae3c"
     ]
    },
    "executionInfo": {
     "elapsed": 319,
     "status": "ok",
     "timestamp": 1632449864918,
     "user": {
      "displayName": "Kostas Georgiou",
      "photoUrl": "https://lh3.googleusercontent.com/a-/AOh14GhzP5qrxeKXeuneTscU-PqTEiyBLJpOwQ-olOc2x5s=s64",
      "userId": "10199933473437407446"
     },
     "user_tz": 240
    },
    "id": "pSvWEx-zLWcg",
    "outputId": "e899e753-9eb8-4eeb-d6a4-4b3fc9932cd8"
   },
   "outputs": [],
   "source": [
    "# Get statistics for Pima Dataset\n",
    "pima_k_range, pima_accuracies, pima_classwise_accuracies, pima_prediction_times = gather_statistics(pima_tr, pima_te)"
   ]
  },
  {
   "cell_type": "code",
   "execution_count": null,
   "metadata": {
    "colab": {
     "base_uri": "https://localhost:8080/",
     "height": 0
    },
    "executionInfo": {
     "elapsed": 1055,
     "status": "ok",
     "timestamp": 1632449865970,
     "user": {
      "displayName": "Kostas Georgiou",
      "photoUrl": "https://lh3.googleusercontent.com/a-/AOh14GhzP5qrxeKXeuneTscU-PqTEiyBLJpOwQ-olOc2x5s=s64",
      "userId": "10199933473437407446"
     },
     "user_tz": 240
    },
    "id": "l5NbSHxeI13c",
    "outputId": "c79c5ce8-6e7f-43e5-9088-b6b2c33ca311"
   },
   "outputs": [],
   "source": [
    "# Plot overall Accuracies\n",
    "pl.Plotter.plot_knn_overall_accuracies(synth_k_range, synth_accuracies, pima_k_range, pima_accuracies)"
   ]
  },
  {
   "cell_type": "markdown",
   "metadata": {
    "id": "CCAFri-mN0Kk"
   },
   "source": [
    "### 1b - Generate table similar to project 1 using the optimal parameters for each algorithm"
   ]
  },
  {
   "cell_type": "markdown",
   "metadata": {
    "id": "nxCDXe7allf8"
   },
   "source": [
    "#### Get optimal k for KNN for each dataset"
   ]
  },
  {
   "cell_type": "code",
   "execution_count": 55,
   "metadata": {
    "colab": {
     "base_uri": "https://localhost:8080/"
    },
    "executionInfo": {
     "elapsed": 136,
     "status": "ok",
     "timestamp": 1632449875123,
     "user": {
      "displayName": "Kostas Georgiou",
      "photoUrl": "https://lh3.googleusercontent.com/a-/AOh14GhzP5qrxeKXeuneTscU-PqTEiyBLJpOwQ-olOc2x5s=s64",
      "userId": "10199933473437407446"
     },
     "user_tz": 240
    },
    "id": "qyb7A9Dhllf8",
    "outputId": "29786664-1ba1-4b7d-c39e-6acc6f706f1e"
   },
   "outputs": [
    {
     "ename": "NameError",
     "evalue": "name 'synth_accuracies' is not defined",
     "output_type": "error",
     "traceback": [
      "\u001b[0;31m---------------------------------------------------------------------------\u001b[0m",
      "\u001b[0;31mNameError\u001b[0m                                 Traceback (most recent call last)",
      "\u001b[0;32m/tmp/ipykernel_20598/731663128.py\u001b[0m in \u001b[0;36m<module>\u001b[0;34m\u001b[0m\n\u001b[1;32m      1\u001b[0m \u001b[0;31m# Get optimal k for each dataset\u001b[0m\u001b[0;34m\u001b[0m\u001b[0;34m\u001b[0m\u001b[0;34m\u001b[0m\u001b[0m\n\u001b[1;32m      2\u001b[0m \u001b[0;31m# Synthetic\u001b[0m\u001b[0;34m\u001b[0m\u001b[0;34m\u001b[0m\u001b[0;34m\u001b[0m\u001b[0m\n\u001b[0;32m----> 3\u001b[0;31m \u001b[0msynth_k_ind\u001b[0m \u001b[0;34m=\u001b[0m \u001b[0mnp\u001b[0m\u001b[0;34m.\u001b[0m\u001b[0margmax\u001b[0m\u001b[0;34m(\u001b[0m\u001b[0msynth_accuracies\u001b[0m\u001b[0;34m)\u001b[0m\u001b[0;34m\u001b[0m\u001b[0;34m\u001b[0m\u001b[0m\n\u001b[0m\u001b[1;32m      4\u001b[0m \u001b[0msynth_optimal_k\u001b[0m \u001b[0;34m=\u001b[0m \u001b[0msynth_k_range\u001b[0m\u001b[0;34m[\u001b[0m\u001b[0msynth_k_ind\u001b[0m\u001b[0;34m]\u001b[0m\u001b[0;34m\u001b[0m\u001b[0;34m\u001b[0m\u001b[0m\n\u001b[1;32m      5\u001b[0m \u001b[0;31m# Pima\u001b[0m\u001b[0;34m\u001b[0m\u001b[0;34m\u001b[0m\u001b[0;34m\u001b[0m\u001b[0m\n",
      "\u001b[0;31mNameError\u001b[0m: name 'synth_accuracies' is not defined"
     ]
    }
   ],
   "source": [
    "# Get optimal k for each dataset\n",
    "# Synthetic\n",
    "synth_k_ind = np.argmax(synth_accuracies)\n",
    "synth_optimal_k = synth_k_range[synth_k_ind]\n",
    "# Pima\n",
    "pima_k_ind = np.argmax(pima_accuracies)\n",
    "pima_optimal_k = pima_k_range[pima_k_ind]\n",
    "logger.info(f\"Optimal k for the Synthetic Dataset: {synth_optimal_k}\", color='yellow')\n",
    "logger.info(f\"Optimal k for the Pima Dataset: {pima_optimal_k}\", color='yellow')"
   ]
  },
  {
   "cell_type": "code",
   "execution_count": 54,
   "metadata": {
    "colab": {
     "base_uri": "https://localhost:8080/"
    },
    "executionInfo": {
     "elapsed": 16,
     "status": "ok",
     "timestamp": 1632449875339,
     "user": {
      "displayName": "Kostas Georgiou",
      "photoUrl": "https://lh3.googleusercontent.com/a-/AOh14GhzP5qrxeKXeuneTscU-PqTEiyBLJpOwQ-olOc2x5s=s64",
      "userId": "10199933473437407446"
     },
     "user_tz": 240
    },
    "id": "EUjmMFq8llf8",
    "outputId": "be1637e1-b659-4c86-f877-2e5b7e046824"
   },
   "outputs": [
    {
     "ename": "NameError",
     "evalue": "name 'synth_optimal_k' is not defined",
     "output_type": "error",
     "traceback": [
      "\u001b[0;31m---------------------------------------------------------------------------\u001b[0m",
      "\u001b[0;31mNameError\u001b[0m                                 Traceback (most recent call last)",
      "\u001b[0;32m/tmp/ipykernel_20598/2124789979.py\u001b[0m in \u001b[0;36m<module>\u001b[0;34m\u001b[0m\n\u001b[1;32m      1\u001b[0m \u001b[0;31m# Retrieve the statistics\u001b[0m\u001b[0;34m\u001b[0m\u001b[0;34m\u001b[0m\u001b[0;34m\u001b[0m\u001b[0m\n\u001b[0;32m----> 2\u001b[0;31m \u001b[0mlogger\u001b[0m\u001b[0;34m.\u001b[0m\u001b[0minfo\u001b[0m\u001b[0;34m(\u001b[0m\u001b[0;34mf\"Pima Dataset Statistics for k={synth_optimal_k}\"\u001b[0m\u001b[0;34m)\u001b[0m\u001b[0;34m\u001b[0m\u001b[0;34m\u001b[0m\u001b[0m\n\u001b[0m\u001b[1;32m      3\u001b[0m \u001b[0mlogger\u001b[0m\u001b[0;34m.\u001b[0m\u001b[0minfo\u001b[0m\u001b[0;34m(\u001b[0m\u001b[0;34mf\"Accuracy: {synth_accuracies[synth_k_ind]}\"\u001b[0m\u001b[0;34m)\u001b[0m\u001b[0;34m\u001b[0m\u001b[0;34m\u001b[0m\u001b[0m\n\u001b[1;32m      4\u001b[0m \u001b[0mlogger\u001b[0m\u001b[0;34m.\u001b[0m\u001b[0minfo\u001b[0m\u001b[0;34m(\u001b[0m\u001b[0;34mf\"Classwise Accuracy: {synth_classwise_accuracies[synth_k_ind]}\"\u001b[0m\u001b[0;34m)\u001b[0m\u001b[0;34m\u001b[0m\u001b[0;34m\u001b[0m\u001b[0m\n\u001b[1;32m      5\u001b[0m \u001b[0mlogger\u001b[0m\u001b[0;34m.\u001b[0m\u001b[0minfo\u001b[0m\u001b[0;34m(\u001b[0m\u001b[0;34mf\"Prediction Time: {synth_prediction_times[synth_k_ind]}\"\u001b[0m\u001b[0;34m)\u001b[0m\u001b[0;34m\u001b[0m\u001b[0;34m\u001b[0m\u001b[0m\n",
      "\u001b[0;31mNameError\u001b[0m: name 'synth_optimal_k' is not defined"
     ]
    }
   ],
   "source": [
    "# Retrieve the statistics\n",
    "logger.info(f\"Pima Dataset Statistics for k={synth_optimal_k}\")\n",
    "logger.info(f\"Accuracy: {synth_accuracies[synth_k_ind]}\")\n",
    "logger.info(f\"Classwise Accuracy: {synth_classwise_accuracies[synth_k_ind]}\")\n",
    "logger.info(f\"Prediction Time: {synth_prediction_times[synth_k_ind]}\")\n",
    "logger.nl()\n",
    "logger.info(f\"Pima Dataset Statistics for k={pima_optimal_k}\")\n",
    "logger.info(f\"Accuracy: {pima_accuracies[pima_k_ind]}\")\n",
    "logger.info(f\"Classwise Accuracy: {pima_classwise_accuracies[pima_k_ind]}\")\n",
    "logger.info(f\"Prediction Time: {pima_prediction_times[pima_k_ind]}\")"
   ]
  },
  {
   "cell_type": "markdown",
   "metadata": {
    "id": "Br4YWEsOllf9"
   },
   "source": [
    "#### Get optimal priors and covariance type for the three parametric models for each dataset"
   ]
  },
  {
   "cell_type": "code",
   "execution_count": null,
   "metadata": {
    "executionInfo": {
     "elapsed": 145,
     "status": "ok",
     "timestamp": 1632449875481,
     "user": {
      "displayName": "Kostas Georgiou",
      "photoUrl": "https://lh3.googleusercontent.com/a-/AOh14GhzP5qrxeKXeuneTscU-PqTEiyBLJpOwQ-olOc2x5s=s64",
      "userId": "10199933473437407446"
     },
     "user_tz": 240
    },
    "id": "ua0ZJlU3llf9"
   },
   "outputs": [],
   "source": [
    "# Located in <project root>/custom_libs/Project1\n",
    "import custom_libs.Project1.parametric_model as pm"
   ]
  },
  {
   "cell_type": "code",
   "execution_count": null,
   "metadata": {
    "executionInfo": {
     "elapsed": 11,
     "status": "ok",
     "timestamp": 1632449875482,
     "user": {
      "displayName": "Kostas Georgiou",
      "photoUrl": "https://lh3.googleusercontent.com/a-/AOh14GhzP5qrxeKXeuneTscU-PqTEiyBLJpOwQ-olOc2x5s=s64",
      "userId": "10199933473437407446"
     },
     "user_tz": 240
    },
    "id": "-WO9GREjllf9"
   },
   "outputs": [],
   "source": [
    "# Initialize the parametric classifiers\n",
    "synth_classifier = pm.ParametricModel(train=synth_tr, test=synth_te)\n",
    "pima_classifier = pm.ParametricModel(train=pima_tr, test=pima_te)\n",
    "# Fit the models (retrieve means, stds, covs etc)\n",
    "synth_classifier.fit()\n",
    "pima_classifier.fit()"
   ]
  },
  {
   "cell_type": "code",
   "execution_count": null,
   "metadata": {
    "executionInfo": {
     "elapsed": 11,
     "status": "ok",
     "timestamp": 1632449875483,
     "user": {
      "displayName": "Kostas Georgiou",
      "photoUrl": "https://lh3.googleusercontent.com/a-/AOh14GhzP5qrxeKXeuneTscU-PqTEiyBLJpOwQ-olOc2x5s=s64",
      "userId": "10199933473437407446"
     },
     "user_tz": 240
    },
    "id": "3r8IgDC3llf-"
   },
   "outputs": [],
   "source": [
    "# Setup the different configurations\n",
    "cases = (\"euclidean\", \"mahalanobis\", \"quadratic\")\n",
    "priors_c1 = np.linspace(0.01, 1.0, 200, endpoint=False)\n",
    "first_and_second_case_cov_types = (\"avg\", \"first\", \"second\")"
   ]
  },
  {
   "cell_type": "code",
   "execution_count": null,
   "metadata": {
    "colab": {
     "base_uri": "https://localhost:8080/",
     "height": 0,
     "referenced_widgets": [
      "2e72a4541202468da73f14f728aa9094",
      "e400f61fbc794d1993a0add16c3b1696",
      "59a4cf248ae945cd82caaa3c7ab0c94f",
      "2bca00ae545b49388deefa0cdf3e97ad",
      "4273f177b5824c4b93c285e20742e3ba",
      "6d3d0d1137094c79acea627567e000e7",
      "46e98b184b3a40a8a79e71c7785d570d",
      "a7485ee7bf0146aa8de5b85a88a7b75a",
      "01c7ee96383943989ab72b148adc577b",
      "0bf7122fa48f495386ac279a05130eb8",
      "1e13d708b1284455913b8961b610794c"
     ]
    },
    "executionInfo": {
     "elapsed": 111641,
     "status": "ok",
     "timestamp": 1632449987114,
     "user": {
      "displayName": "Kostas Georgiou",
      "photoUrl": "https://lh3.googleusercontent.com/a-/AOh14GhzP5qrxeKXeuneTscU-PqTEiyBLJpOwQ-olOc2x5s=s64",
      "userId": "10199933473437407446"
     },
     "user_tz": 240
    },
    "id": "tl-1DJt2llf-",
    "outputId": "ae0e421d-8ede-4c80-c054-bd90a0d13d88"
   },
   "outputs": [],
   "source": [
    "# Calculate statistics for all the cases\n",
    "statistics = {\"synth\": {}, \"pima\": {}}\n",
    "for case in tqdm(cases, desc='cases'):\n",
    "    statistics[\"synth\"][case] = {}\n",
    "    statistics[\"pima\"][case] = {}    \n",
    "    for cov_type in first_and_second_case_cov_types:\n",
    "        statistics[\"synth\"][case][cov_type] = {}\n",
    "        statistics[\"pima\"][case][cov_type] = {}\n",
    "        for prior_c1 in priors_c1:\n",
    "            # Synth Dataset\n",
    "            synth_classifier.predict(mtype=case, priors=[prior_c1, abs(1-prior_c1)], \n",
    "                                     first_and_second_case_cov_type=cov_type)\n",
    "            statistics[\"synth\"][case][cov_type][prior_c1] = synth_classifier.get_statistics(case)\n",
    "            # Pima Dataset\n",
    "            pima_classifier.predict(mtype=case, priors=[prior_c1, abs(1-prior_c1)], \n",
    "                                     first_and_second_case_cov_type=cov_type)\n",
    "            statistics[\"pima\"][case][cov_type][prior_c1] = pima_classifier.get_statistics(case)\n",
    "        if case == \"quadratic\":\n",
    "            break"
   ]
  },
  {
   "cell_type": "code",
   "execution_count": null,
   "metadata": {
    "executionInfo": {
     "elapsed": 181,
     "status": "ok",
     "timestamp": 1632449989362,
     "user": {
      "displayName": "Kostas Georgiou",
      "photoUrl": "https://lh3.googleusercontent.com/a-/AOh14GhzP5qrxeKXeuneTscU-PqTEiyBLJpOwQ-olOc2x5s=s64",
      "userId": "10199933473437407446"
     },
     "user_tz": 240
    },
    "id": "B6n3RC69llf_"
   },
   "outputs": [],
   "source": [
    "# Find the best configurations based on overall accuracy\n",
    "statistics_synth = statistics['synth']\n",
    "# Get max configuration for synth\n",
    "synth_max = {}\n",
    "for case in cases:\n",
    "    synth_max[case] = {\"accuracy\": 0.0}\n",
    "    for cov_type in statistics_synth[case]:\n",
    "        for prior_c1 in statistics_synth[case][cov_type]:\n",
    "            curent_statistics = statistics_synth[case][cov_type][prior_c1]\n",
    "            current_accuracy = curent_statistics[0]\n",
    "            if current_accuracy > synth_max[case][\"accuracy\"]:\n",
    "                synth_max[case][\"cov_type\"] = cov_type\n",
    "                synth_max[case][\"prior_c1\"] = prior_c1\n",
    "                synth_max[case][\"accuracy\"] = current_accuracy\n",
    "                synth_max[case][\"classwise_accuracy\"] = curent_statistics[1]\n",
    "                synth_max[case][\"prediction_time\"] = curent_statistics[2]\n",
    "# Get max configuration for pima\n",
    "statistics_pima = statistics['pima']\n",
    "pima_max = {}\n",
    "for case in cases:\n",
    "    pima_max[case] = {\"accuracy\": 0.0}\n",
    "    for cov_type in statistics_pima[case]:\n",
    "        for prior_c1 in statistics_pima[case][cov_type]:\n",
    "            curent_statistics = statistics_pima[case][cov_type][prior_c1]\n",
    "            current_accuracy = curent_statistics[0]\n",
    "            if current_accuracy > pima_max[case][\"accuracy\"]:\n",
    "                pima_max[case][\"cov_type\"] = cov_type\n",
    "                pima_max[case][\"prior_c1\"] = prior_c1\n",
    "                pima_max[case][\"accuracy\"] = current_accuracy\n",
    "                pima_max[case][\"classwise_accuracy\"] = curent_statistics[1]\n",
    "                pima_max[case][\"prediction_time\"] = curent_statistics[2]"
   ]
  },
  {
   "cell_type": "code",
   "execution_count": null,
   "metadata": {
    "colab": {
     "base_uri": "https://localhost:8080/"
    },
    "executionInfo": {
     "elapsed": 1045,
     "status": "ok",
     "timestamp": 1632449990405,
     "user": {
      "displayName": "Kostas Georgiou",
      "photoUrl": "https://lh3.googleusercontent.com/a-/AOh14GhzP5qrxeKXeuneTscU-PqTEiyBLJpOwQ-olOc2x5s=s64",
      "userId": "10199933473437407446"
     },
     "user_tz": 240
    },
    "id": "GWCjm0-Qllf_",
    "outputId": "ad3c0717-5476-489a-dec3-9ceaa60fe78a"
   },
   "outputs": [],
   "source": [
    "logger.info('Synthetic and Pima Datasets Best Configurations')\n",
    "pprint(synth_max)\n",
    "pprint(pima_max)"
   ]
  },
  {
   "cell_type": "markdown",
   "metadata": {
    "id": "R50OsWfPllgA"
   },
   "source": [
    "### 1d - Decision Boundaries"
   ]
  },
  {
   "cell_type": "code",
   "execution_count": null,
   "metadata": {
    "colab": {
     "base_uri": "https://localhost:8080/",
     "height": 933
    },
    "executionInfo": {
     "elapsed": 789,
     "status": "ok",
     "timestamp": 1632450080699,
     "user": {
      "displayName": "Kostas Georgiou",
      "photoUrl": "https://lh3.googleusercontent.com/a-/AOh14GhzP5qrxeKXeuneTscU-PqTEiyBLJpOwQ-olOc2x5s=s64",
      "userId": "10199933473437407446"
     },
     "user_tz": 240
    },
    "id": "GCifZbPRllgA",
    "outputId": "bcf85221-0a8f-4ecf-bb7f-f81654cd32be"
   },
   "outputs": [],
   "source": [
    "plot_knn_synth = models.KNN(k=synth_optimal_k, train=synth_tr)\n",
    "plot_knn_synth.predict(synth_te)\n",
    "pl.Plotter.plot_decision_boundaries(plot_knn_synth, 0.02)\n",
    "# pl.Plotter.test(knn=plot_knn_synth, h=0.8)"
   ]
  },
  {
   "cell_type": "markdown",
   "metadata": {},
   "source": [
    "## Task 2"
   ]
  },
  {
   "cell_type": "markdown",
   "metadata": {},
   "source": [
    "## Kmeans"
   ]
  },
  {
   "cell_type": "code",
   "execution_count": null,
   "metadata": {},
   "outputs": [],
   "source": [
    "# Kmeans for Pima dataset\n",
    "kmeans_pima = models.Kmeans(train_data=pima_tr, seed=0)\n",
    "kmeans_pima.fit()\n",
    "kmeans_pima.predict(test_data=pima_te, dist='custom')  # custom, cdist, or cdist_sq\n",
    "# Get statistics and print\n",
    "kmeans_pima_accuracy, kmeans_pima_classwise_accuracy, \\\n",
    "    kmeans_pima_prediction_time, kmeans_pima_iterations, kmeans_pima_membership_changes \\\n",
    "    = kmeans_pima.get_statistics()\n",
    "kmeans_pima.print_statistics(name='Pima')"
   ]
  },
  {
   "cell_type": "markdown",
   "metadata": {},
   "source": [
    "## WTA"
   ]
  },
  {
   "cell_type": "code",
   "execution_count": null,
   "metadata": {},
   "outputs": [],
   "source": [
    "# WTA for Pima dataset\n",
    "epsilon = 0.1\n",
    "wta_pima = models.WTA(train_data=pima_tr, seed=1)\n",
    "wta_pima.fit()\n",
    "wta_pima.predict(test_data=pima_te, epsilon=epsilon)\n",
    "# Get statistics and print\n",
    "wta_pima_accuracy, wta_pima_classwise_accuracy, \\\n",
    "    wta_pima_prediction_time, wta_pima_iterations, wta_pima_membership_changes \\\n",
    "    = wta_pima.get_statistics()\n",
    "wta_pima.print_statistics(name='Pima')"
   ]
  },
  {
   "cell_type": "markdown",
   "metadata": {},
   "source": [
    "### 2a - Plot \"percentage of samples changing membership\" vs. \"epoch\""
   ]
  },
  {
   "cell_type": "code",
   "execution_count": null,
   "metadata": {},
   "outputs": [],
   "source": [
    "pl.Plotter.plot_membership_changes(kmeans_pima_membership_changes, wta_pima_membership_changes, epsilon)"
   ]
  },
  {
   "cell_type": "code",
   "execution_count": null,
   "metadata": {},
   "outputs": [],
   "source": []
  }
 ],
 "metadata": {
  "colab": {
   "name": "Project2.ipynb",
   "provenance": []
  },
  "kernelspec": {
   "display_name": "Python 3 (ipykernel)",
   "language": "python",
   "name": "python3"
  },
  "language_info": {
   "codemirror_mode": {
    "name": "ipython",
    "version": 3
   },
   "file_extension": ".py",
   "mimetype": "text/x-python",
   "name": "python",
   "nbconvert_exporter": "python",
   "pygments_lexer": "ipython3",
   "version": "3.7.11"
  },
  "widgets": {
   "application/vnd.jupyter.widget-state+json": {
    "01c7ee96383943989ab72b148adc577b": {
     "model_module": "@jupyter-widgets/base",
     "model_module_version": "1.2.0",
     "model_name": "LayoutModel",
     "state": {
      "_model_module": "@jupyter-widgets/base",
      "_model_module_version": "1.2.0",
      "_model_name": "LayoutModel",
      "_view_count": null,
      "_view_module": "@jupyter-widgets/base",
      "_view_module_version": "1.2.0",
      "_view_name": "LayoutView",
      "align_content": null,
      "align_items": null,
      "align_self": null,
      "border": null,
      "bottom": null,
      "display": null,
      "flex": null,
      "flex_flow": null,
      "grid_area": null,
      "grid_auto_columns": null,
      "grid_auto_flow": null,
      "grid_auto_rows": null,
      "grid_column": null,
      "grid_gap": null,
      "grid_row": null,
      "grid_template_areas": null,
      "grid_template_columns": null,
      "grid_template_rows": null,
      "height": null,
      "justify_content": null,
      "justify_items": null,
      "left": null,
      "margin": null,
      "max_height": null,
      "max_width": null,
      "min_height": null,
      "min_width": null,
      "object_fit": null,
      "object_position": null,
      "order": null,
      "overflow": null,
      "overflow_x": null,
      "overflow_y": null,
      "padding": null,
      "right": null,
      "top": null,
      "visibility": null,
      "width": null
     }
    },
    "0bf7122fa48f495386ac279a05130eb8": {
     "model_module": "@jupyter-widgets/controls",
     "model_module_version": "1.5.0",
     "model_name": "DescriptionStyleModel",
     "state": {
      "_model_module": "@jupyter-widgets/controls",
      "_model_module_version": "1.5.0",
      "_model_name": "DescriptionStyleModel",
      "_view_count": null,
      "_view_module": "@jupyter-widgets/base",
      "_view_module_version": "1.2.0",
      "_view_name": "StyleView",
      "description_width": ""
     }
    },
    "186c076a054e410ea1e1bf090e2eae3c": {
     "model_module": "@jupyter-widgets/base",
     "model_module_version": "1.2.0",
     "model_name": "LayoutModel",
     "state": {
      "_model_module": "@jupyter-widgets/base",
      "_model_module_version": "1.2.0",
      "_model_name": "LayoutModel",
      "_view_count": null,
      "_view_module": "@jupyter-widgets/base",
      "_view_module_version": "1.2.0",
      "_view_name": "LayoutView",
      "align_content": null,
      "align_items": null,
      "align_self": null,
      "border": null,
      "bottom": null,
      "display": null,
      "flex": null,
      "flex_flow": null,
      "grid_area": null,
      "grid_auto_columns": null,
      "grid_auto_flow": null,
      "grid_auto_rows": null,
      "grid_column": null,
      "grid_gap": null,
      "grid_row": null,
      "grid_template_areas": null,
      "grid_template_columns": null,
      "grid_template_rows": null,
      "height": null,
      "justify_content": null,
      "justify_items": null,
      "left": null,
      "margin": null,
      "max_height": null,
      "max_width": null,
      "min_height": null,
      "min_width": null,
      "object_fit": null,
      "object_position": null,
      "order": null,
      "overflow": null,
      "overflow_x": null,
      "overflow_y": null,
      "padding": null,
      "right": null,
      "top": null,
      "visibility": null,
      "width": null
     }
    },
    "1e13d708b1284455913b8961b610794c": {
     "model_module": "@jupyter-widgets/base",
     "model_module_version": "1.2.0",
     "model_name": "LayoutModel",
     "state": {
      "_model_module": "@jupyter-widgets/base",
      "_model_module_version": "1.2.0",
      "_model_name": "LayoutModel",
      "_view_count": null,
      "_view_module": "@jupyter-widgets/base",
      "_view_module_version": "1.2.0",
      "_view_name": "LayoutView",
      "align_content": null,
      "align_items": null,
      "align_self": null,
      "border": null,
      "bottom": null,
      "display": null,
      "flex": null,
      "flex_flow": null,
      "grid_area": null,
      "grid_auto_columns": null,
      "grid_auto_flow": null,
      "grid_auto_rows": null,
      "grid_column": null,
      "grid_gap": null,
      "grid_row": null,
      "grid_template_areas": null,
      "grid_template_columns": null,
      "grid_template_rows": null,
      "height": null,
      "justify_content": null,
      "justify_items": null,
      "left": null,
      "margin": null,
      "max_height": null,
      "max_width": null,
      "min_height": null,
      "min_width": null,
      "object_fit": null,
      "object_position": null,
      "order": null,
      "overflow": null,
      "overflow_x": null,
      "overflow_y": null,
      "padding": null,
      "right": null,
      "top": null,
      "visibility": null,
      "width": null
     }
    },
    "244c5a7a69d64c3a8607e6b969c0dc83": {
     "model_module": "@jupyter-widgets/controls",
     "model_module_version": "1.5.0",
     "model_name": "ButtonStyleModel",
     "state": {
      "_model_module": "@jupyter-widgets/controls",
      "_model_module_version": "1.5.0",
      "_model_name": "ButtonStyleModel",
      "_view_count": null,
      "_view_module": "@jupyter-widgets/base",
      "_view_module_version": "1.2.0",
      "_view_name": "StyleView",
      "button_color": null,
      "font_weight": ""
     }
    },
    "2bca00ae545b49388deefa0cdf3e97ad": {
     "model_module": "@jupyter-widgets/controls",
     "model_module_version": "1.5.0",
     "model_name": "FloatProgressModel",
     "state": {
      "_dom_classes": [],
      "_model_module": "@jupyter-widgets/controls",
      "_model_module_version": "1.5.0",
      "_model_name": "FloatProgressModel",
      "_view_count": null,
      "_view_module": "@jupyter-widgets/controls",
      "_view_module_version": "1.5.0",
      "_view_name": "ProgressView",
      "bar_style": "success",
      "description": "",
      "description_tooltip": null,
      "layout": "IPY_MODEL_01c7ee96383943989ab72b148adc577b",
      "max": 3,
      "min": 0,
      "orientation": "horizontal",
      "style": "IPY_MODEL_a7485ee7bf0146aa8de5b85a88a7b75a",
      "value": 3
     }
    },
    "2e72a4541202468da73f14f728aa9094": {
     "model_module": "@jupyter-widgets/controls",
     "model_module_version": "1.5.0",
     "model_name": "HBoxModel",
     "state": {
      "_dom_classes": [],
      "_model_module": "@jupyter-widgets/controls",
      "_model_module_version": "1.5.0",
      "_model_name": "HBoxModel",
      "_view_count": null,
      "_view_module": "@jupyter-widgets/controls",
      "_view_module_version": "1.5.0",
      "_view_name": "HBoxView",
      "box_style": "",
      "children": [
       "IPY_MODEL_59a4cf248ae945cd82caaa3c7ab0c94f",
       "IPY_MODEL_2bca00ae545b49388deefa0cdf3e97ad",
       "IPY_MODEL_4273f177b5824c4b93c285e20742e3ba"
      ],
      "layout": "IPY_MODEL_e400f61fbc794d1993a0add16c3b1696"
     }
    },
    "3b984ace2d424c4d9ff2939f82f6f946": {
     "model_module": "@jupyter-widgets/controls",
     "model_module_version": "1.5.0",
     "model_name": "ProgressStyleModel",
     "state": {
      "_model_module": "@jupyter-widgets/controls",
      "_model_module_version": "1.5.0",
      "_model_name": "ProgressStyleModel",
      "_view_count": null,
      "_view_module": "@jupyter-widgets/base",
      "_view_module_version": "1.2.0",
      "_view_name": "StyleView",
      "bar_color": null,
      "description_width": ""
     }
    },
    "3f5435cd91ed418b932261f04fb7218c": {
     "model_module": "@jupyter-widgets/controls",
     "model_module_version": "1.5.0",
     "model_name": "HTMLModel",
     "state": {
      "_dom_classes": [],
      "_model_module": "@jupyter-widgets/controls",
      "_model_module_version": "1.5.0",
      "_model_name": "HTMLModel",
      "_view_count": null,
      "_view_module": "@jupyter-widgets/controls",
      "_view_module_version": "1.5.0",
      "_view_name": "HTMLView",
      "description": "",
      "description_tooltip": null,
      "layout": "IPY_MODEL_d17e8a2dd58842e3a57247333069cd6a",
      "placeholder": "​",
      "style": "IPY_MODEL_6aa7465b4088494b9983cd9ada66d18c",
      "value": "100%"
     }
    },
    "4273f177b5824c4b93c285e20742e3ba": {
     "model_module": "@jupyter-widgets/controls",
     "model_module_version": "1.5.0",
     "model_name": "HTMLModel",
     "state": {
      "_dom_classes": [],
      "_model_module": "@jupyter-widgets/controls",
      "_model_module_version": "1.5.0",
      "_model_name": "HTMLModel",
      "_view_count": null,
      "_view_module": "@jupyter-widgets/controls",
      "_view_module_version": "1.5.0",
      "_view_name": "HTMLView",
      "description": "",
      "description_tooltip": null,
      "layout": "IPY_MODEL_1e13d708b1284455913b8961b610794c",
      "placeholder": "​",
      "style": "IPY_MODEL_0bf7122fa48f495386ac279a05130eb8",
      "value": " 3/3 [01:51&lt;00:00, 38.12s/it]"
     }
    },
    "46e98b184b3a40a8a79e71c7785d570d": {
     "model_module": "@jupyter-widgets/base",
     "model_module_version": "1.2.0",
     "model_name": "LayoutModel",
     "state": {
      "_model_module": "@jupyter-widgets/base",
      "_model_module_version": "1.2.0",
      "_model_name": "LayoutModel",
      "_view_count": null,
      "_view_module": "@jupyter-widgets/base",
      "_view_module_version": "1.2.0",
      "_view_name": "LayoutView",
      "align_content": null,
      "align_items": null,
      "align_self": null,
      "border": null,
      "bottom": null,
      "display": null,
      "flex": null,
      "flex_flow": null,
      "grid_area": null,
      "grid_auto_columns": null,
      "grid_auto_flow": null,
      "grid_auto_rows": null,
      "grid_column": null,
      "grid_gap": null,
      "grid_row": null,
      "grid_template_areas": null,
      "grid_template_columns": null,
      "grid_template_rows": null,
      "height": null,
      "justify_content": null,
      "justify_items": null,
      "left": null,
      "margin": null,
      "max_height": null,
      "max_width": null,
      "min_height": null,
      "min_width": null,
      "object_fit": null,
      "object_position": null,
      "order": null,
      "overflow": null,
      "overflow_x": null,
      "overflow_y": null,
      "padding": null,
      "right": null,
      "top": null,
      "visibility": null,
      "width": null
     }
    },
    "53e2066e8509457f99382630a507f430": {
     "model_module": "@jupyter-widgets/controls",
     "model_module_version": "1.5.0",
     "model_name": "ProgressStyleModel",
     "state": {
      "_model_module": "@jupyter-widgets/controls",
      "_model_module_version": "1.5.0",
      "_model_name": "ProgressStyleModel",
      "_view_count": null,
      "_view_module": "@jupyter-widgets/base",
      "_view_module_version": "1.2.0",
      "_view_name": "StyleView",
      "bar_color": null,
      "description_width": ""
     }
    },
    "5889a64b83ff4662af28d1f5d9f29cbc": {
     "model_module": "@jupyter-widgets/controls",
     "model_module_version": "1.5.0",
     "model_name": "HTMLModel",
     "state": {
      "_dom_classes": [],
      "_model_module": "@jupyter-widgets/controls",
      "_model_module_version": "1.5.0",
      "_model_name": "HTMLModel",
      "_view_count": null,
      "_view_module": "@jupyter-widgets/controls",
      "_view_module_version": "1.5.0",
      "_view_name": "HTMLView",
      "description": "",
      "description_tooltip": null,
      "layout": "IPY_MODEL_186c076a054e410ea1e1bf090e2eae3c",
      "placeholder": "​",
      "style": "IPY_MODEL_d04732244275429f840ca298ea875ab4",
      "value": " 15/15 [00:00&lt;00:00, 61.39it/s]"
     }
    },
    "59a4cf248ae945cd82caaa3c7ab0c94f": {
     "model_module": "@jupyter-widgets/controls",
     "model_module_version": "1.5.0",
     "model_name": "HTMLModel",
     "state": {
      "_dom_classes": [],
      "_model_module": "@jupyter-widgets/controls",
      "_model_module_version": "1.5.0",
      "_model_name": "HTMLModel",
      "_view_count": null,
      "_view_module": "@jupyter-widgets/controls",
      "_view_module_version": "1.5.0",
      "_view_name": "HTMLView",
      "description": "",
      "description_tooltip": null,
      "layout": "IPY_MODEL_46e98b184b3a40a8a79e71c7785d570d",
      "placeholder": "​",
      "style": "IPY_MODEL_6d3d0d1137094c79acea627567e000e7",
      "value": "cases: 100%"
     }
    },
    "63cbd83d18b44d018264dcb9bc1fa609": {
     "model_module": "@jupyter-widgets/controls",
     "model_module_version": "1.5.0",
     "model_name": "FloatProgressModel",
     "state": {
      "_dom_classes": [],
      "_model_module": "@jupyter-widgets/controls",
      "_model_module_version": "1.5.0",
      "_model_name": "FloatProgressModel",
      "_view_count": null,
      "_view_module": "@jupyter-widgets/controls",
      "_view_module_version": "1.5.0",
      "_view_name": "ProgressView",
      "bar_style": "success",
      "description": "",
      "description_tooltip": null,
      "layout": "IPY_MODEL_fa1ac182f3b94a1490a8b198d57e22a2",
      "max": 15,
      "min": 0,
      "orientation": "horizontal",
      "style": "IPY_MODEL_53e2066e8509457f99382630a507f430",
      "value": 15
     }
    },
    "659ec2e347b24948a37090fede618189": {
     "model_module": "@jupyter-widgets/base",
     "model_module_version": "1.2.0",
     "model_name": "LayoutModel",
     "state": {
      "_model_module": "@jupyter-widgets/base",
      "_model_module_version": "1.2.0",
      "_model_name": "LayoutModel",
      "_view_count": null,
      "_view_module": "@jupyter-widgets/base",
      "_view_module_version": "1.2.0",
      "_view_name": "LayoutView",
      "align_content": null,
      "align_items": null,
      "align_self": null,
      "border": null,
      "bottom": null,
      "display": null,
      "flex": null,
      "flex_flow": null,
      "grid_area": null,
      "grid_auto_columns": null,
      "grid_auto_flow": null,
      "grid_auto_rows": null,
      "grid_column": null,
      "grid_gap": null,
      "grid_row": null,
      "grid_template_areas": null,
      "grid_template_columns": null,
      "grid_template_rows": null,
      "height": null,
      "justify_content": null,
      "justify_items": null,
      "left": null,
      "margin": null,
      "max_height": null,
      "max_width": null,
      "min_height": null,
      "min_width": null,
      "object_fit": null,
      "object_position": null,
      "order": null,
      "overflow": null,
      "overflow_x": null,
      "overflow_y": null,
      "padding": null,
      "right": null,
      "top": null,
      "visibility": null,
      "width": null
     }
    },
    "6aa7465b4088494b9983cd9ada66d18c": {
     "model_module": "@jupyter-widgets/controls",
     "model_module_version": "1.5.0",
     "model_name": "DescriptionStyleModel",
     "state": {
      "_model_module": "@jupyter-widgets/controls",
      "_model_module_version": "1.5.0",
      "_model_name": "DescriptionStyleModel",
      "_view_count": null,
      "_view_module": "@jupyter-widgets/base",
      "_view_module_version": "1.2.0",
      "_view_name": "StyleView",
      "description_width": ""
     }
    },
    "6d3d0d1137094c79acea627567e000e7": {
     "model_module": "@jupyter-widgets/controls",
     "model_module_version": "1.5.0",
     "model_name": "DescriptionStyleModel",
     "state": {
      "_model_module": "@jupyter-widgets/controls",
      "_model_module_version": "1.5.0",
      "_model_name": "DescriptionStyleModel",
      "_view_count": null,
      "_view_module": "@jupyter-widgets/base",
      "_view_module_version": "1.2.0",
      "_view_name": "StyleView",
      "description_width": ""
     }
    },
    "720e57aa28bc4b6eb403949139654ed7": {
     "model_module": "@jupyter-widgets/controls",
     "model_module_version": "1.5.0",
     "model_name": "HTMLModel",
     "state": {
      "_dom_classes": [],
      "_model_module": "@jupyter-widgets/controls",
      "_model_module_version": "1.5.0",
      "_model_name": "HTMLModel",
      "_view_count": null,
      "_view_module": "@jupyter-widgets/controls",
      "_view_module_version": "1.5.0",
      "_view_name": "HTMLView",
      "description": "",
      "description_tooltip": null,
      "layout": "IPY_MODEL_d07982632af64eec9a26cb6adf20a49c",
      "placeholder": "​",
      "style": "IPY_MODEL_c01514b790624ba080e19c28107bd045",
      "value": " 16/16 [00:00&lt;00:00, 22.47it/s]"
     }
    },
    "7359b98511f643dcaa3921033ffe3479": {
     "model_module": "@jupyter-widgets/controls",
     "model_module_version": "1.5.0",
     "model_name": "FloatProgressModel",
     "state": {
      "_dom_classes": [],
      "_model_module": "@jupyter-widgets/controls",
      "_model_module_version": "1.5.0",
      "_model_name": "FloatProgressModel",
      "_view_count": null,
      "_view_module": "@jupyter-widgets/controls",
      "_view_module_version": "1.5.0",
      "_view_name": "ProgressView",
      "bar_style": "success",
      "description": "",
      "description_tooltip": null,
      "layout": "IPY_MODEL_e094086b9ba4410b8a4ec7c0524ee91f",
      "max": 16,
      "min": 0,
      "orientation": "horizontal",
      "style": "IPY_MODEL_3b984ace2d424c4d9ff2939f82f6f946",
      "value": 16
     }
    },
    "7b0ec03dcdc44a9db1ff68ccad024ecd": {
     "model_module": "@jupyter-widgets/base",
     "model_module_version": "1.2.0",
     "model_name": "LayoutModel",
     "state": {
      "_model_module": "@jupyter-widgets/base",
      "_model_module_version": "1.2.0",
      "_model_name": "LayoutModel",
      "_view_count": null,
      "_view_module": "@jupyter-widgets/base",
      "_view_module_version": "1.2.0",
      "_view_name": "LayoutView",
      "align_content": null,
      "align_items": null,
      "align_self": null,
      "border": null,
      "bottom": null,
      "display": null,
      "flex": null,
      "flex_flow": null,
      "grid_area": null,
      "grid_auto_columns": null,
      "grid_auto_flow": null,
      "grid_auto_rows": null,
      "grid_column": null,
      "grid_gap": null,
      "grid_row": null,
      "grid_template_areas": null,
      "grid_template_columns": null,
      "grid_template_rows": null,
      "height": null,
      "justify_content": null,
      "justify_items": null,
      "left": null,
      "margin": null,
      "max_height": null,
      "max_width": null,
      "min_height": null,
      "min_width": null,
      "object_fit": null,
      "object_position": null,
      "order": null,
      "overflow": null,
      "overflow_x": null,
      "overflow_y": null,
      "padding": null,
      "right": null,
      "top": null,
      "visibility": null,
      "width": null
     }
    },
    "948215b3ee07438f807c5434fdc80602": {
     "model_module": "@jupyter-widgets/controls",
     "model_module_version": "1.5.0",
     "model_name": "HTMLModel",
     "state": {
      "_dom_classes": [],
      "_model_module": "@jupyter-widgets/controls",
      "_model_module_version": "1.5.0",
      "_model_name": "HTMLModel",
      "_view_count": null,
      "_view_module": "@jupyter-widgets/controls",
      "_view_module_version": "1.5.0",
      "_view_name": "HTMLView",
      "description": "",
      "description_tooltip": null,
      "layout": "IPY_MODEL_7b0ec03dcdc44a9db1ff68ccad024ecd",
      "placeholder": "​",
      "style": "IPY_MODEL_a2ee44be03fc4192bff48149494c2941",
      "value": "100%"
     }
    },
    "a2ee44be03fc4192bff48149494c2941": {
     "model_module": "@jupyter-widgets/controls",
     "model_module_version": "1.5.0",
     "model_name": "DescriptionStyleModel",
     "state": {
      "_model_module": "@jupyter-widgets/controls",
      "_model_module_version": "1.5.0",
      "_model_name": "DescriptionStyleModel",
      "_view_count": null,
      "_view_module": "@jupyter-widgets/base",
      "_view_module_version": "1.2.0",
      "_view_name": "StyleView",
      "description_width": ""
     }
    },
    "a7485ee7bf0146aa8de5b85a88a7b75a": {
     "model_module": "@jupyter-widgets/controls",
     "model_module_version": "1.5.0",
     "model_name": "ProgressStyleModel",
     "state": {
      "_model_module": "@jupyter-widgets/controls",
      "_model_module_version": "1.5.0",
      "_model_name": "ProgressStyleModel",
      "_view_count": null,
      "_view_module": "@jupyter-widgets/base",
      "_view_module_version": "1.2.0",
      "_view_name": "StyleView",
      "bar_color": null,
      "description_width": ""
     }
    },
    "b42d5c3f41a346e192d791f35c21d019": {
     "model_module": "@jupyter-widgets/controls",
     "model_module_version": "1.5.0",
     "model_name": "HBoxModel",
     "state": {
      "_dom_classes": [],
      "_model_module": "@jupyter-widgets/controls",
      "_model_module_version": "1.5.0",
      "_model_name": "HBoxModel",
      "_view_count": null,
      "_view_module": "@jupyter-widgets/controls",
      "_view_module_version": "1.5.0",
      "_view_name": "HBoxView",
      "box_style": "",
      "children": [
       "IPY_MODEL_948215b3ee07438f807c5434fdc80602",
       "IPY_MODEL_7359b98511f643dcaa3921033ffe3479",
       "IPY_MODEL_720e57aa28bc4b6eb403949139654ed7"
      ],
      "layout": "IPY_MODEL_659ec2e347b24948a37090fede618189"
     }
    },
    "c01514b790624ba080e19c28107bd045": {
     "model_module": "@jupyter-widgets/controls",
     "model_module_version": "1.5.0",
     "model_name": "DescriptionStyleModel",
     "state": {
      "_model_module": "@jupyter-widgets/controls",
      "_model_module_version": "1.5.0",
      "_model_name": "DescriptionStyleModel",
      "_view_count": null,
      "_view_module": "@jupyter-widgets/base",
      "_view_module_version": "1.2.0",
      "_view_name": "StyleView",
      "description_width": ""
     }
    },
    "d04732244275429f840ca298ea875ab4": {
     "model_module": "@jupyter-widgets/controls",
     "model_module_version": "1.5.0",
     "model_name": "DescriptionStyleModel",
     "state": {
      "_model_module": "@jupyter-widgets/controls",
      "_model_module_version": "1.5.0",
      "_model_name": "DescriptionStyleModel",
      "_view_count": null,
      "_view_module": "@jupyter-widgets/base",
      "_view_module_version": "1.2.0",
      "_view_name": "StyleView",
      "description_width": ""
     }
    },
    "d07982632af64eec9a26cb6adf20a49c": {
     "model_module": "@jupyter-widgets/base",
     "model_module_version": "1.2.0",
     "model_name": "LayoutModel",
     "state": {
      "_model_module": "@jupyter-widgets/base",
      "_model_module_version": "1.2.0",
      "_model_name": "LayoutModel",
      "_view_count": null,
      "_view_module": "@jupyter-widgets/base",
      "_view_module_version": "1.2.0",
      "_view_name": "LayoutView",
      "align_content": null,
      "align_items": null,
      "align_self": null,
      "border": null,
      "bottom": null,
      "display": null,
      "flex": null,
      "flex_flow": null,
      "grid_area": null,
      "grid_auto_columns": null,
      "grid_auto_flow": null,
      "grid_auto_rows": null,
      "grid_column": null,
      "grid_gap": null,
      "grid_row": null,
      "grid_template_areas": null,
      "grid_template_columns": null,
      "grid_template_rows": null,
      "height": null,
      "justify_content": null,
      "justify_items": null,
      "left": null,
      "margin": null,
      "max_height": null,
      "max_width": null,
      "min_height": null,
      "min_width": null,
      "object_fit": null,
      "object_position": null,
      "order": null,
      "overflow": null,
      "overflow_x": null,
      "overflow_y": null,
      "padding": null,
      "right": null,
      "top": null,
      "visibility": null,
      "width": null
     }
    },
    "d17e8a2dd58842e3a57247333069cd6a": {
     "model_module": "@jupyter-widgets/base",
     "model_module_version": "1.2.0",
     "model_name": "LayoutModel",
     "state": {
      "_model_module": "@jupyter-widgets/base",
      "_model_module_version": "1.2.0",
      "_model_name": "LayoutModel",
      "_view_count": null,
      "_view_module": "@jupyter-widgets/base",
      "_view_module_version": "1.2.0",
      "_view_name": "LayoutView",
      "align_content": null,
      "align_items": null,
      "align_self": null,
      "border": null,
      "bottom": null,
      "display": null,
      "flex": null,
      "flex_flow": null,
      "grid_area": null,
      "grid_auto_columns": null,
      "grid_auto_flow": null,
      "grid_auto_rows": null,
      "grid_column": null,
      "grid_gap": null,
      "grid_row": null,
      "grid_template_areas": null,
      "grid_template_columns": null,
      "grid_template_rows": null,
      "height": null,
      "justify_content": null,
      "justify_items": null,
      "left": null,
      "margin": null,
      "max_height": null,
      "max_width": null,
      "min_height": null,
      "min_width": null,
      "object_fit": null,
      "object_position": null,
      "order": null,
      "overflow": null,
      "overflow_x": null,
      "overflow_y": null,
      "padding": null,
      "right": null,
      "top": null,
      "visibility": null,
      "width": null
     }
    },
    "d831b3f8c4a14cddbf88a8fd0b6229b1": {
     "model_module": "@jupyter-widgets/controls",
     "model_module_version": "1.5.0",
     "model_name": "ButtonModel",
     "state": {
      "_dom_classes": [],
      "_model_module": "@jupyter-widgets/controls",
      "_model_module_version": "1.5.0",
      "_model_name": "ButtonModel",
      "_view_count": null,
      "_view_module": "@jupyter-widgets/controls",
      "_view_module_version": "1.5.0",
      "_view_name": "ButtonView",
      "button_style": "",
      "description": "Yes",
      "disabled": false,
      "icon": "",
      "layout": "IPY_MODEL_f6b93f950ff14f0c94f0151bb67dcd9a",
      "style": "IPY_MODEL_244c5a7a69d64c3a8607e6b969c0dc83",
      "tooltip": ""
     }
    },
    "e07d7560706b49adbcaa0afed47a934d": {
     "model_module": "@jupyter-widgets/controls",
     "model_module_version": "1.5.0",
     "model_name": "HBoxModel",
     "state": {
      "_dom_classes": [],
      "_model_module": "@jupyter-widgets/controls",
      "_model_module_version": "1.5.0",
      "_model_name": "HBoxModel",
      "_view_count": null,
      "_view_module": "@jupyter-widgets/controls",
      "_view_module_version": "1.5.0",
      "_view_name": "HBoxView",
      "box_style": "",
      "children": [
       "IPY_MODEL_3f5435cd91ed418b932261f04fb7218c",
       "IPY_MODEL_63cbd83d18b44d018264dcb9bc1fa609",
       "IPY_MODEL_5889a64b83ff4662af28d1f5d9f29cbc"
      ],
      "layout": "IPY_MODEL_f851eeb293284deb8032c5409d574433"
     }
    },
    "e094086b9ba4410b8a4ec7c0524ee91f": {
     "model_module": "@jupyter-widgets/base",
     "model_module_version": "1.2.0",
     "model_name": "LayoutModel",
     "state": {
      "_model_module": "@jupyter-widgets/base",
      "_model_module_version": "1.2.0",
      "_model_name": "LayoutModel",
      "_view_count": null,
      "_view_module": "@jupyter-widgets/base",
      "_view_module_version": "1.2.0",
      "_view_name": "LayoutView",
      "align_content": null,
      "align_items": null,
      "align_self": null,
      "border": null,
      "bottom": null,
      "display": null,
      "flex": null,
      "flex_flow": null,
      "grid_area": null,
      "grid_auto_columns": null,
      "grid_auto_flow": null,
      "grid_auto_rows": null,
      "grid_column": null,
      "grid_gap": null,
      "grid_row": null,
      "grid_template_areas": null,
      "grid_template_columns": null,
      "grid_template_rows": null,
      "height": null,
      "justify_content": null,
      "justify_items": null,
      "left": null,
      "margin": null,
      "max_height": null,
      "max_width": null,
      "min_height": null,
      "min_width": null,
      "object_fit": null,
      "object_position": null,
      "order": null,
      "overflow": null,
      "overflow_x": null,
      "overflow_y": null,
      "padding": null,
      "right": null,
      "top": null,
      "visibility": null,
      "width": null
     }
    },
    "e400f61fbc794d1993a0add16c3b1696": {
     "model_module": "@jupyter-widgets/base",
     "model_module_version": "1.2.0",
     "model_name": "LayoutModel",
     "state": {
      "_model_module": "@jupyter-widgets/base",
      "_model_module_version": "1.2.0",
      "_model_name": "LayoutModel",
      "_view_count": null,
      "_view_module": "@jupyter-widgets/base",
      "_view_module_version": "1.2.0",
      "_view_name": "LayoutView",
      "align_content": null,
      "align_items": null,
      "align_self": null,
      "border": null,
      "bottom": null,
      "display": null,
      "flex": null,
      "flex_flow": null,
      "grid_area": null,
      "grid_auto_columns": null,
      "grid_auto_flow": null,
      "grid_auto_rows": null,
      "grid_column": null,
      "grid_gap": null,
      "grid_row": null,
      "grid_template_areas": null,
      "grid_template_columns": null,
      "grid_template_rows": null,
      "height": null,
      "justify_content": null,
      "justify_items": null,
      "left": null,
      "margin": null,
      "max_height": null,
      "max_width": null,
      "min_height": null,
      "min_width": null,
      "object_fit": null,
      "object_position": null,
      "order": null,
      "overflow": null,
      "overflow_x": null,
      "overflow_y": null,
      "padding": null,
      "right": null,
      "top": null,
      "visibility": null,
      "width": null
     }
    },
    "f6b93f950ff14f0c94f0151bb67dcd9a": {
     "model_module": "@jupyter-widgets/base",
     "model_module_version": "1.2.0",
     "model_name": "LayoutModel",
     "state": {
      "_model_module": "@jupyter-widgets/base",
      "_model_module_version": "1.2.0",
      "_model_name": "LayoutModel",
      "_view_count": null,
      "_view_module": "@jupyter-widgets/base",
      "_view_module_version": "1.2.0",
      "_view_name": "LayoutView",
      "align_content": null,
      "align_items": null,
      "align_self": null,
      "border": null,
      "bottom": null,
      "display": null,
      "flex": null,
      "flex_flow": null,
      "grid_area": null,
      "grid_auto_columns": null,
      "grid_auto_flow": null,
      "grid_auto_rows": null,
      "grid_column": null,
      "grid_gap": null,
      "grid_row": null,
      "grid_template_areas": null,
      "grid_template_columns": null,
      "grid_template_rows": null,
      "height": null,
      "justify_content": null,
      "justify_items": null,
      "left": null,
      "margin": null,
      "max_height": null,
      "max_width": null,
      "min_height": null,
      "min_width": null,
      "object_fit": null,
      "object_position": null,
      "order": null,
      "overflow": null,
      "overflow_x": null,
      "overflow_y": null,
      "padding": null,
      "right": null,
      "top": null,
      "visibility": null,
      "width": null
     }
    },
    "f851eeb293284deb8032c5409d574433": {
     "model_module": "@jupyter-widgets/base",
     "model_module_version": "1.2.0",
     "model_name": "LayoutModel",
     "state": {
      "_model_module": "@jupyter-widgets/base",
      "_model_module_version": "1.2.0",
      "_model_name": "LayoutModel",
      "_view_count": null,
      "_view_module": "@jupyter-widgets/base",
      "_view_module_version": "1.2.0",
      "_view_name": "LayoutView",
      "align_content": null,
      "align_items": null,
      "align_self": null,
      "border": null,
      "bottom": null,
      "display": null,
      "flex": null,
      "flex_flow": null,
      "grid_area": null,
      "grid_auto_columns": null,
      "grid_auto_flow": null,
      "grid_auto_rows": null,
      "grid_column": null,
      "grid_gap": null,
      "grid_row": null,
      "grid_template_areas": null,
      "grid_template_columns": null,
      "grid_template_rows": null,
      "height": null,
      "justify_content": null,
      "justify_items": null,
      "left": null,
      "margin": null,
      "max_height": null,
      "max_width": null,
      "min_height": null,
      "min_width": null,
      "object_fit": null,
      "object_position": null,
      "order": null,
      "overflow": null,
      "overflow_x": null,
      "overflow_y": null,
      "padding": null,
      "right": null,
      "top": null,
      "visibility": null,
      "width": null
     }
    },
    "fa1ac182f3b94a1490a8b198d57e22a2": {
     "model_module": "@jupyter-widgets/base",
     "model_module_version": "1.2.0",
     "model_name": "LayoutModel",
     "state": {
      "_model_module": "@jupyter-widgets/base",
      "_model_module_version": "1.2.0",
      "_model_name": "LayoutModel",
      "_view_count": null,
      "_view_module": "@jupyter-widgets/base",
      "_view_module_version": "1.2.0",
      "_view_name": "LayoutView",
      "align_content": null,
      "align_items": null,
      "align_self": null,
      "border": null,
      "bottom": null,
      "display": null,
      "flex": null,
      "flex_flow": null,
      "grid_area": null,
      "grid_auto_columns": null,
      "grid_auto_flow": null,
      "grid_auto_rows": null,
      "grid_column": null,
      "grid_gap": null,
      "grid_row": null,
      "grid_template_areas": null,
      "grid_template_columns": null,
      "grid_template_rows": null,
      "height": null,
      "justify_content": null,
      "justify_items": null,
      "left": null,
      "margin": null,
      "max_height": null,
      "max_width": null,
      "min_height": null,
      "min_width": null,
      "object_fit": null,
      "object_position": null,
      "order": null,
      "overflow": null,
      "overflow_x": null,
      "overflow_y": null,
      "padding": null,
      "right": null,
      "top": null,
      "visibility": null,
      "width": null
     }
    }
   }
  }
 },
 "nbformat": 4,
 "nbformat_minor": 1
}
